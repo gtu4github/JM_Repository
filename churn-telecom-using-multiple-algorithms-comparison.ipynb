{
 "cells": [
  {
   "cell_type": "code",
   "execution_count": 2,
   "metadata": {},
   "outputs": [],
   "source": [
    "import pandas as pd\n",
    "import os"
   ]
  },
  {
   "cell_type": "code",
   "execution_count": 10,
   "metadata": {},
   "outputs": [
    {
     "name": "stdout",
     "output_type": "stream",
     "text": [
      "Customer_Curn_Telco1.txt\n"
     ]
    }
   ],
   "source": [
    "for file in os.listdir('/Users/jm186072/Documents/DataScience/datasets/'):\n",
    "    #print(file)\n",
    "    if 'Customer' in file:\n",
    "        print (file)\n",
    "        break"
   ]
  },
  {
   "cell_type": "code",
   "execution_count": 11,
   "metadata": {},
   "outputs": [
    {
     "data": {
      "text/plain": [
       "'Customer_Curn_Telco1.txt'"
      ]
     },
     "execution_count": 11,
     "metadata": {},
     "output_type": "execute_result"
    }
   ],
   "source": [
    "file"
   ]
  },
  {
   "cell_type": "code",
   "execution_count": 14,
   "metadata": {},
   "outputs": [],
   "source": [
    "data = pd.read_csv('/Users/jm186072/Documents/DataScience/datasets/Customer_Curn_Telco1.txt')"
   ]
  },
  {
   "cell_type": "code",
   "execution_count": 158,
   "metadata": {
    "scrolled": true
   },
   "outputs": [
    {
     "data": {
      "text/html": [
       "<div>\n",
       "<style scoped>\n",
       "    .dataframe tbody tr th:only-of-type {\n",
       "        vertical-align: middle;\n",
       "    }\n",
       "\n",
       "    .dataframe tbody tr th {\n",
       "        vertical-align: top;\n",
       "    }\n",
       "\n",
       "    .dataframe thead th {\n",
       "        text-align: right;\n",
       "    }\n",
       "</style>\n",
       "<table border=\"1\" class=\"dataframe\">\n",
       "  <thead>\n",
       "    <tr style=\"text-align: right;\">\n",
       "      <th></th>\n",
       "      <th>State</th>\n",
       "      <th>Account Length</th>\n",
       "      <th>Area Code</th>\n",
       "      <th>Phone</th>\n",
       "      <th>Int'l Plan</th>\n",
       "      <th>VMail Plan</th>\n",
       "      <th>VMail Message</th>\n",
       "      <th>Day Mins</th>\n",
       "      <th>Day Calls</th>\n",
       "      <th>Day Charge</th>\n",
       "      <th>...</th>\n",
       "      <th>Eve Calls</th>\n",
       "      <th>Eve Charge</th>\n",
       "      <th>Night Mins</th>\n",
       "      <th>Night Calls</th>\n",
       "      <th>Night Charge</th>\n",
       "      <th>Intl Mins</th>\n",
       "      <th>Intl Calls</th>\n",
       "      <th>Intl Charge</th>\n",
       "      <th>CustServ Calls</th>\n",
       "      <th>churn</th>\n",
       "    </tr>\n",
       "  </thead>\n",
       "  <tbody>\n",
       "    <tr>\n",
       "      <th>470</th>\n",
       "      <td>NE</td>\n",
       "      <td>44</td>\n",
       "      <td>415</td>\n",
       "      <td>416-8697</td>\n",
       "      <td>0</td>\n",
       "      <td>0</td>\n",
       "      <td>0</td>\n",
       "      <td>240.3</td>\n",
       "      <td>146</td>\n",
       "      <td>40.85</td>\n",
       "      <td>...</td>\n",
       "      <td>83</td>\n",
       "      <td>13.99</td>\n",
       "      <td>240.7</td>\n",
       "      <td>106</td>\n",
       "      <td>10.83</td>\n",
       "      <td>10.6</td>\n",
       "      <td>2</td>\n",
       "      <td>2.86</td>\n",
       "      <td>1</td>\n",
       "      <td>1</td>\n",
       "    </tr>\n",
       "    <tr>\n",
       "      <th>685</th>\n",
       "      <td>CO</td>\n",
       "      <td>63</td>\n",
       "      <td>415</td>\n",
       "      <td>408-4530</td>\n",
       "      <td>0</td>\n",
       "      <td>1</td>\n",
       "      <td>32</td>\n",
       "      <td>30.9</td>\n",
       "      <td>113</td>\n",
       "      <td>5.25</td>\n",
       "      <td>...</td>\n",
       "      <td>113</td>\n",
       "      <td>15.90</td>\n",
       "      <td>230.8</td>\n",
       "      <td>101</td>\n",
       "      <td>10.39</td>\n",
       "      <td>8.6</td>\n",
       "      <td>7</td>\n",
       "      <td>2.32</td>\n",
       "      <td>1</td>\n",
       "      <td>1</td>\n",
       "    </tr>\n",
       "    <tr>\n",
       "      <th>1790</th>\n",
       "      <td>KY</td>\n",
       "      <td>125</td>\n",
       "      <td>408</td>\n",
       "      <td>328-3402</td>\n",
       "      <td>0</td>\n",
       "      <td>0</td>\n",
       "      <td>0</td>\n",
       "      <td>191.6</td>\n",
       "      <td>115</td>\n",
       "      <td>32.57</td>\n",
       "      <td>...</td>\n",
       "      <td>108</td>\n",
       "      <td>17.48</td>\n",
       "      <td>210.2</td>\n",
       "      <td>123</td>\n",
       "      <td>9.46</td>\n",
       "      <td>9.2</td>\n",
       "      <td>3</td>\n",
       "      <td>2.48</td>\n",
       "      <td>2</td>\n",
       "      <td>1</td>\n",
       "    </tr>\n",
       "    <tr>\n",
       "      <th>1716</th>\n",
       "      <td>ME</td>\n",
       "      <td>36</td>\n",
       "      <td>510</td>\n",
       "      <td>335-3110</td>\n",
       "      <td>0</td>\n",
       "      <td>1</td>\n",
       "      <td>25</td>\n",
       "      <td>152.8</td>\n",
       "      <td>110</td>\n",
       "      <td>25.98</td>\n",
       "      <td>...</td>\n",
       "      <td>67</td>\n",
       "      <td>20.64</td>\n",
       "      <td>147.4</td>\n",
       "      <td>74</td>\n",
       "      <td>6.63</td>\n",
       "      <td>9.1</td>\n",
       "      <td>2</td>\n",
       "      <td>2.46</td>\n",
       "      <td>1</td>\n",
       "      <td>1</td>\n",
       "    </tr>\n",
       "  </tbody>\n",
       "</table>\n",
       "<p>4 rows × 21 columns</p>\n",
       "</div>"
      ],
      "text/plain": [
       "     State  Account Length  Area Code     Phone  Int'l Plan  VMail Plan  \\\n",
       "470     NE              44        415  416-8697           0           0   \n",
       "685     CO              63        415  408-4530           0           1   \n",
       "1790    KY             125        408  328-3402           0           0   \n",
       "1716    ME              36        510  335-3110           0           1   \n",
       "\n",
       "      VMail Message  Day Mins  Day Calls  Day Charge  ...    Eve Calls  \\\n",
       "470               0     240.3        146       40.85  ...           83   \n",
       "685              32      30.9        113        5.25  ...          113   \n",
       "1790              0     191.6        115       32.57  ...          108   \n",
       "1716             25     152.8        110       25.98  ...           67   \n",
       "\n",
       "      Eve Charge  Night Mins  Night Calls  Night Charge  Intl Mins  \\\n",
       "470        13.99       240.7          106         10.83       10.6   \n",
       "685        15.90       230.8          101         10.39        8.6   \n",
       "1790       17.48       210.2          123          9.46        9.2   \n",
       "1716       20.64       147.4           74          6.63        9.1   \n",
       "\n",
       "      Intl Calls  Intl Charge  CustServ Calls  churn  \n",
       "470            2         2.86               1      1  \n",
       "685            7         2.32               1      1  \n",
       "1790           3         2.48               2      1  \n",
       "1716           2         2.46               1      1  \n",
       "\n",
       "[4 rows x 21 columns]"
      ]
     },
     "execution_count": 158,
     "metadata": {},
     "output_type": "execute_result"
    }
   ],
   "source": [
    "data.head(4)"
   ]
  },
  {
   "cell_type": "code",
   "execution_count": 127,
   "metadata": {},
   "outputs": [],
   "source": [
    "data.rename(columns={'Churn?':'churn'},inplace=True)"
   ]
  },
  {
   "cell_type": "code",
   "execution_count": 155,
   "metadata": {},
   "outputs": [],
   "source": [
    "#data['churn'].replace(['True.','False.'],[0,1],inplace=True)\n",
    "data[\"Int'l Plan\"].replace(['no', 'yes'], [0, 1], inplace=True)\n",
    "data[\"VMail Plan\"].replace(['no', 'yes'], [0, 1], inplace=True)"
   ]
  },
  {
   "cell_type": "code",
   "execution_count": 163,
   "metadata": {},
   "outputs": [],
   "source": [
    "data = data.drop(\"Phone\",1)"
   ]
  },
  {
   "cell_type": "code",
   "execution_count": 164,
   "metadata": {},
   "outputs": [
    {
     "name": "stdout",
     "output_type": "stream",
     "text": [
      "(3333, 20)\n"
     ]
    }
   ],
   "source": [
    "print(data.shape)"
   ]
  },
  {
   "cell_type": "code",
   "execution_count": 165,
   "metadata": {
    "scrolled": false
   },
   "outputs": [
    {
     "name": "stdout",
     "output_type": "stream",
     "text": [
      "State              object\n",
      "Account Length      int64\n",
      "Area Code           int64\n",
      "Int'l Plan          int64\n",
      "VMail Plan          int64\n",
      "VMail Message       int64\n",
      "Day Mins          float64\n",
      "Day Calls           int64\n",
      "Day Charge        float64\n",
      "Eve Mins          float64\n",
      "Eve Calls           int64\n",
      "Eve Charge        float64\n",
      "Night Mins        float64\n",
      "Night Calls         int64\n",
      "Night Charge      float64\n",
      "Intl Mins         float64\n",
      "Intl Calls          int64\n",
      "Intl Charge       float64\n",
      "CustServ Calls      int64\n",
      "churn               int64\n",
      "dtype: object\n"
     ]
    }
   ],
   "source": [
    "print(data.dtypes)"
   ]
  },
  {
   "cell_type": "code",
   "execution_count": 166,
   "metadata": {
    "scrolled": true
   },
   "outputs": [
    {
     "name": "stdout",
     "output_type": "stream",
     "text": [
      "       Account Length    Area Code   Int'l Plan   VMail Plan  VMail Message  \\\n",
      "count     3333.000000  3333.000000  3333.000000  3333.000000    3333.000000   \n",
      "mean       101.064806   437.182418     0.096910     0.276628       8.099010   \n",
      "std         39.822106    42.371290     0.295879     0.447398      13.688365   \n",
      "min          1.000000   408.000000     0.000000     0.000000       0.000000   \n",
      "25%         74.000000   408.000000     0.000000     0.000000       0.000000   \n",
      "50%        101.000000   415.000000     0.000000     0.000000       0.000000   \n",
      "75%        127.000000   510.000000     0.000000     1.000000      20.000000   \n",
      "max        243.000000   510.000000     1.000000     1.000000      51.000000   \n",
      "\n",
      "          Day Mins    Day Calls   Day Charge     Eve Mins    Eve Calls  \\\n",
      "count  3333.000000  3333.000000  3333.000000  3333.000000  3333.000000   \n",
      "mean    179.775098   100.435644    30.562307   200.980348   100.114311   \n",
      "std      54.467389    20.069084     9.259435    50.713844    19.922625   \n",
      "min       0.000000     0.000000     0.000000     0.000000     0.000000   \n",
      "25%     143.700000    87.000000    24.430000   166.600000    87.000000   \n",
      "50%     179.400000   101.000000    30.500000   201.400000   100.000000   \n",
      "75%     216.400000   114.000000    36.790000   235.300000   114.000000   \n",
      "max     350.800000   165.000000    59.640000   363.700000   170.000000   \n",
      "\n",
      "        Eve Charge   Night Mins  Night Calls  Night Charge    Intl Mins  \\\n",
      "count  3333.000000  3333.000000  3333.000000   3333.000000  3333.000000   \n",
      "mean     17.083540   200.872037   100.107711      9.039325    10.237294   \n",
      "std       4.310668    50.573847    19.568609      2.275873     2.791840   \n",
      "min       0.000000    23.200000    33.000000      1.040000     0.000000   \n",
      "25%      14.160000   167.000000    87.000000      7.520000     8.500000   \n",
      "50%      17.120000   201.200000   100.000000      9.050000    10.300000   \n",
      "75%      20.000000   235.300000   113.000000     10.590000    12.100000   \n",
      "max      30.910000   395.000000   175.000000     17.770000    20.000000   \n",
      "\n",
      "        Intl Calls  Intl Charge  CustServ Calls        churn  \n",
      "count  3333.000000  3333.000000     3333.000000  3333.000000  \n",
      "mean      4.479448     2.764581        1.562856     0.855086  \n",
      "std       2.461214     0.753773        1.315491     0.352067  \n",
      "min       0.000000     0.000000        0.000000     0.000000  \n",
      "25%       3.000000     2.300000        1.000000     1.000000  \n",
      "50%       4.000000     2.780000        1.000000     1.000000  \n",
      "75%       6.000000     3.270000        2.000000     1.000000  \n",
      "max      20.000000     5.400000        9.000000     1.000000  \n"
     ]
    }
   ],
   "source": [
    "print(data.describe())"
   ]
  },
  {
   "cell_type": "code",
   "execution_count": 167,
   "metadata": {},
   "outputs": [
    {
     "data": {
      "text/html": [
       "<div>\n",
       "<style scoped>\n",
       "    .dataframe tbody tr th:only-of-type {\n",
       "        vertical-align: middle;\n",
       "    }\n",
       "\n",
       "    .dataframe tbody tr th {\n",
       "        vertical-align: top;\n",
       "    }\n",
       "\n",
       "    .dataframe thead th {\n",
       "        text-align: right;\n",
       "    }\n",
       "</style>\n",
       "<table border=\"1\" class=\"dataframe\">\n",
       "  <thead>\n",
       "    <tr style=\"text-align: right;\">\n",
       "      <th></th>\n",
       "      <th>State</th>\n",
       "      <th>Account Length</th>\n",
       "      <th>Area Code</th>\n",
       "      <th>Int'l Plan</th>\n",
       "      <th>VMail Plan</th>\n",
       "      <th>VMail Message</th>\n",
       "      <th>Day Mins</th>\n",
       "      <th>Day Calls</th>\n",
       "      <th>Day Charge</th>\n",
       "      <th>Eve Mins</th>\n",
       "      <th>Eve Calls</th>\n",
       "      <th>Eve Charge</th>\n",
       "      <th>Night Mins</th>\n",
       "      <th>Night Calls</th>\n",
       "      <th>Night Charge</th>\n",
       "      <th>Intl Mins</th>\n",
       "      <th>Intl Calls</th>\n",
       "      <th>Intl Charge</th>\n",
       "      <th>CustServ Calls</th>\n",
       "      <th>churn</th>\n",
       "    </tr>\n",
       "  </thead>\n",
       "  <tbody>\n",
       "    <tr>\n",
       "      <th>470</th>\n",
       "      <td>NE</td>\n",
       "      <td>44</td>\n",
       "      <td>415</td>\n",
       "      <td>0</td>\n",
       "      <td>0</td>\n",
       "      <td>0</td>\n",
       "      <td>240.3</td>\n",
       "      <td>146</td>\n",
       "      <td>40.85</td>\n",
       "      <td>164.6</td>\n",
       "      <td>83</td>\n",
       "      <td>13.99</td>\n",
       "      <td>240.7</td>\n",
       "      <td>106</td>\n",
       "      <td>10.83</td>\n",
       "      <td>10.6</td>\n",
       "      <td>2</td>\n",
       "      <td>2.86</td>\n",
       "      <td>1</td>\n",
       "      <td>1</td>\n",
       "    </tr>\n",
       "    <tr>\n",
       "      <th>685</th>\n",
       "      <td>CO</td>\n",
       "      <td>63</td>\n",
       "      <td>415</td>\n",
       "      <td>0</td>\n",
       "      <td>1</td>\n",
       "      <td>32</td>\n",
       "      <td>30.9</td>\n",
       "      <td>113</td>\n",
       "      <td>5.25</td>\n",
       "      <td>187.0</td>\n",
       "      <td>113</td>\n",
       "      <td>15.90</td>\n",
       "      <td>230.8</td>\n",
       "      <td>101</td>\n",
       "      <td>10.39</td>\n",
       "      <td>8.6</td>\n",
       "      <td>7</td>\n",
       "      <td>2.32</td>\n",
       "      <td>1</td>\n",
       "      <td>1</td>\n",
       "    </tr>\n",
       "    <tr>\n",
       "      <th>1790</th>\n",
       "      <td>KY</td>\n",
       "      <td>125</td>\n",
       "      <td>408</td>\n",
       "      <td>0</td>\n",
       "      <td>0</td>\n",
       "      <td>0</td>\n",
       "      <td>191.6</td>\n",
       "      <td>115</td>\n",
       "      <td>32.57</td>\n",
       "      <td>205.6</td>\n",
       "      <td>108</td>\n",
       "      <td>17.48</td>\n",
       "      <td>210.2</td>\n",
       "      <td>123</td>\n",
       "      <td>9.46</td>\n",
       "      <td>9.2</td>\n",
       "      <td>3</td>\n",
       "      <td>2.48</td>\n",
       "      <td>2</td>\n",
       "      <td>1</td>\n",
       "    </tr>\n",
       "    <tr>\n",
       "      <th>1716</th>\n",
       "      <td>ME</td>\n",
       "      <td>36</td>\n",
       "      <td>510</td>\n",
       "      <td>0</td>\n",
       "      <td>1</td>\n",
       "      <td>25</td>\n",
       "      <td>152.8</td>\n",
       "      <td>110</td>\n",
       "      <td>25.98</td>\n",
       "      <td>242.8</td>\n",
       "      <td>67</td>\n",
       "      <td>20.64</td>\n",
       "      <td>147.4</td>\n",
       "      <td>74</td>\n",
       "      <td>6.63</td>\n",
       "      <td>9.1</td>\n",
       "      <td>2</td>\n",
       "      <td>2.46</td>\n",
       "      <td>1</td>\n",
       "      <td>1</td>\n",
       "    </tr>\n",
       "    <tr>\n",
       "      <th>2276</th>\n",
       "      <td>VT</td>\n",
       "      <td>157</td>\n",
       "      <td>510</td>\n",
       "      <td>0</td>\n",
       "      <td>0</td>\n",
       "      <td>0</td>\n",
       "      <td>168.6</td>\n",
       "      <td>71</td>\n",
       "      <td>28.66</td>\n",
       "      <td>205.1</td>\n",
       "      <td>48</td>\n",
       "      <td>17.43</td>\n",
       "      <td>175.8</td>\n",
       "      <td>88</td>\n",
       "      <td>7.91</td>\n",
       "      <td>5.9</td>\n",
       "      <td>2</td>\n",
       "      <td>1.59</td>\n",
       "      <td>3</td>\n",
       "      <td>1</td>\n",
       "    </tr>\n",
       "  </tbody>\n",
       "</table>\n",
       "</div>"
      ],
      "text/plain": [
       "     State  Account Length  Area Code  Int'l Plan  VMail Plan  VMail Message  \\\n",
       "470     NE              44        415           0           0              0   \n",
       "685     CO              63        415           0           1             32   \n",
       "1790    KY             125        408           0           0              0   \n",
       "1716    ME              36        510           0           1             25   \n",
       "2276    VT             157        510           0           0              0   \n",
       "\n",
       "      Day Mins  Day Calls  Day Charge  Eve Mins  Eve Calls  Eve Charge  \\\n",
       "470      240.3        146       40.85     164.6         83       13.99   \n",
       "685       30.9        113        5.25     187.0        113       15.90   \n",
       "1790     191.6        115       32.57     205.6        108       17.48   \n",
       "1716     152.8        110       25.98     242.8         67       20.64   \n",
       "2276     168.6         71       28.66     205.1         48       17.43   \n",
       "\n",
       "      Night Mins  Night Calls  Night Charge  Intl Mins  Intl Calls  \\\n",
       "470        240.7          106         10.83       10.6           2   \n",
       "685        230.8          101         10.39        8.6           7   \n",
       "1790       210.2          123          9.46        9.2           3   \n",
       "1716       147.4           74          6.63        9.1           2   \n",
       "2276       175.8           88          7.91        5.9           2   \n",
       "\n",
       "      Intl Charge  CustServ Calls  churn  \n",
       "470          2.86               1      1  \n",
       "685          2.32               1      1  \n",
       "1790         2.48               2      1  \n",
       "1716         2.46               1      1  \n",
       "2276         1.59               3      1  "
      ]
     },
     "execution_count": 167,
     "metadata": {},
     "output_type": "execute_result"
    }
   ],
   "source": [
    "data.head(5)"
   ]
  },
  {
   "cell_type": "code",
   "execution_count": 133,
   "metadata": {},
   "outputs": [
    {
     "data": {
      "text/plain": [
       "array([1, 0])"
      ]
     },
     "execution_count": 133,
     "metadata": {},
     "output_type": "execute_result"
    }
   ],
   "source": [
    "data['churn'].unique()"
   ]
  },
  {
   "cell_type": "code",
   "execution_count": 134,
   "metadata": {},
   "outputs": [
    {
     "data": {
      "text/plain": [
       "churn\n",
       "0     483\n",
       "1    2850\n",
       "dtype: int64"
      ]
     },
     "execution_count": 134,
     "metadata": {},
     "output_type": "execute_result"
    }
   ],
   "source": [
    "data.groupby('churn').size()"
   ]
  },
  {
   "cell_type": "code",
   "execution_count": 69,
   "metadata": {},
   "outputs": [],
   "source": [
    "from sklearn.model_selection import train_test_split\n",
    "import numpy as np\n",
    "from sklearn import utils"
   ]
  },
  {
   "cell_type": "code",
   "execution_count": 168,
   "metadata": {},
   "outputs": [],
   "source": [
    "data = utils.shuffle(data)"
   ]
  },
  {
   "cell_type": "code",
   "execution_count": 169,
   "metadata": {},
   "outputs": [
    {
     "data": {
      "text/plain": [
       "(3333, 20)"
      ]
     },
     "execution_count": 169,
     "metadata": {},
     "output_type": "execute_result"
    }
   ],
   "source": [
    "data.shape"
   ]
  },
  {
   "cell_type": "code",
   "execution_count": 170,
   "metadata": {},
   "outputs": [
    {
     "data": {
      "text/plain": [
       "Index(['State', 'Account Length', 'Area Code', 'Int'l Plan', 'VMail Plan',\n",
       "       'VMail Message', 'Day Mins', 'Day Calls', 'Day Charge', 'Eve Mins',\n",
       "       'Eve Calls', 'Eve Charge', 'Night Mins', 'Night Calls', 'Night Charge',\n",
       "       'Intl Mins', 'Intl Calls', 'Intl Charge', 'CustServ Calls', 'churn'],\n",
       "      dtype='object')"
      ]
     },
     "execution_count": 170,
     "metadata": {},
     "output_type": "execute_result"
    }
   ],
   "source": [
    "data.columns"
   ]
  },
  {
   "cell_type": "code",
   "execution_count": 177,
   "metadata": {},
   "outputs": [],
   "source": [
    "X = data.iloc[:,1:-1]\n",
    "Y = data.iloc[:,-1]"
   ]
  },
  {
   "cell_type": "code",
   "execution_count": 145,
   "metadata": {},
   "outputs": [
    {
     "data": {
      "text/plain": [
       "470     1\n",
       "685     1\n",
       "1790    1\n",
       "1716    1\n",
       "2276    1\n",
       "3252    1\n",
       "2341    1\n",
       "778     1\n",
       "453     1\n",
       "2675    1\n",
       "3087    1\n",
       "2599    0\n",
       "1808    1\n",
       "972     1\n",
       "2640    1\n",
       "1587    1\n",
       "1151    1\n",
       "2850    1\n",
       "409     1\n",
       "2839    0\n",
       "2695    1\n",
       "2218    0\n",
       "1234    1\n",
       "1963    1\n",
       "1843    1\n",
       "1504    1\n",
       "700     1\n",
       "614     1\n",
       "1246    1\n",
       "161     1\n",
       "       ..\n",
       "1480    1\n",
       "1122    0\n",
       "2809    1\n",
       "858     1\n",
       "2533    0\n",
       "1943    1\n",
       "3004    1\n",
       "448     1\n",
       "2772    0\n",
       "1823    1\n",
       "2490    1\n",
       "2643    1\n",
       "594     1\n",
       "1770    1\n",
       "2473    1\n",
       "362     1\n",
       "984     1\n",
       "2377    0\n",
       "2188    1\n",
       "267     1\n",
       "1655    1\n",
       "725     1\n",
       "2903    1\n",
       "1517    1\n",
       "315     1\n",
       "297     1\n",
       "2488    1\n",
       "871     0\n",
       "3319    1\n",
       "2619    0\n",
       "Name: churn, Length: 3333, dtype: int64"
      ]
     },
     "execution_count": 145,
     "metadata": {},
     "output_type": "execute_result"
    }
   ],
   "source": [
    "Y"
   ]
  },
  {
   "cell_type": "code",
   "execution_count": 178,
   "metadata": {},
   "outputs": [],
   "source": [
    "X_train,X_test,Y_train,Y_test = train_test_split(X,Y,test_size = 0.3)"
   ]
  },
  {
   "cell_type": "code",
   "execution_count": 179,
   "metadata": {},
   "outputs": [
    {
     "name": "stdout",
     "output_type": "stream",
     "text": [
      "(2333, 18) (1000, 18)\n",
      "(2333,) (1000,)\n"
     ]
    }
   ],
   "source": [
    "print(X_train.shape,X_test.shape)\n",
    "print(Y_train.shape,Y_test.shape)"
   ]
  },
  {
   "cell_type": "code",
   "execution_count": 174,
   "metadata": {},
   "outputs": [
    {
     "data": {
      "text/plain": [
       "pandas.core.series.Series"
      ]
     },
     "execution_count": 174,
     "metadata": {},
     "output_type": "execute_result"
    }
   ],
   "source": [
    "type(Y_train)"
   ]
  },
  {
   "cell_type": "code",
   "execution_count": 180,
   "metadata": {},
   "outputs": [],
   "source": [
    "CART = DecisionTreeClassifier()"
   ]
  },
  {
   "cell_type": "code",
   "execution_count": 181,
   "metadata": {},
   "outputs": [
    {
     "data": {
      "text/plain": [
       "DecisionTreeClassifier(class_weight=None, criterion='gini', max_depth=None,\n",
       "            max_features=None, max_leaf_nodes=None,\n",
       "            min_impurity_decrease=0.0, min_impurity_split=None,\n",
       "            min_samples_leaf=1, min_samples_split=2,\n",
       "            min_weight_fraction_leaf=0.0, presort=False, random_state=None,\n",
       "            splitter='best')"
      ]
     },
     "execution_count": 181,
     "metadata": {},
     "output_type": "execute_result"
    }
   ],
   "source": [
    "CART.fit(X_train,Y_train)"
   ]
  },
  {
   "cell_type": "code",
   "execution_count": 182,
   "metadata": {},
   "outputs": [],
   "source": [
    "CART_predict = CART.predict(X_test)"
   ]
  },
  {
   "cell_type": "code",
   "execution_count": null,
   "metadata": {},
   "outputs": [],
   "source": [
    "#from sklearn.base import ClassifierMixin\n",
    "from sklearn.utils.testing import all_estimators\n",
    "classifier = [est for est in all_estimators()]\n",
    "print(classifier)"
   ]
  },
  {
   "cell_type": "code",
   "execution_count": 189,
   "metadata": {},
   "outputs": [],
   "source": [
    "from sklearn.metrics import accuracy_score, classification_report, confusion_matrix\n"
   ]
  },
  {
   "cell_type": "code",
   "execution_count": 191,
   "metadata": {},
   "outputs": [],
   "source": [
    "accuracy = accuracy_score(Y_test,CART_predict)\n",
    "classification_rpt = classification_report(Y_test,CART_predict)\n",
    "conf_matrix = confusion_matrix(Y_test,CART_predict)"
   ]
  },
  {
   "cell_type": "code",
   "execution_count": 192,
   "metadata": {},
   "outputs": [
    {
     "name": "stdout",
     "output_type": "stream",
     "text": [
      "Accuracy:- 0.904\n",
      "Classification Report:-\n",
      "              precision    recall  f1-score   support\n",
      "\n",
      "          0       0.72      0.66      0.69       163\n",
      "          1       0.94      0.95      0.94       837\n",
      "\n",
      "avg / total       0.90      0.90      0.90      1000\n",
      "\n",
      "Confusion Matrix:-\n",
      " [[108  55]\n",
      " [ 41 796]]\n"
     ]
    }
   ],
   "source": [
    "print('Accuracy:-',accuracy)\n",
    "print('Classification Report:-\\n',classification_rpt)\n",
    "print('Confusion Matrix:-\\n',conf_matrix)\n"
   ]
  }
 ],
 "metadata": {
  "kernelspec": {
   "display_name": "Python 3",
   "language": "python",
   "name": "python3"
  },
  "language_info": {
   "codemirror_mode": {
    "name": "ipython",
    "version": 3
   },
   "file_extension": ".py",
   "mimetype": "text/x-python",
   "name": "python",
   "nbconvert_exporter": "python",
   "pygments_lexer": "ipython3",
   "version": "3.5.5"
  }
 },
 "nbformat": 4,
 "nbformat_minor": 2
}
