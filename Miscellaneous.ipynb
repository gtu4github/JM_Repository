{
 "cells": [
  {
   "cell_type": "code",
   "execution_count": null,
   "metadata": {},
   "outputs": [],
   "source": [
    "#Things that you will find in this notebook\n",
    "#1-Euclidean distance\n"
   ]
  },
  {
   "cell_type": "code",
   "execution_count": 21,
   "metadata": {},
   "outputs": [],
   "source": [
    "import numpy as np\n",
    "from scipy.spatial import distance"
   ]
  },
  {
   "cell_type": "code",
   "execution_count": 2,
   "metadata": {},
   "outputs": [],
   "source": [
    "a = [0,1,0,0,0,0,1,0,1,0,0,0,0,0,0,0,0,0,0]"
   ]
  },
  {
   "cell_type": "code",
   "execution_count": 3,
   "metadata": {},
   "outputs": [],
   "source": [
    "b = [0,1,0,0,0,0,0,0,1,0,0,0,0,0,1,0,0,0,0]"
   ]
  },
  {
   "cell_type": "code",
   "execution_count": 16,
   "metadata": {},
   "outputs": [
    {
     "name": "stdout",
     "output_type": "stream",
     "text": [
      "Euclidean Distance 1.4142135623730951\n"
     ]
    }
   ],
   "source": [
    "print(\"Euclidean Distance\",np.sqrt(np.sum(np.square(np.array(a)-np.array(b)))))"
   ]
  },
  {
   "cell_type": "code",
   "execution_count": 20,
   "metadata": {},
   "outputs": [
    {
     "name": "stdout",
     "output_type": "stream",
     "text": [
      "Euclidean Distance 1.4142135623730951\n"
     ]
    }
   ],
   "source": [
    "print(\"Euclidean Distance\",distance.euclidean(a,b))"
   ]
  },
  {
   "cell_type": "code",
   "execution_count": 39,
   "metadata": {},
   "outputs": [],
   "source": [
    "import pandas as pd"
   ]
  },
  {
   "cell_type": "code",
   "execution_count": 44,
   "metadata": {},
   "outputs": [],
   "source": []
  },
  {
   "cell_type": "code",
   "execution_count": 42,
   "metadata": {},
   "outputs": [
    {
     "data": {
      "text/plain": [
       "numpy.ndarray"
      ]
     },
     "execution_count": 42,
     "metadata": {},
     "output_type": "execute_result"
    }
   ],
   "source": [
    "type(a)"
   ]
  },
  {
   "cell_type": "code",
   "execution_count": 43,
   "metadata": {},
   "outputs": [
    {
     "data": {
      "text/plain": [
       "14"
      ]
     },
     "execution_count": 43,
     "metadata": {},
     "output_type": "execute_result"
    }
   ],
   "source": [
    "a[0]"
   ]
  },
  {
   "cell_type": "code",
   "execution_count": 88,
   "metadata": {},
   "outputs": [],
   "source": [
    "a = []\n",
    "b = []\n",
    "a = np.random.randint(11,21,100)\n",
    "b = np.random.randint(2,11,100)\n",
    "a= np.array(a)\n",
    "b= np.array(b)"
   ]
  },
  {
   "cell_type": "code",
   "execution_count": 89,
   "metadata": {},
   "outputs": [
    {
     "name": "stdout",
     "output_type": "stream",
     "text": [
      "100\n",
      "[17 19 20 19 16 20 15 11 11 18 12 14 19 16 13 13 14 11 13 11 16 16 18 17\n",
      " 15 13 11 12 14 17 12 17 17 18 13 13 12 17 16 12 16 12 20 20 13 17 19 17\n",
      " 18 18 19 12 11 16 14 15 11 12 16 19 14 13 20 11 13 20 15 14 20 19 11 18\n",
      " 14 12 16 13 13 12 15 12 19 14 16 19 13 14 19 19 20 11 13 11 19 19 14 20\n",
      " 11 16 15 18]\n",
      "100\n",
      "[ 2  2 10  5  2  2  5  9  4  8  9 10  8  4  6  9 10  9  3  6  3 10  9 10\n",
      "  9  6  7  5  8  7  6  8  8  9  4  4  7  9  6 10 10  3  3  8  9 10  3  6\n",
      "  2  3  7  5 10 10  4  3  8  4  3  7  4  7  3 10  4  9  9  9  3 10  8  8\n",
      "  5  3 10  4 10  6  4  7  8  9  2  4  3  2  3  3  7  7  9  9 10  6  7  2\n",
      "  9  7  3  2]\n"
     ]
    }
   ],
   "source": [
    "print(len(a))\n",
    "print(a)\n",
    "print(len(b))\n",
    "print(b)\n",
    "#"
   ]
  },
  {
   "cell_type": "code",
   "execution_count": 90,
   "metadata": {},
   "outputs": [
    {
     "name": "stdout",
     "output_type": "stream",
     "text": [
      "17 X 2 = \n",
      "19 X 2 = \n",
      "20 X 10 = \n",
      "19 X 5 = \n",
      "16 X 2 = \n",
      "20 X 2 = \n",
      "15 X 5 = \n",
      "11 X 9 = \n",
      "11 X 4 = \n",
      "18 X 8 = \n",
      "12 X 9 = \n",
      "14 X 10 = \n",
      "19 X 8 = \n",
      "16 X 4 = \n",
      "13 X 6 = \n",
      "13 X 9 = \n",
      "14 X 10 = \n",
      "11 X 9 = \n",
      "13 X 3 = \n",
      "11 X 6 = \n",
      "16 X 3 = \n",
      "16 X 10 = \n",
      "18 X 9 = \n",
      "17 X 10 = \n",
      "15 X 9 = \n",
      "13 X 6 = \n",
      "11 X 7 = \n",
      "12 X 5 = \n",
      "14 X 8 = \n",
      "17 X 7 = \n",
      "12 X 6 = \n",
      "17 X 8 = \n",
      "17 X 8 = \n",
      "18 X 9 = \n",
      "13 X 4 = \n",
      "13 X 4 = \n",
      "12 X 7 = \n",
      "17 X 9 = \n",
      "16 X 6 = \n",
      "12 X 10 = \n",
      "16 X 10 = \n",
      "12 X 3 = \n",
      "20 X 3 = \n",
      "20 X 8 = \n",
      "13 X 9 = \n",
      "17 X 10 = \n",
      "19 X 3 = \n",
      "17 X 6 = \n",
      "18 X 2 = \n",
      "18 X 3 = \n",
      "19 X 7 = \n",
      "12 X 5 = \n",
      "11 X 10 = \n",
      "16 X 10 = \n",
      "14 X 4 = \n",
      "15 X 3 = \n",
      "11 X 8 = \n",
      "12 X 4 = \n",
      "16 X 3 = \n",
      "19 X 7 = \n",
      "14 X 4 = \n",
      "13 X 7 = \n",
      "20 X 3 = \n",
      "11 X 10 = \n",
      "13 X 4 = \n",
      "20 X 9 = \n",
      "15 X 9 = \n",
      "14 X 9 = \n",
      "20 X 3 = \n",
      "19 X 10 = \n",
      "11 X 8 = \n",
      "18 X 8 = \n",
      "14 X 5 = \n",
      "12 X 3 = \n",
      "16 X 10 = \n",
      "13 X 4 = \n",
      "13 X 10 = \n",
      "12 X 6 = \n",
      "15 X 4 = \n",
      "12 X 7 = \n",
      "19 X 8 = \n",
      "14 X 9 = \n",
      "16 X 2 = \n",
      "19 X 4 = \n",
      "13 X 3 = \n",
      "14 X 2 = \n",
      "19 X 3 = \n",
      "19 X 3 = \n",
      "20 X 7 = \n",
      "11 X 7 = \n",
      "13 X 9 = \n",
      "11 X 9 = \n",
      "19 X 10 = \n",
      "19 X 6 = \n",
      "14 X 7 = \n",
      "20 X 2 = \n",
      "11 X 9 = \n",
      "16 X 7 = \n",
      "15 X 3 = \n",
      "18 X 2 = \n",
      "34\n",
      "38\n",
      "200\n",
      "95\n",
      "32\n",
      "40\n",
      "75\n",
      "99\n",
      "44\n",
      "144\n",
      "108\n",
      "140\n",
      "152\n",
      "64\n",
      "78\n",
      "117\n",
      "140\n",
      "99\n",
      "39\n",
      "66\n",
      "48\n",
      "160\n",
      "162\n",
      "170\n",
      "135\n",
      "78\n",
      "77\n",
      "60\n",
      "112\n",
      "119\n",
      "72\n",
      "136\n",
      "136\n",
      "162\n",
      "52\n",
      "52\n",
      "84\n",
      "153\n",
      "96\n",
      "120\n",
      "160\n",
      "36\n",
      "60\n",
      "160\n",
      "117\n",
      "170\n",
      "57\n",
      "102\n",
      "36\n",
      "54\n",
      "133\n",
      "60\n",
      "110\n",
      "160\n",
      "56\n",
      "45\n",
      "88\n",
      "48\n",
      "48\n",
      "133\n",
      "56\n",
      "91\n",
      "60\n",
      "110\n",
      "52\n",
      "180\n",
      "135\n",
      "126\n",
      "60\n",
      "190\n",
      "88\n",
      "144\n",
      "70\n",
      "36\n",
      "160\n",
      "52\n",
      "130\n",
      "72\n",
      "60\n",
      "84\n",
      "152\n",
      "126\n",
      "32\n",
      "76\n",
      "39\n",
      "28\n",
      "57\n",
      "57\n",
      "140\n",
      "77\n",
      "117\n",
      "99\n",
      "190\n",
      "114\n",
      "98\n",
      "40\n",
      "99\n",
      "112\n",
      "45\n",
      "36\n"
     ]
    }
   ],
   "source": [
    "ii=0\n",
    "for i in range(100):\n",
    "    print(str(a[i])+' X '+ str(b[i]) + ' = ')\n",
    "\n",
    "for i in range(100):\n",
    "    print(str(a[i]*b[i]))"
   ]
  },
  {
   "cell_type": "code",
   "execution_count": null,
   "metadata": {},
   "outputs": [],
   "source": []
  }
 ],
 "metadata": {
  "kernelspec": {
   "display_name": "Python 3",
   "language": "python",
   "name": "python3"
  },
  "language_info": {
   "codemirror_mode": {
    "name": "ipython",
    "version": 3
   },
   "file_extension": ".py",
   "mimetype": "text/x-python",
   "name": "python",
   "nbconvert_exporter": "python",
   "pygments_lexer": "ipython3",
   "version": "3.5.5"
  }
 },
 "nbformat": 4,
 "nbformat_minor": 2
}
