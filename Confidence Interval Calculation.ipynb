{
 "cells": [
  {
   "cell_type": "code",
   "execution_count": 3,
   "metadata": {
    "collapsed": true
   },
   "outputs": [],
   "source": [
    "import numpy as np"
   ]
  },
  {
   "cell_type": "code",
   "execution_count": null,
   "metadata": {
    "collapsed": true
   },
   "outputs": [],
   "source": [
    "#Construct a 98% Confidence Interval based on the following data: 45, 55, 67, 45, 68, 79, 98, 87, 84, 82."
   ]
  },
  {
   "cell_type": "code",
   "execution_count": 1,
   "metadata": {
    "collapsed": true
   },
   "outputs": [],
   "source": [
    "a = (45,55,67,45,68,79,98,87,84,82)"
   ]
  },
  {
   "cell_type": "code",
   "execution_count": 2,
   "metadata": {},
   "outputs": [
    {
     "name": "stdout",
     "output_type": "stream",
     "text": [
      "(45, 55, 67, 45, 68, 79, 98, 87, 84, 82)\n"
     ]
    }
   ],
   "source": [
    "print(a)"
   ]
  },
  {
   "cell_type": "code",
   "execution_count": 24,
   "metadata": {
    "collapsed": true
   },
   "outputs": [],
   "source": [
    "\n",
    "# Step 1 Calculate mean and Std. Deviation for the data\n",
    "mean_a = np.mean(a)\n",
    "std_dev_a = np.std(a)\n",
    "deg_of_freedom = np.count_nonzero(a)-1\n",
    "alpha_lvl = (1-.98)/2\n",
    "# Look up t-value in t-distribution table for df = 9 and alpha level = 0.01\n",
    "t_value = 2.821\n"
   ]
  },
  {
   "cell_type": "code",
   "execution_count": 40,
   "metadata": {},
   "outputs": [
    {
     "name": "stdout",
     "output_type": "stream",
     "text": [
      "Mean = 71.0\n",
      "Std. Dev = 17.2394895516\n",
      "Degrees of Freedom = 9\n",
      "Alpha Level = 0.010000000000000009\n",
      "t-value OR Critical Value = 2.821\n"
     ]
    }
   ],
   "source": [
    "\n",
    "print(\"Mean = \" + str(mean_a) )\n",
    "print(\"Std. Dev = \" + str(std_dev_a))\n",
    "print(\"Degrees of Freedom = \" + str(deg_of_freedom))\n",
    "print(\"Alpha Level = \" + str(alpha_lvl))\n",
    "print(\"t-value OR Critical Value = \" + str(t_value))\n"
   ]
  },
  {
   "cell_type": "code",
   "execution_count": 30,
   "metadata": {},
   "outputs": [
    {
     "name": "stdout",
     "output_type": "stream",
     "text": [
      "55.6210215385 86.3789784615\n"
     ]
    }
   ],
   "source": [
    "# Now calculate the lower and upper range of the Confidence Interval\n",
    "\n",
    "# Lower Range\n",
    "lower_range = mean_a-(std_dev_a/np.sqrt(np.count_nonzero(a)))*t_value\n",
    "\n",
    "# Upper Range\n",
    "upper_range = mean_a+(std_dev_a/np.sqrt(np.count_nonzero(a)))*t_value\n",
    "\n",
    "print(lower_range,upper_range)"
   ]
  }
 ],
 "metadata": {
  "kernelspec": {
   "display_name": "Python 3",
   "language": "python",
   "name": "python3"
  },
  "language_info": {
   "codemirror_mode": {
    "name": "ipython",
    "version": 3
   },
   "file_extension": ".py",
   "mimetype": "text/x-python",
   "name": "python",
   "nbconvert_exporter": "python",
   "pygments_lexer": "ipython3",
   "version": "3.6.1"
  }
 },
 "nbformat": 4,
 "nbformat_minor": 2
}
