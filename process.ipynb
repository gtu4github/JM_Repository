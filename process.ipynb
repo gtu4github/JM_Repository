{
 "cells": [
  {
   "cell_type": "code",
   "execution_count": 108,
   "metadata": {
    "collapsed": true
   },
   "outputs": [],
   "source": [
    "import pandas as pd\n",
    "import numpy as np"
   ]
  },
  {
   "cell_type": "code",
   "execution_count": 112,
   "metadata": {},
   "outputs": [
    {
     "ename": "NameError",
     "evalue": "name '__file__' is not defined",
     "output_type": "error",
     "traceback": [
      "\u001b[0;31m---------------------------------------------------------------------------\u001b[0m",
      "\u001b[0;31mNameError\u001b[0m                                 Traceback (most recent call last)",
      "\u001b[0;32m<ipython-input-112-b1648aa7895d>\u001b[0m in \u001b[0;36m<module>\u001b[0;34m()\u001b[0m\n\u001b[0;32m----> 1\u001b[0;31m \u001b[0mdir_path\u001b[0m \u001b[0;34m=\u001b[0m \u001b[0mos\u001b[0m\u001b[0;34m.\u001b[0m\u001b[0mpath\u001b[0m\u001b[0;34m.\u001b[0m\u001b[0mabspath\u001b[0m\u001b[0;34m(\u001b[0m\u001b[0mos\u001b[0m\u001b[0;34m.\u001b[0m\u001b[0mpath\u001b[0m\u001b[0;34m.\u001b[0m\u001b[0mdirname\u001b[0m\u001b[0;34m(\u001b[0m\u001b[0mos\u001b[0m\u001b[0;34m.\u001b[0m\u001b[0mpath\u001b[0m\u001b[0;34m.\u001b[0m\u001b[0mrealpath\u001b[0m\u001b[0;34m(\u001b[0m\u001b[0m__file__\u001b[0m\u001b[0;34m)\u001b[0m\u001b[0;34m)\u001b[0m\u001b[0;34m)\u001b[0m\u001b[0;34m\u001b[0m\u001b[0m\n\u001b[0m\u001b[1;32m      2\u001b[0m \u001b[0;34m\u001b[0m\u001b[0m\n\u001b[1;32m      3\u001b[0m \u001b[0mdir_path\u001b[0m \u001b[0;34m=\u001b[0m \u001b[0;34m'/Users/jm186072/Documents/DataScience/datasets'\u001b[0m\u001b[0;34m\u001b[0m\u001b[0m\n\u001b[1;32m      4\u001b[0m \u001b[0;34m\u001b[0m\u001b[0m\n\u001b[1;32m      5\u001b[0m \u001b[0;32mdef\u001b[0m \u001b[0mget_data\u001b[0m\u001b[0;34m(\u001b[0m\u001b[0;34m)\u001b[0m\u001b[0;34m:\u001b[0m\u001b[0;34m\u001b[0m\u001b[0m\n",
      "\u001b[0;31mNameError\u001b[0m: name '__file__' is not defined"
     ]
    }
   ],
   "source": [
    "dir_path = '/Users/jm186072/Documents/DataScience/datasets'\n",
    "\n",
    "def get_data():\n",
    "    df = pd.read_csv(dir_path + '/ecommerce_data.csv')\n",
    "\n",
    "    # its easier to work with numpy array\n",
    "    data = df.as_matrix()\n",
    "\n",
    "    # shuffle the data\n",
    "    np.random.shuffle(data)\n",
    "\n",
    "    # separate features and lables\n",
    "    X = data[:,:-1]\n",
    "    Y = data[:,-1].astype(np.int32)\n",
    "\n",
    "    # Here NOTE D = Number of columns. The column number starts from 0. So the last column is refered as D-1\n",
    "\n",
    "    N,D = X.shape\n",
    "\n",
    "    X2 = np.zeros([N,D+3]) \n",
    "\n",
    "    X2[:,0:(D-1)] = X[:,0:(D-1)]\n",
    "\n",
    "    # one-hot encoding\n",
    "    # we first get the value of the column time_of_day in t. It is either 0,1,2,3\n",
    "    # then we use a trick t+D-1 to get the new column number (the new columns) in X2 to popolte it with 1.\n",
    "    # so when the value of \n",
    "    # time_of_day = 0 then the column to populate in X2 = 0+5-1 = 4\n",
    "    # time_of_day = 1 then the column to populate in X2 = 1+5-1 = 6\n",
    "    # time_of_day = 2 then the column to populate in X2 = 2+5-1 = 7\n",
    "    # time_of_day = 3 then the column to populate in X2 = 3+5-1 = 8\n",
    "\n",
    "\n",
    "    for n in range(N):\n",
    "        t = int(X[n,D-1])\n",
    "        X2[n,t+D-1] = t\n",
    "\n",
    "    X = X2\n",
    "\n",
    "    Xtrain = X[:-100]\n",
    "    Ytrain = Y[:-100]\n",
    "    Xtest = X[-100:]\n",
    "    Ytest = Y[-100:]\n",
    "\n",
    "    # Normalise the non-categorical columns in the input \n",
    "    # (column num 1 --> n_prod_viewed and \n",
    "    #  column num 2 --> visit_duration)  \n",
    "\n",
    "    for i in range(1,2):\n",
    "        m = X[:,i].mean()\n",
    "        s = X[:,i].std()\n",
    "        Xtrain[:,i] = (Xtrain[:,i]-m) / s\n",
    "        Xtest[:,i] = (Xtest[:,i]-m) / s\n",
    "\n",
    "    return Xtrain, Xtest, Ytrain, Ytest\n",
    "\n",
    "def get_binary_data():\n",
    "    Xtrain, Xtest, Ytrain, Ytest = get_data()\n",
    "    X2train = Xtrain[Ytrain<=1]\n",
    "    X2test = Xtest[Ytest<=1]\n",
    "    Y2train = Ytrain[Ytrain <=1]\n",
    "    Y2test = Ytest[Ytest<=1]\n",
    "    \n",
    "    return X2train, X2test, Y2train, X2test\n",
    "    \n",
    "    "
   ]
  },
  {
   "cell_type": "code",
   "execution_count": 110,
   "metadata": {},
   "outputs": [],
   "source": [
    "#X3train, X3test, Y3train, Y3test = get_binary_data()"
   ]
  },
  {
   "cell_type": "code",
   "execution_count": 107,
   "metadata": {},
   "outputs": [],
   "source": [
    "#print(Xtrain.shape)\n",
    "#print (df.shape)\n",
    "#print (df.head(1))\n",
    "#print (X.shape)\n",
    "#print (Y.shape)\n",
    "#print (\"N:-\",N)\n",
    "#print (\"D:-\", D)\n",
    "#print (X2.shape)\n",
    "#print (X2)"
   ]
  }
 ],
 "metadata": {
  "kernelspec": {
   "display_name": "Python 2",
   "language": "python",
   "name": "python2"
  },
  "language_info": {
   "codemirror_mode": {
    "name": "ipython",
    "version": 2
   },
   "file_extension": ".py",
   "mimetype": "text/x-python",
   "name": "python",
   "nbconvert_exporter": "python",
   "pygments_lexer": "ipython2",
   "version": "2.7.13"
  }
 },
 "nbformat": 4,
 "nbformat_minor": 2
}
