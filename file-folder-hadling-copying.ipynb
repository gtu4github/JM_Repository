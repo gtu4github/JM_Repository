{
 "cells": [
  {
   "cell_type": "code",
   "execution_count": null,
   "metadata": {
    "collapsed": true
   },
   "outputs": [],
   "source": [
    "# The code is used to create test and training dataset diredtories\n",
    "# Training = 70% of the files\n",
    "# Test = Remaining files\n",
    "# Once it is successfull run, do not run again, coz the directories are already created in the first run.\n"
   ]
  },
  {
   "cell_type": "code",
   "execution_count": 6,
   "metadata": {
    "collapsed": true
   },
   "outputs": [],
   "source": [
    "import os\n",
    "from shutil import copyfile\n",
    "from shutil import move\n"
   ]
  },
  {
   "cell_type": "code",
   "execution_count": 2,
   "metadata": {
    "collapsed": true
   },
   "outputs": [],
   "source": [
    "path1 = r'/Users/jm186072/Documents/DataScience/datasets/sound/'\n",
    "path2 = r'/Users/jm186072/Documents/DataScience/datasets/sound1/'"
   ]
  },
  {
   "cell_type": "code",
   "execution_count": 7,
   "metadata": {},
   "outputs": [
    {
     "name": "stdout",
     "output_type": "stream",
     "text": [
      "/Users/jm186072/Documents/DataScience/datasets/sound/calamity-20071011-poe/wav/--> 13 9 4\n",
      "/Users/jm186072/Documents/DataScience/datasets/sound/chocoholic-20070524/wav/--> 283 198 85\n",
      "/Users/jm186072/Documents/DataScience/datasets/sound/chocoholic-20070612-eti33/wav/--> 418 292 126\n",
      "/Users/jm186072/Documents/DataScience/datasets/sound/chocoholic-20080420-pos/wav/--> 367 256 111\n",
      "/Users/jm186072/Documents/DataScience/datasets/sound/cloudmountain-20080420-eti/wav/--> 26 18 8\n",
      "/Users/jm186072/Documents/DataScience/datasets/sound/cloudmountain-20080420-yos/wav/--> 180 125 55\n",
      "/Users/jm186072/Documents/DataScience/datasets/sound/crhylove-10252006/wav/--> 40 28 12\n",
      "/Users/jm186072/Documents/DataScience/datasets/sound/delibab-20071007-poe/wav/--> 12 8 4\n",
      "/Users/jm186072/Documents/DataScience/datasets/sound/delibab-20071012/wav/--> 27 18 9\n",
      "/Users/jm186072/Documents/DataScience/datasets/sound/delibab-20071019-poe/wav/--> 17 11 6\n",
      "/Users/jm186072/Documents/DataScience/datasets/sound/delibab-20071020/wav/--> 22 15 7\n",
      "/Users/jm186072/Documents/DataScience/datasets/sound/delibab-20071025-poe/wav/--> 11 7 4\n",
      "/Users/jm186072/Documents/DataScience/datasets/sound/devin122-20080522-ar/wav/--> 24 16 8\n",
      "/Users/jm186072/Documents/DataScience/datasets/sound/ductapeguy-20070308b/wav/--> 217 151 66\n",
      "/Users/jm186072/Documents/DataScience/datasets/sound/ductapeguy-20070619-com/wav/--> 132 92 40\n",
      "/Users/jm186072/Documents/DataScience/datasets/sound/ductapeguy-20080423-pri/wav/--> 14 9 5\n",
      "/Users/jm186072/Documents/DataScience/datasets/sound/ductapeguy-20080423-sto/wav/--> 79 55 24\n",
      "/Users/jm186072/Documents/DataScience/datasets/sound/gesine-20080421-rid/wav/--> 185 129 56\n",
      "/Users/jm186072/Documents/DataScience/datasets/sound/granthulbert-ar-01032007/wav/--> 24 16 8\n",
      "/Users/jm186072/Documents/DataScience/datasets/sound/hugh-20070606-bul/wav/--> 144 100 44\n",
      "/Users/jm186072/Documents/DataScience/datasets/sound/jimmowatt-20070308-hoe/wav/--> 235 164 71\n",
      "/Users/jm186072/Documents/DataScience/datasets/sound/kayray-20070425-per04/wav/--> 179 125 54\n",
      "/Users/jm186072/Documents/DataScience/datasets/sound/kmaclean-20071108-poe/wav/--> 10 7 3\n",
      "/Users/jm186072/Documents/DataScience/datasets/sound/knotyouraveragejo-20070620-sci/wav/--> 240 168 72\n",
      "/Users/jm186072/Documents/DataScience/datasets/sound/leonMire-20080526-lev/wav/--> 298 208 90\n",
      "/Users/jm186072/Documents/DataScience/datasets/sound/librivoxMP3-20070530-MOB/wav/--> 304 212 92\n",
      "/Users/jm186072/Documents/DataScience/datasets/sound/mojomove411-20071007-poe/wav/--> 13 9 4\n",
      "/Users/jm186072/Documents/DataScience/datasets/sound/mwalma-20080112/wav/--> 39 27 12\n",
      "/Users/jm186072/Documents/DataScience/datasets/sound/nollidj-20081101-ar/wav/--> 24 16 8\n",
      "/Users/jm186072/Documents/DataScience/datasets/sound/peterwhy-20080503-win/wav/--> 292 204 88\n",
      "/Users/jm186072/Documents/DataScience/datasets/sound/Raeubertochter-20090911/wav/--> 15 10 5\n",
      "/Users/jm186072/Documents/DataScience/datasets/sound/sil-20090322/wav/--> 39 27 12\n",
      "/Users/jm186072/Documents/DataScience/datasets/sound/starlite-20070605-che/wav/--> 226 158 68\n",
      "/Users/jm186072/Documents/DataScience/datasets/sound/tis-20080416-tou/wav/--> 251 175 76\n",
      "/Users/jm186072/Documents/DataScience/datasets/sound/tjm1983-20071129/wav/--> 20 14 6\n",
      "/Users/jm186072/Documents/DataScience/datasets/sound/ttm-20071007/wav/--> 27 18 9\n",
      "/Users/jm186072/Documents/DataScience/datasets/sound/ttm-20071007 2/wav/--> 27 18 9\n",
      "/Users/jm186072/Documents/DataScience/datasets/sound/ttm-20071007 3/wav/--> 27 18 9\n"
     ]
    }
   ],
   "source": [
    "for folders in os.listdir(path1):\n",
    "    \n",
    "    if folders == '.DS_Store': \n",
    "        continue\n",
    "    if '.tar' in folders:    \n",
    "        continue\n",
    "    \n",
    "    #print(folders)\n",
    "    \n",
    "    cnt_of_files = 0\n",
    "    \n",
    "    for folder1 in os.listdir(path1+folders):\n",
    "        if folder1 == '.DS_Store': \n",
    "            continue\n",
    "        #print(folder1)\n",
    "        \n",
    "        cnt_of_files = len([name for name in os.listdir(path1+folders+'/'+folder1+'/') ])\n",
    "        train_cnt = int(cnt_of_files*.7)\n",
    "        #test_cnt = int(cnt_of_files*.30)\n",
    "        test_cnt = cnt_of_files-train_cnt\n",
    "        print(path1+folders+'/'+folder1+'/'+'-->',cnt_of_files,train_cnt,test_cnt)\n",
    "        \n",
    "        os.mkdir(path2+folders)\n",
    "        \n",
    "        os.mkdir(path2+folders+'/'+folder1)\n",
    "        src = path1+folders+'/'+folder1+'/'\n",
    "        dst = path2+folders+'/'+folder1+'/'\n",
    "        \n",
    "        c1 = 1\n",
    "        \n",
    "        file_name = os.listdir(path1+folders+'/'+folder1+'/')\n",
    "        \n",
    "        for f1 in file_name:\n",
    "            if c1 <= train_cnt:\n",
    "                #print('\\t',c1 ,path1+folders+'/'+folder1+'/'+f1)\n",
    "                move(src+f1,dst+f1)\n",
    "                c1 = c1+1\n",
    "   \n",
    "                \n",
    "                \n",
    "        \n",
    "        \n",
    "        "
   ]
  },
  {
   "cell_type": "code",
   "execution_count": null,
   "metadata": {
    "collapsed": true
   },
   "outputs": [],
   "source": []
  }
 ],
 "metadata": {
  "kernelspec": {
   "display_name": "Python 3",
   "language": "python",
   "name": "python3"
  },
  "language_info": {
   "codemirror_mode": {
    "name": "ipython",
    "version": 3
   },
   "file_extension": ".py",
   "mimetype": "text/x-python",
   "name": "python",
   "nbconvert_exporter": "python",
   "pygments_lexer": "ipython3",
   "version": "3.6.1"
  }
 },
 "nbformat": 4,
 "nbformat_minor": 2
}
