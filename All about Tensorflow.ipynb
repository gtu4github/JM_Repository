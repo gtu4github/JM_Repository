{
 "cells": [
  {
   "cell_type": "code",
   "execution_count": null,
   "metadata": {},
   "outputs": [],
   "source": [
    "import tensorflow as tf"
   ]
  },
  {
   "cell_type": "code",
   "execution_count": null,
   "metadata": {},
   "outputs": [],
   "source": [
    "print(tf.__version__)"
   ]
  },
  {
   "cell_type": "code",
   "execution_count": null,
   "metadata": {},
   "outputs": [],
   "source": [
    "hello = tf.constant(\"Hello \")"
   ]
  },
  {
   "cell_type": "code",
   "execution_count": null,
   "metadata": {},
   "outputs": [],
   "source": [
    "world = tf.constant(\"Word\")"
   ]
  },
  {
   "cell_type": "code",
   "execution_count": null,
   "metadata": {},
   "outputs": [],
   "source": [
    "hello"
   ]
  },
  {
   "cell_type": "code",
   "execution_count": null,
   "metadata": {},
   "outputs": [],
   "source": [
    "hello"
   ]
  },
  {
   "cell_type": "code",
   "execution_count": null,
   "metadata": {},
   "outputs": [],
   "source": [
    "sess = tf.Session()"
   ]
  },
  {
   "cell_type": "code",
   "execution_count": null,
   "metadata": {},
   "outputs": [],
   "source": [
    "sess.run(hello+world)"
   ]
  },
  {
   "cell_type": "code",
   "execution_count": null,
   "metadata": {},
   "outputs": [],
   "source": [
    "a = tf.constant(10)\n",
    "b = tf.constant(20)"
   ]
  },
  {
   "cell_type": "code",
   "execution_count": null,
   "metadata": {},
   "outputs": [],
   "source": [
    "with tf.Session() as sess:\n",
    "    result = sess.run(a+b)"
   ]
  },
  {
   "cell_type": "code",
   "execution_count": null,
   "metadata": {},
   "outputs": [],
   "source": [
    "print(result)"
   ]
  },
  {
   "cell_type": "code",
   "execution_count": null,
   "metadata": {},
   "outputs": [],
   "source": [
    "my_mat = tf.fill((4,4),10)"
   ]
  },
  {
   "cell_type": "code",
   "execution_count": null,
   "metadata": {},
   "outputs": [],
   "source": [
    "my_mat.shape\n"
   ]
  },
  {
   "cell_type": "code",
   "execution_count": null,
   "metadata": {},
   "outputs": [],
   "source": [
    "my_zeros = tf.zeros((4,4))"
   ]
  },
  {
   "cell_type": "code",
   "execution_count": null,
   "metadata": {},
   "outputs": [],
   "source": [
    "my_ones = tf.ones((4,4))\n"
   ]
  },
  {
   "cell_type": "code",
   "execution_count": null,
   "metadata": {},
   "outputs": [],
   "source": [
    "my_randn = tf.random_normal((4,4), mean=0.0, stddev=1.0)"
   ]
  },
  {
   "cell_type": "code",
   "execution_count": null,
   "metadata": {},
   "outputs": [],
   "source": [
    "my_randu = tf.random_uniform((4,4),minval=0,maxval=10)"
   ]
  },
  {
   "cell_type": "code",
   "execution_count": null,
   "metadata": {},
   "outputs": [],
   "source": [
    "my_op_list  = [a,my\n",
    "               _mat,my_zeros,my_ones,my_randn,my_randu]"
   ]
  },
  {
   "cell_type": "code",
   "execution_count": null,
   "metadata": {},
   "outputs": [],
   "source": [
    "sess = tf.Session()"
   ]
  },
  {
   "cell_type": "code",
   "execution_count": null,
   "metadata": {},
   "outputs": [],
   "source": [
    "for op in my_op_list:\n",
    "    print (sess.run(op))\n",
    "    print('\\n')"
   ]
  },
  {
   "cell_type": "code",
   "execution_count": null,
   "metadata": {},
   "outputs": [],
   "source": [
    "a = tf.constant([[10,20],\n",
    "                [30,40]])"
   ]
  },
  {
   "cell_type": "code",
   "execution_count": null,
   "metadata": {},
   "outputs": [],
   "source": [
    "b = tf.constant([[1],[2]])"
   ]
  },
  {
   "cell_type": "code",
   "execution_count": null,
   "metadata": {},
   "outputs": [],
   "source": [
    "b.shape"
   ]
  },
  {
   "cell_type": "code",
   "execution_count": null,
   "metadata": {},
   "outputs": [],
   "source": [
    "result = tf.matmul(a,b)"
   ]
  },
  {
   "cell_type": "code",
   "execution_count": null,
   "metadata": {},
   "outputs": [],
   "source": [
    "sess.run(result)"
   ]
  },
  {
   "cell_type": "code",
   "execution_count": null,
   "metadata": {},
   "outputs": [],
   "source": [
    "import  numpy as np\n",
    "import tensorflow as tf"
   ]
  },
  {
   "cell_type": "code",
   "execution_count": null,
   "metadata": {},
   "outputs": [],
   "source": [
    "np.random.seed(101)\n",
    "tf.set_random_seed(101)"
   ]
  },
  {
   "cell_type": "code",
   "execution_count": null,
   "metadata": {},
   "outputs": [],
   "source": [
    "rand_a = np.random.uniform(0,100,(5,5))"
   ]
  },
  {
   "cell_type": "code",
   "execution_count": null,
   "metadata": {},
   "outputs": [],
   "source": [
    "rand_a"
   ]
  },
  {
   "cell_type": "code",
   "execution_count": null,
   "metadata": {},
   "outputs": [],
   "source": [
    "rand_b = np.random.uniform(0,100,(5,1))"
   ]
  },
  {
   "cell_type": "code",
   "execution_count": null,
   "metadata": {},
   "outputs": [],
   "source": [
    "print(rand_b)"
   ]
  },
  {
   "cell_type": "code",
   "execution_count": null,
   "metadata": {},
   "outputs": [],
   "source": [
    "a  = tf.placeholder(tf.float32)\n",
    "b = tf.placeholder(tf.float32)"
   ]
  },
  {
   "cell_type": "code",
   "execution_count": null,
   "metadata": {},
   "outputs": [],
   "source": []
  },
  {
   "cell_type": "code",
   "execution_count": null,
   "metadata": {},
   "outputs": [],
   "source": [
    "tf_add = a+b"
   ]
  },
  {
   "cell_type": "code",
   "execution_count": null,
   "metadata": {},
   "outputs": [],
   "source": [
    "tf_mul = a*b"
   ]
  },
  {
   "cell_type": "code",
   "execution_count": null,
   "metadata": {},
   "outputs": [],
   "source": [
    "with tf.Session() as sess:\n",
    "    result1 = sess.run(tf_add,feed_dict={a:rand_a,b:rand_b})\n",
    "    print('\\n')\n",
    "    result2 = sess.run(tf_mul,feed_dict={a:rand_a,b:rand_b})"
   ]
  },
  {
   "cell_type": "code",
   "execution_count": null,
   "metadata": {},
   "outputs": [],
   "source": [
    "print(result1)\n",
    "print('\\n')\n",
    "\n",
    "print(result2)\n"
   ]
  },
  {
   "cell_type": "markdown",
   "metadata": {},
   "source": [
    "Example Neural Network"
   ]
  },
  {
   "cell_type": "code",
   "execution_count": null,
   "metadata": {},
   "outputs": [],
   "source": [
    "import tensorflow as tf\n",
    "import numpy as np"
   ]
  },
  {
   "cell_type": "code",
   "execution_count": null,
   "metadata": {},
   "outputs": [],
   "source": [
    "n_features = 10\n",
    "n_dense_neurons = 3\n"
   ]
  },
  {
   "cell_type": "code",
   "execution_count": null,
   "metadata": {},
   "outputs": [],
   "source": [
    "X = tf.placeholder(tf.float32,(None,n_features))\n",
    "W = tf.Variable(tf.random_normal([n_features,n_dense_neurons]))\n",
    "b = tf.Variable([tf.ones([n_dense_neurons])])"
   ]
  },
  {
   "cell_type": "code",
   "execution_count": null,
   "metadata": {},
   "outputs": [],
   "source": [
    "Xw = tf.matmul(X,W)\n",
    "z  = tf.add(Xw,b)\n",
    "a  = tf.sigmoid(z)"
   ]
  },
  {
   "cell_type": "code",
   "execution_count": null,
   "metadata": {},
   "outputs": [],
   "source": [
    "init = tf.global_variables_initializer()\n",
    "with tf.Session() as sess:\n",
    "    sess.run(init)\n",
    "    layer_out = sess.run(a,feed_dict={X:np.random.random([1,n_features])})"
   ]
  },
  {
   "cell_type": "code",
   "execution_count": null,
   "metadata": {
    "scrolled": true
   },
   "outputs": [],
   "source": [
    "print(layer_out)"
   ]
  },
  {
   "cell_type": "code",
   "execution_count": null,
   "metadata": {},
   "outputs": [],
   "source": [
    "n1 = tf.constant(1)\n",
    "n2 = tf.constant(2)\n",
    "n3 = n1+2\n"
   ]
  },
  {
   "cell_type": "code",
   "execution_count": null,
   "metadata": {},
   "outputs": [],
   "source": [
    "with tf.Session() as sess:\n",
    "    result = sess.run(n3)\n"
   ]
  },
  {
   "cell_type": "code",
   "execution_count": null,
   "metadata": {},
   "outputs": [],
   "source": [
    "print(result)"
   ]
  },
  {
   "cell_type": "code",
   "execution_count": null,
   "metadata": {},
   "outputs": [],
   "source": [
    "print(n3)"
   ]
  },
  {
   "cell_type": "code",
   "execution_count": null,
   "metadata": {},
   "outputs": [],
   "source": [
    "my_tensor = tf.random_normal((4,4),1,10)"
   ]
  },
  {
   "cell_type": "code",
   "execution_count": null,
   "metadata": {},
   "outputs": [],
   "source": [
    "sess = tf.InteractiveSession()\n"
   ]
  },
  {
   "cell_type": "code",
   "execution_count": null,
   "metadata": {},
   "outputs": [],
   "source": [
    "my_var = tf.Variable(initial_value=my_tensor)\n",
    "\n",
    "init = tf.global_variables_initializer()\n",
    "\n",
    "sess.run(init)\n",
    "\n",
    "sess.run(my_var)"
   ]
  },
  {
   "cell_type": "code",
   "execution_count": null,
   "metadata": {},
   "outputs": [],
   "source": [
    "ph = tf.placeholder(tf.float32,shape=(None,5))"
   ]
  },
  {
   "cell_type": "code",
   "execution_count": null,
   "metadata": {},
   "outputs": [],
   "source": [
    "import tensorflow as tf\n",
    "import numpy as np"
   ]
  },
  {
   "cell_type": "code",
   "execution_count": null,
   "metadata": {},
   "outputs": [],
   "source": [
    "rand_a = np.random.uniform(1,10,(5,5))"
   ]
  },
  {
   "cell_type": "code",
   "execution_count": null,
   "metadata": {},
   "outputs": [],
   "source": [
    "rand_b = np.random.uniform(1,10,(5,1))"
   ]
  },
  {
   "cell_type": "code",
   "execution_count": null,
   "metadata": {},
   "outputs": [],
   "source": []
  },
  {
   "cell_type": "code",
   "execution_count": null,
   "metadata": {},
   "outputs": [],
   "source": []
  },
  {
   "cell_type": "code",
   "execution_count": null,
   "metadata": {},
   "outputs": [],
   "source": [
    "a = tf.placeholder(tf.float32)"
   ]
  },
  {
   "cell_type": "code",
   "execution_count": null,
   "metadata": {},
   "outputs": [],
   "source": [
    "b = tf.placeholder(tf.float32)"
   ]
  },
  {
   "cell_type": "code",
   "execution_count": null,
   "metadata": {},
   "outputs": [],
   "source": [
    "add_op = a + b\n",
    "mul_op = a * b"
   ]
  },
  {
   "cell_type": "code",
   "execution_count": null,
   "metadata": {},
   "outputs": [],
   "source": [
    "mul_op"
   ]
  },
  {
   "cell_type": "code",
   "execution_count": null,
   "metadata": {},
   "outputs": [],
   "source": [
    "with tf.Session() as sess:\n",
    "    add_res = sess.run(add_op,feed_dict={a:rand_a,b:rand_b})\n",
    "    print(add_res)\n",
    "    print('\\n')\n",
    "    mul_res = sess.run(mul_op,feed_dict={a:rand_a,b:rand_b})\n",
    "    print(mul_res)"
   ]
  },
  {
   "cell_type": "code",
   "execution_count": null,
   "metadata": {},
   "outputs": [],
   "source": [
    "n_features = 10\n",
    "n_dense_neurons = 3"
   ]
  },
  {
   "cell_type": "code",
   "execution_count": null,
   "metadata": {},
   "outputs": [],
   "source": [
    "x = tf.placeholder(tf.float32,shape=(None,n_features))"
   ]
  },
  {
   "cell_type": "code",
   "execution_count": null,
   "metadata": {},
   "outputs": [],
   "source": [
    "W = tf.Variable(tf.random_normal([n_features,n_dense_neuron]))\n",
    "b = tf.Variable(tf.ones([n_dense_neurons]))"
   ]
  },
  {
   "cell_type": "code",
   "execution_count": null,
   "metadata": {},
   "outputs": [],
   "source": [
    "ini = tf.global_variables_initializer()"
   ]
  },
  {
   "cell_type": "code",
   "execution_count": null,
   "metadata": {},
   "outputs": [],
   "source": [
    "b"
   ]
  },
  {
   "cell_type": "code",
   "execution_count": null,
   "metadata": {},
   "outputs": [],
   "source": [
    "xW = tf.matmul(x,W)"
   ]
  },
  {
   "cell_type": "code",
   "execution_count": null,
   "metadata": {},
   "outputs": [],
   "source": [
    "z = tf.add(xW,b)"
   ]
  },
  {
   "cell_type": "code",
   "execution_count": null,
   "metadata": {},
   "outputs": [],
   "source": [
    "a = tf.sigmoid(z)"
   ]
  },
  {
   "cell_type": "code",
   "execution_count": null,
   "metadata": {},
   "outputs": [],
   "source": [
    "init = tf.global_variables_initializer()"
   ]
  },
  {
   "cell_type": "code",
   "execution_count": null,
   "metadata": {},
   "outputs": [],
   "source": [
    "with tf.Session() as sess:\n",
    "    sess.run(init)\n",
    "    #ww = sess.run(W)\n",
    "    #b1 = sess.run(b)\n",
    "    layer_out = sess.run(a,feed_dict={x:np.random.random([1,n_features])})"
   ]
  },
  {
   "cell_type": "code",
   "execution_count": null,
   "metadata": {},
   "outputs": [],
   "source": [
    "print(layer_out)"
   ]
  },
  {
   "cell_type": "code",
   "execution_count": null,
   "metadata": {},
   "outputs": [],
   "source": [
    "x_data = np.linspace(1,11,10) + np.random.uniform(-1.5,1.5,10)"
   ]
  },
  {
   "cell_type": "code",
   "execution_count": null,
   "metadata": {},
   "outputs": [],
   "source": [
    "y_label = np.linspace(1,11,10) + np.random.uniform(-1.5,1.5,10)"
   ]
  },
  {
   "cell_type": "code",
   "execution_count": null,
   "metadata": {},
   "outputs": [],
   "source": [
    "plt.plot(x_data,y_label,'*')"
   ]
  },
  {
   "cell_type": "markdown",
   "metadata": {},
   "source": [
    "y = mx + b"
   ]
  },
  {
   "cell_type": "code",
   "execution_count": null,
   "metadata": {},
   "outputs": [],
   "source": [
    "m = tf.Variable(0.44)\n",
    "b = tf.Variable(0.85)"
   ]
  },
  {
   "cell_type": "code",
   "execution_count": null,
   "metadata": {},
   "outputs": [],
   "source": [
    "error=0\n",
    "for x,y in zip(x_data,y_label):\n",
    "    y_hat = m*x + b\n",
    "    error +=  (y-y_hat)**2\n",
    "    "
   ]
  },
  {
   "cell_type": "code",
   "execution_count": null,
   "metadata": {},
   "outputs": [],
   "source": [
    "optimizer = tf.train.GradientDescentOptimizer(learning_rate = 0.001)\n",
    "train = optimizer.minimize(error)"
   ]
  },
  {
   "cell_type": "code",
   "execution_count": null,
   "metadata": {},
   "outputs": [],
   "source": [
    "init = tf.global_variables_initializer()"
   ]
  },
  {
   "cell_type": "code",
   "execution_count": null,
   "metadata": {},
   "outputs": [],
   "source": [
    "with tf.Session() as sess:\n",
    "    sess.run(init)\n",
    "    sess.run(train)\n",
    "    training_steps = 100\n",
    "    for i in range(training_steps):\n",
    "        sess.run(train)\n",
    "        \n",
    "    final_slope,final_intercept = sess.run([m,b])"
   ]
  },
  {
   "cell_type": "code",
   "execution_count": null,
   "metadata": {},
   "outputs": [],
   "source": [
    "final_slope"
   ]
  },
  {
   "cell_type": "code",
   "execution_count": null,
   "metadata": {},
   "outputs": [],
   "source": [
    "final_intercept"
   ]
  },
  {
   "cell_type": "code",
   "execution_count": null,
   "metadata": {},
   "outputs": [],
   "source": [
    "x_test = np.linspace(-1,11,10)"
   ]
  },
  {
   "cell_type": "code",
   "execution_count": null,
   "metadata": {},
   "outputs": [],
   "source": [
    "y_pred_plot = x_test*final_slope+final_intercept"
   ]
  },
  {
   "cell_type": "code",
   "execution_count": null,
   "metadata": {},
   "outputs": [],
   "source": [
    "plt.plot(x_data,y_label,'*')\n",
    "plt.plot(x_test,y_pred_plot,'r')"
   ]
  },
  {
   "cell_type": "code",
   "execution_count": null,
   "metadata": {},
   "outputs": [],
   "source": [
    "x_data = np.linspace(0.0,10.0,1000000)"
   ]
  },
  {
   "cell_type": "code",
   "execution_count": null,
   "metadata": {},
   "outputs": [],
   "source": [
    "noise = np.random.randn(len(x_data))"
   ]
  },
  {
   "cell_type": "code",
   "execution_count": null,
   "metadata": {},
   "outputs": [],
   "source": [
    "y_true = (0.5 * x_data) + 5 + noise"
   ]
  },
  {
   "cell_type": "code",
   "execution_count": null,
   "metadata": {},
   "outputs": [],
   "source": [
    "import pandas as pd"
   ]
  },
  {
   "cell_type": "code",
   "execution_count": null,
   "metadata": {},
   "outputs": [],
   "source": [
    "x_df = pd.DataFrame(data=x_data,columns=['X_Data'])\n",
    "y_df = pd.DataFrame(data= y_true,columns=['Y'])\n",
    "my_data = pd.concat([x_df,y_df],axis=1)"
   ]
  },
  {
   "cell_type": "code",
   "execution_count": null,
   "metadata": {},
   "outputs": [],
   "source": [
    "my_data.head(5)"
   ]
  },
  {
   "cell_type": "code",
   "execution_count": null,
   "metadata": {},
   "outputs": [],
   "source": [
    "my_data.sample(n=250).plot(kind='scatter',x='X_Data',y='Y')"
   ]
  },
  {
   "cell_type": "code",
   "execution_count": null,
   "metadata": {},
   "outputs": [],
   "source": [
    "batch_size = 8"
   ]
  },
  {
   "cell_type": "code",
   "execution_count": null,
   "metadata": {},
   "outputs": [],
   "source": [
    "np.random.randn(2)"
   ]
  },
  {
   "cell_type": "code",
   "execution_count": null,
   "metadata": {},
   "outputs": [],
   "source": [
    "m=tf.Variable(0.61)\n",
    "b=tf.Variable(0.11)\n",
    "xph=tf.placeholder(tf.float32,[batch_size])\n",
    "yph=tf.placeholder(tf.float32,[batch_size])\n",
    "y_model = m*xph+b"
   ]
  },
  {
   "cell_type": "code",
   "execution_count": null,
   "metadata": {},
   "outputs": [],
   "source": [
    "error = tf.reduce_sum(tf.square(y_model-yph))"
   ]
  },
  {
   "cell_type": "code",
   "execution_count": null,
   "metadata": {},
   "outputs": [],
   "source": [
    "optimizer = tf.train.GradientDescentOptimizer(learning_rate=0.001)\n",
    "train = optimizer.minimize(error)"
   ]
  },
  {
   "cell_type": "code",
   "execution_count": null,
   "metadata": {},
   "outputs": [],
   "source": [
    "init = tf.global_variables_initializer()"
   ]
  },
  {
   "cell_type": "code",
   "execution_count": null,
   "metadata": {},
   "outputs": [],
   "source": [
    "with tf.Session() as sess:\n",
    "    sess.run(init)\n",
    "    batches = 100000\n",
    "    for i in range(batches):\n",
    "        rand_ind = np.random.randint(len(x_data),size=8)\n",
    "        feed = {xph:x_data[rand_ind],yph:y_true[rand_ind]}\n",
    "        sess.run(train,feed_dict=feed)\n",
    "    model_m,model_b = sess.run([m,b])    "
   ]
  },
  {
   "cell_type": "code",
   "execution_count": null,
   "metadata": {},
   "outputs": [],
   "source": [
    "print(model_m,model_b)"
   ]
  },
  {
   "cell_type": "code",
   "execution_count": null,
   "metadata": {},
   "outputs": [],
   "source": [
    "y_hat = x_data*model_m+model_b"
   ]
  },
  {
   "cell_type": "code",
   "execution_count": null,
   "metadata": {},
   "outputs": [],
   "source": [
    "my_data.sample(n=250).plot(kind='scatter',x=\"X_Data\",y=\"Y\")\n",
    "plt.plot(x_data,y_hat,'r')"
   ]
  },
  {
   "cell_type": "code",
   "execution_count": null,
   "metadata": {},
   "outputs": [],
   "source": [
    "import os"
   ]
  },
  {
   "cell_type": "code",
   "execution_count": 355,
   "metadata": {},
   "outputs": [
    {
     "data": {
      "text/plain": [
       "'/Users/jm186072/Documents/DataScience/datasets/pima-indians-diabetes.csv'"
      ]
     },
     "execution_count": 355,
     "metadata": {},
     "output_type": "execute_result"
    }
   ],
   "source": [
    "file = '/Users/jm186072/Documents/DataScience/datasets/pima-indians-diabetes.csv'\n",
    "file"
   ]
  },
  {
   "cell_type": "code",
   "execution_count": 356,
   "metadata": {},
   "outputs": [],
   "source": [
    "diabetes = pd.read_csv(file)"
   ]
  },
  {
   "cell_type": "code",
   "execution_count": 357,
   "metadata": {},
   "outputs": [
    {
     "data": {
      "text/plain": [
       "(768, 10)"
      ]
     },
     "execution_count": 357,
     "metadata": {},
     "output_type": "execute_result"
    }
   ],
   "source": [
    "diabetes.shape"
   ]
  },
  {
   "cell_type": "code",
   "execution_count": 358,
   "metadata": {},
   "outputs": [
    {
     "data": {
      "text/plain": [
       "Index(['Number_pregnant', 'Glucose_concentration', 'Blood_pressure', 'Triceps',\n",
       "       'Insulin', 'BMI', 'Pedigree', 'Age', 'Class', 'Group'],\n",
       "      dtype='object')"
      ]
     },
     "execution_count": 358,
     "metadata": {},
     "output_type": "execute_result"
    }
   ],
   "source": [
    "diabetes.columns"
   ]
  },
  {
   "cell_type": "code",
   "execution_count": 359,
   "metadata": {},
   "outputs": [],
   "source": [
    "cols_to_norm = ['Number_pregnant', 'Glucose_concentration', 'Blood_pressure', 'Triceps',\n",
    "       'Insulin', 'BMI', 'Pedigree']"
   ]
  },
  {
   "cell_type": "code",
   "execution_count": 360,
   "metadata": {},
   "outputs": [],
   "source": [
    "diabetes[cols_to_norm] = diabetes[cols_to_norm].apply(lambda x: (x-x.min())/(x.max()-x.min()))"
   ]
  },
  {
   "cell_type": "code",
   "execution_count": 363,
   "metadata": {
    "scrolled": true
   },
   "outputs": [
    {
     "data": {
      "text/html": [
       "<div>\n",
       "<style scoped>\n",
       "    .dataframe tbody tr th:only-of-type {\n",
       "        vertical-align: middle;\n",
       "    }\n",
       "\n",
       "    .dataframe tbody tr th {\n",
       "        vertical-align: top;\n",
       "    }\n",
       "\n",
       "    .dataframe thead th {\n",
       "        text-align: right;\n",
       "    }\n",
       "</style>\n",
       "<table border=\"1\" class=\"dataframe\">\n",
       "  <thead>\n",
       "    <tr style=\"text-align: right;\">\n",
       "      <th></th>\n",
       "      <th>Number_pregnant</th>\n",
       "      <th>Glucose_concentration</th>\n",
       "      <th>Blood_pressure</th>\n",
       "      <th>Triceps</th>\n",
       "      <th>Insulin</th>\n",
       "      <th>BMI</th>\n",
       "      <th>Pedigree</th>\n",
       "      <th>Age</th>\n",
       "      <th>Class</th>\n",
       "      <th>Group</th>\n",
       "    </tr>\n",
       "  </thead>\n",
       "  <tbody>\n",
       "    <tr>\n",
       "      <th>0</th>\n",
       "      <td>0.352941</td>\n",
       "      <td>0.743719</td>\n",
       "      <td>0.590164</td>\n",
       "      <td>0.353535</td>\n",
       "      <td>0.000000</td>\n",
       "      <td>0.500745</td>\n",
       "      <td>0.234415</td>\n",
       "      <td>50</td>\n",
       "      <td>1</td>\n",
       "      <td>B</td>\n",
       "    </tr>\n",
       "    <tr>\n",
       "      <th>1</th>\n",
       "      <td>0.058824</td>\n",
       "      <td>0.427136</td>\n",
       "      <td>0.540984</td>\n",
       "      <td>0.292929</td>\n",
       "      <td>0.000000</td>\n",
       "      <td>0.396423</td>\n",
       "      <td>0.116567</td>\n",
       "      <td>31</td>\n",
       "      <td>0</td>\n",
       "      <td>C</td>\n",
       "    </tr>\n",
       "    <tr>\n",
       "      <th>2</th>\n",
       "      <td>0.470588</td>\n",
       "      <td>0.919598</td>\n",
       "      <td>0.524590</td>\n",
       "      <td>0.000000</td>\n",
       "      <td>0.000000</td>\n",
       "      <td>0.347243</td>\n",
       "      <td>0.253629</td>\n",
       "      <td>32</td>\n",
       "      <td>1</td>\n",
       "      <td>B</td>\n",
       "    </tr>\n",
       "    <tr>\n",
       "      <th>3</th>\n",
       "      <td>0.058824</td>\n",
       "      <td>0.447236</td>\n",
       "      <td>0.540984</td>\n",
       "      <td>0.232323</td>\n",
       "      <td>0.111111</td>\n",
       "      <td>0.418778</td>\n",
       "      <td>0.038002</td>\n",
       "      <td>21</td>\n",
       "      <td>0</td>\n",
       "      <td>B</td>\n",
       "    </tr>\n",
       "    <tr>\n",
       "      <th>4</th>\n",
       "      <td>0.000000</td>\n",
       "      <td>0.688442</td>\n",
       "      <td>0.327869</td>\n",
       "      <td>0.353535</td>\n",
       "      <td>0.198582</td>\n",
       "      <td>0.642325</td>\n",
       "      <td>0.943638</td>\n",
       "      <td>33</td>\n",
       "      <td>1</td>\n",
       "      <td>C</td>\n",
       "    </tr>\n",
       "  </tbody>\n",
       "</table>\n",
       "</div>"
      ],
      "text/plain": [
       "   Number_pregnant  Glucose_concentration  Blood_pressure   Triceps   Insulin  \\\n",
       "0         0.352941               0.743719        0.590164  0.353535  0.000000   \n",
       "1         0.058824               0.427136        0.540984  0.292929  0.000000   \n",
       "2         0.470588               0.919598        0.524590  0.000000  0.000000   \n",
       "3         0.058824               0.447236        0.540984  0.232323  0.111111   \n",
       "4         0.000000               0.688442        0.327869  0.353535  0.198582   \n",
       "\n",
       "        BMI  Pedigree  Age  Class Group  \n",
       "0  0.500745  0.234415   50      1     B  \n",
       "1  0.396423  0.116567   31      0     C  \n",
       "2  0.347243  0.253629   32      1     B  \n",
       "3  0.418778  0.038002   21      0     B  \n",
       "4  0.642325  0.943638   33      1     C  "
      ]
     },
     "execution_count": 363,
     "metadata": {},
     "output_type": "execute_result"
    }
   ],
   "source": [
    "diabetes.head()"
   ]
  },
  {
   "cell_type": "code",
   "execution_count": 373,
   "metadata": {},
   "outputs": [
    {
     "data": {
      "text/plain": [
       "Number_pregnant          float64\n",
       "Glucose_concentration    float64\n",
       "Blood_pressure           float64\n",
       "Triceps                  float64\n",
       "Insulin                  float64\n",
       "BMI                      float64\n",
       "Pedigree                 float64\n",
       "Age                        int64\n",
       "Class                      int64\n",
       "Group                     object\n",
       "dtype: object"
      ]
     },
     "execution_count": 373,
     "metadata": {},
     "output_type": "execute_result"
    }
   ],
   "source": [
    "diabetes.dtypes"
   ]
  },
  {
   "cell_type": "code",
   "execution_count": 294,
   "metadata": {},
   "outputs": [
    {
     "name": "stdout",
     "output_type": "stream",
     "text": [
      "A\n"
     ]
    }
   ],
   "source": [
    "'''lis = ['A','B','C','D']\n",
    "grp= []\n",
    "np.array(grp)\n",
    "\n",
    "for i in range(len(diabetes)):\n",
    "    rand_ind = np.random.randint(4,size=1)\n",
    "    #print(lis[int(rand_ind)])\n",
    "    grp.append(lis[int(rand_ind)])\n",
    "\n",
    "grp = pd.DataFrame(grp,columns=['group'])\n",
    "diabetes['group'] = grp\n",
    "diabetes.dtypes'''"
   ]
  },
  {
   "cell_type": "code",
   "execution_count": 384,
   "metadata": {},
   "outputs": [],
   "source": [
    "preg = tf.feature_column.numeric_column('Number_pregnant')\n",
    "glu = tf.feature_column.numeric_column('Glucose_concentration') \n",
    "bp = tf.feature_column.numeric_column('Blood_pressure')\n",
    "tri = tf.feature_column.numeric_column('Triceps')\n",
    "ins = tf.feature_column.numeric_column('Insulin') \n",
    "bmi = tf.feature_column.numeric_column('BMI')\n",
    "ped = tf.feature_column.numeric_column('Pedigree')\n",
    "age = tf.feature_column.numeric_column('Age')"
   ]
  },
  {
   "cell_type": "code",
   "execution_count": 374,
   "metadata": {},
   "outputs": [],
   "source": [
    "import matplotlib.pyplot as plt\n",
    "%matplotlib inline\n"
   ]
  },
  {
   "cell_type": "code",
   "execution_count": 379,
   "metadata": {},
   "outputs": [
    {
     "data": {
      "text/plain": [
       "tensorflow.python.feature_column.feature_column._NumericColumn"
      ]
     },
     "execution_count": 379,
     "metadata": {},
     "output_type": "execute_result"
    }
   ],
   "source": [
    "type(Age)"
   ]
  },
  {
   "cell_type": "code",
   "execution_count": 376,
   "metadata": {},
   "outputs": [
    {
     "data": {
      "text/plain": [
       "<matplotlib.axes._subplots.AxesSubplot at 0x132a62ef0>"
      ]
     },
     "execution_count": 376,
     "metadata": {},
     "output_type": "execute_result"
    },
    {
     "data": {
      "image/png": "[encoded data removed]",
      "text/plain": [
       "<Figure size 432x288 with 1 Axes>"
      ]
     },
     "metadata": {},
     "output_type": "display_data"
    }
   ],
   "source": [
    "diabetes['Age'].hist(bins=20)"
   ]
  },
  {
   "cell_type": "code",
   "execution_count": 386,
   "metadata": {},
   "outputs": [],
   "source": [
    "assigned_group = tf.feature_column.categorical_column_with_vocabulary_list('Group',['A','B','C','D'])"
   ]
  },
  {
   "cell_type": "code",
   "execution_count": 385,
   "metadata": {},
   "outputs": [],
   "source": [
    "age_bucket = tf.feature_column.bucketized_column(age,boundaries=[20,30,40,50,60,70,80])"
   ]
  },
  {
   "cell_type": "code",
   "execution_count": 387,
   "metadata": {},
   "outputs": [],
   "source": [
    "feat_cols = [preg,glu,bp,tri,ins,bmi,ped,assigned_group,age_bucket]"
   ]
  },
  {
   "cell_type": "code",
   "execution_count": 389,
   "metadata": {},
   "outputs": [],
   "source": [
    "x_data = diabetes.drop('Class',axis=1)"
   ]
  },
  {
   "cell_type": "code",
   "execution_count": 390,
   "metadata": {},
   "outputs": [
    {
     "data": {
      "text/html": [
       "<div>\n",
       "<style scoped>\n",
       "    .dataframe tbody tr th:only-of-type {\n",
       "        vertical-align: middle;\n",
       "    }\n",
       "\n",
       "    .dataframe tbody tr th {\n",
       "        vertical-align: top;\n",
       "    }\n",
       "\n",
       "    .dataframe thead th {\n",
       "        text-align: right;\n",
       "    }\n",
       "</style>\n",
       "<table border=\"1\" class=\"dataframe\">\n",
       "  <thead>\n",
       "    <tr style=\"text-align: right;\">\n",
       "      <th></th>\n",
       "      <th>Number_pregnant</th>\n",
       "      <th>Glucose_concentration</th>\n",
       "      <th>Blood_pressure</th>\n",
       "      <th>Triceps</th>\n",
       "      <th>Insulin</th>\n",
       "      <th>BMI</th>\n",
       "      <th>Pedigree</th>\n",
       "      <th>Age</th>\n",
       "      <th>Group</th>\n",
       "    </tr>\n",
       "  </thead>\n",
       "  <tbody>\n",
       "    <tr>\n",
       "      <th>0</th>\n",
       "      <td>0.352941</td>\n",
       "      <td>0.743719</td>\n",
       "      <td>0.590164</td>\n",
       "      <td>0.353535</td>\n",
       "      <td>0.000000</td>\n",
       "      <td>0.500745</td>\n",
       "      <td>0.234415</td>\n",
       "      <td>50</td>\n",
       "      <td>B</td>\n",
       "    </tr>\n",
       "    <tr>\n",
       "      <th>1</th>\n",
       "      <td>0.058824</td>\n",
       "      <td>0.427136</td>\n",
       "      <td>0.540984</td>\n",
       "      <td>0.292929</td>\n",
       "      <td>0.000000</td>\n",
       "      <td>0.396423</td>\n",
       "      <td>0.116567</td>\n",
       "      <td>31</td>\n",
       "      <td>C</td>\n",
       "    </tr>\n",
       "    <tr>\n",
       "      <th>2</th>\n",
       "      <td>0.470588</td>\n",
       "      <td>0.919598</td>\n",
       "      <td>0.524590</td>\n",
       "      <td>0.000000</td>\n",
       "      <td>0.000000</td>\n",
       "      <td>0.347243</td>\n",
       "      <td>0.253629</td>\n",
       "      <td>32</td>\n",
       "      <td>B</td>\n",
       "    </tr>\n",
       "    <tr>\n",
       "      <th>3</th>\n",
       "      <td>0.058824</td>\n",
       "      <td>0.447236</td>\n",
       "      <td>0.540984</td>\n",
       "      <td>0.232323</td>\n",
       "      <td>0.111111</td>\n",
       "      <td>0.418778</td>\n",
       "      <td>0.038002</td>\n",
       "      <td>21</td>\n",
       "      <td>B</td>\n",
       "    </tr>\n",
       "    <tr>\n",
       "      <th>4</th>\n",
       "      <td>0.000000</td>\n",
       "      <td>0.688442</td>\n",
       "      <td>0.327869</td>\n",
       "      <td>0.353535</td>\n",
       "      <td>0.198582</td>\n",
       "      <td>0.642325</td>\n",
       "      <td>0.943638</td>\n",
       "      <td>33</td>\n",
       "      <td>C</td>\n",
       "    </tr>\n",
       "  </tbody>\n",
       "</table>\n",
       "</div>"
      ],
      "text/plain": [
       "   Number_pregnant  Glucose_concentration  Blood_pressure   Triceps   Insulin  \\\n",
       "0         0.352941               0.743719        0.590164  0.353535  0.000000   \n",
       "1         0.058824               0.427136        0.540984  0.292929  0.000000   \n",
       "2         0.470588               0.919598        0.524590  0.000000  0.000000   \n",
       "3         0.058824               0.447236        0.540984  0.232323  0.111111   \n",
       "4         0.000000               0.688442        0.327869  0.353535  0.198582   \n",
       "\n",
       "        BMI  Pedigree  Age Group  \n",
       "0  0.500745  0.234415   50     B  \n",
       "1  0.396423  0.116567   31     C  \n",
       "2  0.347243  0.253629   32     B  \n",
       "3  0.418778  0.038002   21     B  \n",
       "4  0.642325  0.943638   33     C  "
      ]
     },
     "execution_count": 390,
     "metadata": {},
     "output_type": "execute_result"
    }
   ],
   "source": [
    "x_data.head()"
   ]
  },
  {
   "cell_type": "code",
   "execution_count": 391,
   "metadata": {},
   "outputs": [],
   "source": [
    "labels = diabetes['Class']"
   ]
  },
  {
   "cell_type": "code",
   "execution_count": 392,
   "metadata": {},
   "outputs": [],
   "source": [
    "from sklearn.model_selection import train_test_split\n"
   ]
  },
  {
   "cell_type": "code",
   "execution_count": 393,
   "metadata": {},
   "outputs": [],
   "source": [
    "X_train, X_test, y_train, y_test = train_test_split(x_data, labels, test_size=0.33, random_state=101)"
   ]
  },
  {
   "cell_type": "code",
   "execution_count": 394,
   "metadata": {},
   "outputs": [
    {
     "name": "stdout",
     "output_type": "stream",
     "text": [
      "(514, 9) (254, 9) (514,) (254,)\n"
     ]
    }
   ],
   "source": [
    "print(X_train.shape,X_test.shape,y_train.shape,y_test.shape)"
   ]
  },
  {
   "cell_type": "code",
   "execution_count": 395,
   "metadata": {},
   "outputs": [],
   "source": [
    "inp_func = tf.estimator.inputs.pandas_input_fn(x=X_train,y=y_train,\n",
    "                                               batch_size=10,\n",
    "                                               num_epochs=1000,\n",
    "                                               shuffle=True)"
   ]
  },
  {
   "cell_type": "code",
   "execution_count": 396,
   "metadata": {},
   "outputs": [
    {
     "name": "stdout",
     "output_type": "stream",
     "text": [
      "INFO:tensorflow:Using default config.\n",
      "WARNING:tensorflow:Using temporary folder as model directory: /var/folders/tg/g7jktb5j5w53lzlrgd3g453x9xwy6b/T/tmphcsmh0gf\n",
      "INFO:tensorflow:Using config: {'_global_id_in_cluster': 0, '_session_config': None, '_device_fn': None, '_save_checkpoints_steps': None, '_cluster_spec': <tensorflow.python.training.server_lib.ClusterSpec object at 0x1329da4a8>, '_num_ps_replicas': 0, '_tf_random_seed': None, '_num_worker_replicas': 1, '_train_distribute': None, '_task_id': 0, '_save_summary_steps': 100, '_master': '', '_is_chief': True, '_keep_checkpoint_every_n_hours': 10000, '_log_step_count_steps': 100, '_save_checkpoints_secs': 600, '_evaluation_master': '', '_service': None, '_keep_checkpoint_max': 5, '_model_dir': '/var/folders/tg/g7jktb5j5w53lzlrgd3g453x9xwy6b/T/tmphcsmh0gf', '_task_type': 'worker'}\n"
     ]
    }
   ],
   "source": [
    "model = tf.estimator.LinearClassifier(feature_columns=feat_cols,n_classes=2)"
   ]
  },
  {
   "cell_type": "code",
   "execution_count": 397,
   "metadata": {},
   "outputs": [
    {
     "name": "stdout",
     "output_type": "stream",
     "text": [
      "INFO:tensorflow:Calling model_fn.\n",
      "INFO:tensorflow:Done calling model_fn.\n",
      "INFO:tensorflow:Create CheckpointSaverHook.\n",
      "INFO:tensorflow:Graph was finalized.\n",
      "INFO:tensorflow:Running local_init_op.\n",
      "INFO:tensorflow:Done running local_init_op.\n",
      "INFO:tensorflow:Saving checkpoints for 0 into /var/folders/tg/g7jktb5j5w53lzlrgd3g453x9xwy6b/T/tmphcsmh0gf/model.ckpt.\n",
      "INFO:tensorflow:loss = 6.931472, step = 1\n",
      "INFO:tensorflow:global_step/sec: 206.937\n",
      "INFO:tensorflow:loss = 4.5574527, step = 101 (0.483 sec)\n",
      "INFO:tensorflow:global_step/sec: 391.206\n",
      "INFO:tensorflow:loss = 4.068121, step = 201 (0.255 sec)\n",
      "INFO:tensorflow:global_step/sec: 446.971\n",
      "INFO:tensorflow:loss = 4.831458, step = 301 (0.223 sec)\n",
      "INFO:tensorflow:global_step/sec: 467.083\n",
      "INFO:tensorflow:loss = 5.6014256, step = 401 (0.214 sec)\n",
      "INFO:tensorflow:global_step/sec: 439.02\n",
      "INFO:tensorflow:loss = 4.2833996, step = 501 (0.228 sec)\n",
      "INFO:tensorflow:global_step/sec: 445.905\n",
      "INFO:tensorflow:loss = 6.4252996, step = 601 (0.224 sec)\n",
      "INFO:tensorflow:global_step/sec: 392.65\n",
      "INFO:tensorflow:loss = 3.918813, step = 701 (0.255 sec)\n",
      "INFO:tensorflow:global_step/sec: 349.515\n",
      "INFO:tensorflow:loss = 5.5492635, step = 801 (0.288 sec)\n",
      "INFO:tensorflow:global_step/sec: 464.766\n",
      "INFO:tensorflow:loss = 5.623647, step = 901 (0.214 sec)\n",
      "INFO:tensorflow:Saving checkpoints for 1000 into /var/folders/tg/g7jktb5j5w53lzlrgd3g453x9xwy6b/T/tmphcsmh0gf/model.ckpt.\n",
      "INFO:tensorflow:Loss for final step: 5.7772665.\n"
     ]
    },
    {
     "data": {
      "text/plain": [
       "<tensorflow.python.estimator.canned.linear.LinearClassifier at 0x1329da908>"
      ]
     },
     "execution_count": 397,
     "metadata": {},
     "output_type": "execute_result"
    }
   ],
   "source": [
    "model.train(input_fn=inp_func,steps=1000)"
   ]
  },
  {
   "cell_type": "code",
   "execution_count": 399,
   "metadata": {},
   "outputs": [],
   "source": [
    "eval_input_func = tf.estimator.inputs.pandas_input_fn(x=X_test,y=y_test,\n",
    "                                                     batch_size=10,\n",
    "                                                     num_epochs=1,\n",
    "                                                     shuffle=False)"
   ]
  },
  {
   "cell_type": "code",
   "execution_count": 400,
   "metadata": {},
   "outputs": [
    {
     "name": "stdout",
     "output_type": "stream",
     "text": [
      "INFO:tensorflow:Calling model_fn.\n",
      "WARNING:tensorflow:Trapezoidal rule is known to produce incorrect PR-AUCs; please switch to \"careful_interpolation\" instead.\n",
      "WARNING:tensorflow:Trapezoidal rule is known to produce incorrect PR-AUCs; please switch to \"careful_interpolation\" instead.\n",
      "INFO:tensorflow:Done calling model_fn.\n",
      "INFO:tensorflow:Starting evaluation at 2018-08-21-03:40:34\n",
      "INFO:tensorflow:Graph was finalized.\n",
      "INFO:tensorflow:Restoring parameters from /var/folders/tg/g7jktb5j5w53lzlrgd3g453x9xwy6b/T/tmphcsmh0gf/model.ckpt-1000\n",
      "INFO:tensorflow:Running local_init_op.\n",
      "INFO:tensorflow:Done running local_init_op.\n",
      "INFO:tensorflow:Finished evaluation at 2018-08-21-03:40:35\n",
      "INFO:tensorflow:Saving dict for global step 1000: accuracy = 0.71653545, accuracy_baseline = 0.65748036, auc = 0.7863927, auc_precision_recall = 0.6185663, average_loss = 0.53101647, global_step = 1000, label/mean = 0.34251967, loss = 5.1876225, precision = 0.6, prediction/mean = 0.35572287, recall = 0.51724136\n",
      "INFO:tensorflow:Saving 'checkpoint_path' summary for global step 1000: /var/folders/tg/g7jktb5j5w53lzlrgd3g453x9xwy6b/T/tmphcsmh0gf/model.ckpt-1000\n"
     ]
    }
   ],
   "source": [
    "results = model.evaluate(eval_input_func)"
   ]
  },
  {
   "cell_type": "code",
   "execution_count": 401,
   "metadata": {},
   "outputs": [
    {
     "data": {
      "text/plain": [
       "{'accuracy': 0.71653545,\n",
       " 'accuracy_baseline': 0.65748036,\n",
       " 'auc': 0.7863927,\n",
       " 'auc_precision_recall': 0.6185663,\n",
       " 'average_loss': 0.53101647,\n",
       " 'global_step': 1000,\n",
       " 'label/mean': 0.34251967,\n",
       " 'loss': 5.1876225,\n",
       " 'precision': 0.6,\n",
       " 'prediction/mean': 0.35572287,\n",
       " 'recall': 0.51724136}"
      ]
     },
     "execution_count": 401,
     "metadata": {},
     "output_type": "execute_result"
    }
   ],
   "source": [
    "results"
   ]
  },
  {
   "cell_type": "code",
   "execution_count": 404,
   "metadata": {},
   "outputs": [],
   "source": [
    "pred_inp_func = tf.estimator.inputs.pandas_input_fn(x=X_test,\n",
    "                                                   batch_size=10,\n",
    "                                                   num_epochs=1,\n",
    "                                                   shuffle=False)"
   ]
  },
  {
   "cell_type": "code",
   "execution_count": 405,
   "metadata": {},
   "outputs": [],
   "source": [
    "predictions = model.predict(pred_inp_func)"
   ]
  },
  {
   "cell_type": "code",
   "execution_count": 406,
   "metadata": {},
   "outputs": [
    {
     "data": {
      "text/plain": [
       "<generator object Estimator.predict at 0x12d9db9e8>"
      ]
     },
     "execution_count": 406,
     "metadata": {},
     "output_type": "execute_result"
    }
   ],
   "source": [
    "predictions"
   ]
  },
  {
   "cell_type": "code",
   "execution_count": 407,
   "metadata": {},
   "outputs": [
    {
     "name": "stdout",
     "output_type": "stream",
     "text": [
      "INFO:tensorflow:Calling model_fn.\n",
      "INFO:tensorflow:Done calling model_fn.\n",
      "INFO:tensorflow:Graph was finalized.\n",
      "INFO:tensorflow:Restoring parameters from /var/folders/tg/g7jktb5j5w53lzlrgd3g453x9xwy6b/T/tmphcsmh0gf/model.ckpt-1000\n",
      "INFO:tensorflow:Running local_init_op.\n",
      "INFO:tensorflow:Done running local_init_op.\n"
     ]
    }
   ],
   "source": [
    "my_pred_list = list(predictions)"
   ]
  },
  {
   "cell_type": "code",
   "execution_count": 408,
   "metadata": {},
   "outputs": [
    {
     "data": {
      "text/plain": [
       "[{'class_ids': array([1]),\n",
       "  'classes': array([b'1'], dtype=object),\n",
       "  'logistic': array([0.5331633], dtype=float32),\n",
       "  'logits': array([0.13284838], dtype=float32),\n",
       "  'probabilities': array([0.46683663, 0.5331633 ], dtype=float32)},\n",
       " {'class_ids': array([1]),\n",
       "  'classes': array([b'1'], dtype=object),\n",
       "  'logistic': array([0.6021978], dtype=float32),\n",
       "  'logits': array([0.41463125], dtype=float32),\n",
       "  'probabilities': array([0.39780217, 0.6021978 ], dtype=float32)},\n",
       " {'class_ids': array([0]),\n",
       "  'classes': array([b'0'], dtype=object),\n",
       "  'logistic': array([0.37087062], dtype=float32),\n",
       "  'logits': array([-0.5284837], dtype=float32),\n",
       "  'probabilities': array([0.6291294 , 0.37087062], dtype=float32)},\n",
       " {'class_ids': array([0]),\n",
       "  'classes': array([b'0'], dtype=object),\n",
       "  'logistic': array([0.31407258], dtype=float32),\n",
       "  'logits': array([-0.78114766], dtype=float32),\n",
       "  'probabilities': array([0.6859274 , 0.31407258], dtype=float32)},\n",
       " {'class_ids': array([0]),\n",
       "  'classes': array([b'0'], dtype=object),\n",
       "  'logistic': array([0.13508274], dtype=float32),\n",
       "  'logits': array([-1.8567464], dtype=float32),\n",
       "  'probabilities': array([0.8649173 , 0.13508274], dtype=float32)},\n",
       " {'class_ids': array([1]),\n",
       "  'classes': array([b'1'], dtype=object),\n",
       "  'logistic': array([0.6835646], dtype=float32),\n",
       "  'logits': array([0.77020204], dtype=float32),\n",
       "  'probabilities': array([0.3164354, 0.6835646], dtype=float32)},\n",
       " {'class_ids': array([1]),\n",
       "  'classes': array([b'1'], dtype=object),\n",
       "  'logistic': array([0.5656373], dtype=float32),\n",
       "  'logits': array([0.26407313], dtype=float32),\n",
       "  'probabilities': array([0.4343627, 0.5656373], dtype=float32)},\n",
       " {'class_ids': array([0]),\n",
       "  'classes': array([b'0'], dtype=object),\n",
       "  'logistic': array([0.33278215], dtype=float32),\n",
       "  'logits': array([-0.6956286], dtype=float32),\n",
       "  'probabilities': array([0.66721785, 0.33278215], dtype=float32)},\n",
       " {'class_ids': array([0]),\n",
       "  'classes': array([b'0'], dtype=object),\n",
       "  'logistic': array([0.22539088], dtype=float32),\n",
       "  'logits': array([-1.2345223], dtype=float32),\n",
       "  'probabilities': array([0.77460915, 0.22539091], dtype=float32)},\n",
       " {'class_ids': array([0]),\n",
       "  'classes': array([b'0'], dtype=object),\n",
       "  'logistic': array([0.23806325], dtype=float32),\n",
       "  'logits': array([-1.1633272], dtype=float32),\n",
       "  'probabilities': array([0.7619367 , 0.23806322], dtype=float32)},\n",
       " {'class_ids': array([0]),\n",
       "  'classes': array([b'0'], dtype=object),\n",
       "  'logistic': array([0.11384027], dtype=float32),\n",
       "  'logits': array([-2.052101], dtype=float32),\n",
       "  'probabilities': array([0.8861598 , 0.11384027], dtype=float32)},\n",
       " {'class_ids': array([0]),\n",
       "  'classes': array([b'0'], dtype=object),\n",
       "  'logistic': array([0.14611177], dtype=float32),\n",
       "  'logits': array([-1.7654284], dtype=float32),\n",
       "  'probabilities': array([0.8538882 , 0.14611177], dtype=float32)},\n",
       " {'class_ids': array([0]),\n",
       "  'classes': array([b'0'], dtype=object),\n",
       "  'logistic': array([0.28053132], dtype=float32),\n",
       "  'logits': array([-0.9418276], dtype=float32),\n",
       "  'probabilities': array([0.7194687 , 0.28053135], dtype=float32)},\n",
       " {'class_ids': array([1]),\n",
       "  'classes': array([b'1'], dtype=object),\n",
       "  'logistic': array([0.5667345], dtype=float32),\n",
       "  'logits': array([0.26854026], dtype=float32),\n",
       "  'probabilities': array([0.43326548, 0.5667345 ], dtype=float32)},\n",
       " {'class_ids': array([0]),\n",
       "  'classes': array([b'0'], dtype=object),\n",
       "  'logistic': array([0.15813978], dtype=float32),\n",
       "  'logits': array([-1.6721346], dtype=float32),\n",
       "  'probabilities': array([0.8418602 , 0.15813977], dtype=float32)},\n",
       " {'class_ids': array([0]),\n",
       "  'classes': array([b'0'], dtype=object),\n",
       "  'logistic': array([0.32482785], dtype=float32),\n",
       "  'logits': array([-0.7316723], dtype=float32),\n",
       "  'probabilities': array([0.67517215, 0.32482788], dtype=float32)},\n",
       " {'class_ids': array([0]),\n",
       "  'classes': array([b'0'], dtype=object),\n",
       "  'logistic': array([0.35934922], dtype=float32),\n",
       "  'logits': array([-0.57818985], dtype=float32),\n",
       "  'probabilities': array([0.64065075, 0.3593492 ], dtype=float32)},\n",
       " {'class_ids': array([0]),\n",
       "  'classes': array([b'0'], dtype=object),\n",
       "  'logistic': array([0.114588], dtype=float32),\n",
       "  'logits': array([-2.04471], dtype=float32),\n",
       "  'probabilities': array([0.885412  , 0.11458801], dtype=float32)},\n",
       " {'class_ids': array([0]),\n",
       "  'classes': array([b'0'], dtype=object),\n",
       "  'logistic': array([0.35039833], dtype=float32),\n",
       "  'logits': array([-0.6172888], dtype=float32),\n",
       "  'probabilities': array([0.6496017 , 0.35039833], dtype=float32)},\n",
       " {'class_ids': array([0]),\n",
       "  'classes': array([b'0'], dtype=object),\n",
       "  'logistic': array([0.13132304], dtype=float32),\n",
       "  'logits': array([-1.8893111], dtype=float32),\n",
       "  'probabilities': array([0.8686769 , 0.13132302], dtype=float32)},\n",
       " {'class_ids': array([0]),\n",
       "  'classes': array([b'0'], dtype=object),\n",
       "  'logistic': array([0.20227344], dtype=float32),\n",
       "  'logits': array([-1.3721455], dtype=float32),\n",
       "  'probabilities': array([0.7977266 , 0.20227343], dtype=float32)},\n",
       " {'class_ids': array([0]),\n",
       "  'classes': array([b'0'], dtype=object),\n",
       "  'logistic': array([0.28768507], dtype=float32),\n",
       "  'logits': array([-0.90665376], dtype=float32),\n",
       "  'probabilities': array([0.7123149 , 0.28768507], dtype=float32)},\n",
       " {'class_ids': array([1]),\n",
       "  'classes': array([b'1'], dtype=object),\n",
       "  'logistic': array([0.65502554], dtype=float32),\n",
       "  'logits': array([0.6412039], dtype=float32),\n",
       "  'probabilities': array([0.34497443, 0.65502554], dtype=float32)},\n",
       " {'class_ids': array([0]),\n",
       "  'classes': array([b'0'], dtype=object),\n",
       "  'logistic': array([0.2083137], dtype=float32),\n",
       "  'logits': array([-1.3351201], dtype=float32),\n",
       "  'probabilities': array([0.7916863, 0.2083137], dtype=float32)},\n",
       " {'class_ids': array([0]),\n",
       "  'classes': array([b'0'], dtype=object),\n",
       "  'logistic': array([0.1688872], dtype=float32),\n",
       "  'logits': array([-1.5935346], dtype=float32),\n",
       "  'probabilities': array([0.83111286, 0.1688872 ], dtype=float32)},\n",
       " {'class_ids': array([1]),\n",
       "  'classes': array([b'1'], dtype=object),\n",
       "  'logistic': array([0.76315576], dtype=float32),\n",
       "  'logits': array([1.1700593], dtype=float32),\n",
       "  'probabilities': array([0.23684427, 0.76315576], dtype=float32)},\n",
       " {'class_ids': array([0]),\n",
       "  'classes': array([b'0'], dtype=object),\n",
       "  'logistic': array([0.17007872], dtype=float32),\n",
       "  'logits': array([-1.5850694], dtype=float32),\n",
       "  'probabilities': array([0.8299213 , 0.17007874], dtype=float32)},\n",
       " {'class_ids': array([0]),\n",
       "  'classes': array([b'0'], dtype=object),\n",
       "  'logistic': array([0.28955814], dtype=float32),\n",
       "  'logits': array([-0.8975309], dtype=float32),\n",
       "  'probabilities': array([0.7104418 , 0.28955817], dtype=float32)},\n",
       " {'class_ids': array([0]),\n",
       "  'classes': array([b'0'], dtype=object),\n",
       "  'logistic': array([0.08961791], dtype=float32),\n",
       "  'logits': array([-2.3183093], dtype=float32),\n",
       "  'probabilities': array([0.91038203, 0.0896179 ], dtype=float32)},\n",
       " {'class_ids': array([1]),\n",
       "  'classes': array([b'1'], dtype=object),\n",
       "  'logistic': array([0.5789572], dtype=float32),\n",
       "  'logits': array([0.31849396], dtype=float32),\n",
       "  'probabilities': array([0.42104286, 0.5789572 ], dtype=float32)},\n",
       " {'class_ids': array([1]),\n",
       "  'classes': array([b'1'], dtype=object),\n",
       "  'logistic': array([0.9414773], dtype=float32),\n",
       "  'logits': array([2.778036], dtype=float32),\n",
       "  'probabilities': array([0.05852266, 0.9414773 ], dtype=float32)},\n",
       " {'class_ids': array([0]),\n",
       "  'classes': array([b'0'], dtype=object),\n",
       "  'logistic': array([0.39840344], dtype=float32),\n",
       "  'logits': array([-0.412122], dtype=float32),\n",
       "  'probabilities': array([0.6015966 , 0.39840344], dtype=float32)},\n",
       " {'class_ids': array([0]),\n",
       "  'classes': array([b'0'], dtype=object),\n",
       "  'logistic': array([0.30567053], dtype=float32),\n",
       "  'logits': array([-0.82043874], dtype=float32),\n",
       "  'probabilities': array([0.69432944, 0.30567053], dtype=float32)},\n",
       " {'class_ids': array([1]),\n",
       "  'classes': array([b'1'], dtype=object),\n",
       "  'logistic': array([0.54432726], dtype=float32),\n",
       "  'logits': array([0.17777574], dtype=float32),\n",
       "  'probabilities': array([0.45567274, 0.54432726], dtype=float32)},\n",
       " {'class_ids': array([0]),\n",
       "  'classes': array([b'0'], dtype=object),\n",
       "  'logistic': array([0.23380195], dtype=float32),\n",
       "  'logits': array([-1.1869664], dtype=float32),\n",
       "  'probabilities': array([0.7661981 , 0.23380195], dtype=float32)},\n",
       " {'class_ids': array([0]),\n",
       "  'classes': array([b'0'], dtype=object),\n",
       "  'logistic': array([0.369461], dtype=float32),\n",
       "  'logits': array([-0.5345299], dtype=float32),\n",
       "  'probabilities': array([0.630539  , 0.36946097], dtype=float32)},\n",
       " {'class_ids': array([1]),\n",
       "  'classes': array([b'1'], dtype=object),\n",
       "  'logistic': array([0.5116445], dtype=float32),\n",
       "  'logits': array([0.04658639], dtype=float32),\n",
       "  'probabilities': array([0.4883555, 0.5116445], dtype=float32)},\n",
       " {'class_ids': array([1]),\n",
       "  'classes': array([b'1'], dtype=object),\n",
       "  'logistic': array([0.6188625], dtype=float32),\n",
       "  'logits': array([0.4847231], dtype=float32),\n",
       "  'probabilities': array([0.38113746, 0.6188625 ], dtype=float32)},\n",
       " {'class_ids': array([1]),\n",
       "  'classes': array([b'1'], dtype=object),\n",
       "  'logistic': array([0.7415527], dtype=float32),\n",
       "  'logits': array([1.0540544], dtype=float32),\n",
       "  'probabilities': array([0.25844732, 0.7415527 ], dtype=float32)},\n",
       " {'class_ids': array([0]),\n",
       "  'classes': array([b'0'], dtype=object),\n",
       "  'logistic': array([0.31239182], dtype=float32),\n",
       "  'logits': array([-0.78896093], dtype=float32),\n",
       "  'probabilities': array([0.6876082 , 0.31239182], dtype=float32)},\n",
       " {'class_ids': array([0]),\n",
       "  'classes': array([b'0'], dtype=object),\n",
       "  'logistic': array([0.1693766], dtype=float32),\n",
       "  'logits': array([-1.5900519], dtype=float32),\n",
       "  'probabilities': array([0.83062345, 0.16937661], dtype=float32)},\n",
       " {'class_ids': array([1]),\n",
       "  'classes': array([b'1'], dtype=object),\n",
       "  'logistic': array([0.5021439], dtype=float32),\n",
       "  'logits': array([0.00857556], dtype=float32),\n",
       "  'probabilities': array([0.49785617, 0.5021439 ], dtype=float32)},\n",
       " {'class_ids': array([0]),\n",
       "  'classes': array([b'0'], dtype=object),\n",
       "  'logistic': array([0.14144082], dtype=float32),\n",
       "  'logits': array([-1.8033742], dtype=float32),\n",
       "  'probabilities': array([0.85855913, 0.14144082], dtype=float32)},\n",
       " {'class_ids': array([1]),\n",
       "  'classes': array([b'1'], dtype=object),\n",
       "  'logistic': array([0.5151892], dtype=float32),\n",
       "  'logits': array([0.0607754], dtype=float32),\n",
       "  'probabilities': array([0.4848108, 0.5151892], dtype=float32)},\n",
       " {'class_ids': array([0]),\n",
       "  'classes': array([b'0'], dtype=object),\n",
       "  'logistic': array([0.12965164], dtype=float32),\n",
       "  'logits': array([-1.9040425], dtype=float32),\n",
       "  'probabilities': array([0.87034833, 0.12965162], dtype=float32)},\n",
       " {'class_ids': array([0]),\n",
       "  'classes': array([b'0'], dtype=object),\n",
       "  'logistic': array([0.1020634], dtype=float32),\n",
       "  'logits': array([-2.1745052], dtype=float32),\n",
       "  'probabilities': array([0.8979366, 0.1020634], dtype=float32)},\n",
       " {'class_ids': array([1]),\n",
       "  'classes': array([b'1'], dtype=object),\n",
       "  'logistic': array([0.5905201], dtype=float32),\n",
       "  'logits': array([0.3661158], dtype=float32),\n",
       "  'probabilities': array([0.40947992, 0.5905201 ], dtype=float32)},\n",
       " {'class_ids': array([0]),\n",
       "  'classes': array([b'0'], dtype=object),\n",
       "  'logistic': array([0.17900558], dtype=float32),\n",
       "  'logits': array([-1.5230994], dtype=float32),\n",
       "  'probabilities': array([0.8209944 , 0.17900556], dtype=float32)},\n",
       " {'class_ids': array([0]),\n",
       "  'classes': array([b'0'], dtype=object),\n",
       "  'logistic': array([0.19472006], dtype=float32),\n",
       "  'logits': array([-1.4196271], dtype=float32),\n",
       "  'probabilities': array([0.80527997, 0.19472006], dtype=float32)},\n",
       " {'class_ids': array([0]),\n",
       "  'classes': array([b'0'], dtype=object),\n",
       "  'logistic': array([0.1059833], dtype=float32),\n",
       "  'logits': array([-2.132443], dtype=float32),\n",
       "  'probabilities': array([0.89401674, 0.1059833 ], dtype=float32)},\n",
       " {'class_ids': array([0]),\n",
       "  'classes': array([b'0'], dtype=object),\n",
       "  'logistic': array([0.16060637], dtype=float32),\n",
       "  'logits': array([-1.6537234], dtype=float32),\n",
       "  'probabilities': array([0.8393937 , 0.16060637], dtype=float32)},\n",
       " {'class_ids': array([0]),\n",
       "  'classes': array([b'0'], dtype=object),\n",
       "  'logistic': array([0.22588663], dtype=float32),\n",
       "  'logits': array([-1.2316852], dtype=float32),\n",
       "  'probabilities': array([0.77411336, 0.22588661], dtype=float32)},\n",
       " {'class_ids': array([0]),\n",
       "  'classes': array([b'0'], dtype=object),\n",
       "  'logistic': array([0.2414491], dtype=float32),\n",
       "  'logits': array([-1.1447513], dtype=float32),\n",
       "  'probabilities': array([0.7585509 , 0.24144906], dtype=float32)},\n",
       " {'class_ids': array([0]),\n",
       "  'classes': array([b'0'], dtype=object),\n",
       "  'logistic': array([0.357295], dtype=float32),\n",
       "  'logits': array([-0.5871241], dtype=float32),\n",
       "  'probabilities': array([0.642705, 0.357295], dtype=float32)},\n",
       " {'class_ids': array([0]),\n",
       "  'classes': array([b'0'], dtype=object),\n",
       "  'logistic': array([0.11999543], dtype=float32),\n",
       "  'logits': array([-1.9924734], dtype=float32),\n",
       "  'probabilities': array([0.8800045 , 0.11999543], dtype=float32)},\n",
       " {'class_ids': array([0]),\n",
       "  'classes': array([b'0'], dtype=object),\n",
       "  'logistic': array([0.21137488], dtype=float32),\n",
       "  'logits': array([-1.3166578], dtype=float32),\n",
       "  'probabilities': array([0.78862506, 0.21137488], dtype=float32)},\n",
       " {'class_ids': array([0]),\n",
       "  'classes': array([b'0'], dtype=object),\n",
       "  'logistic': array([0.19828334], dtype=float32),\n",
       "  'logits': array([-1.3970581], dtype=float32),\n",
       "  'probabilities': array([0.8017166 , 0.19828334], dtype=float32)},\n",
       " {'class_ids': array([0]),\n",
       "  'classes': array([b'0'], dtype=object),\n",
       "  'logistic': array([0.2012331], dtype=float32),\n",
       "  'logits': array([-1.3786051], dtype=float32),\n",
       "  'probabilities': array([0.79876685, 0.20123312], dtype=float32)},\n",
       " {'class_ids': array([0]),\n",
       "  'classes': array([b'0'], dtype=object),\n",
       "  'logistic': array([0.486449], dtype=float32),\n",
       "  'logits': array([-0.05421722], dtype=float32),\n",
       "  'probabilities': array([0.513551  , 0.48644903], dtype=float32)},\n",
       " {'class_ids': array([0]),\n",
       "  'classes': array([b'0'], dtype=object),\n",
       "  'logistic': array([0.15075816], dtype=float32),\n",
       "  'logits': array([-1.728667], dtype=float32),\n",
       "  'probabilities': array([0.84924185, 0.15075816], dtype=float32)},\n",
       " {'class_ids': array([0]),\n",
       "  'classes': array([b'0'], dtype=object),\n",
       "  'logistic': array([0.21612842], dtype=float32),\n",
       "  'logits': array([-1.2883724], dtype=float32),\n",
       "  'probabilities': array([0.7838716 , 0.21612842], dtype=float32)},\n",
       " {'class_ids': array([1]),\n",
       "  'classes': array([b'1'], dtype=object),\n",
       "  'logistic': array([0.6427193], dtype=float32),\n",
       "  'logits': array([0.58718646], dtype=float32),\n",
       "  'probabilities': array([0.3572807, 0.6427193], dtype=float32)},\n",
       " {'class_ids': array([1]),\n",
       "  'classes': array([b'1'], dtype=object),\n",
       "  'logistic': array([0.6216352], dtype=float32),\n",
       "  'logits': array([0.49649453], dtype=float32),\n",
       "  'probabilities': array([0.37836483, 0.6216352 ], dtype=float32)},\n",
       " {'class_ids': array([0]),\n",
       "  'classes': array([b'0'], dtype=object),\n",
       "  'logistic': array([0.48624378], dtype=float32),\n",
       "  'logits': array([-0.05503857], dtype=float32),\n",
       "  'probabilities': array([0.5137562 , 0.48624387], dtype=float32)},\n",
       " {'class_ids': array([0]),\n",
       "  'classes': array([b'0'], dtype=object),\n",
       "  'logistic': array([0.34550628], dtype=float32),\n",
       "  'logits': array([-0.63885117], dtype=float32),\n",
       "  'probabilities': array([0.6544937 , 0.34550628], dtype=float32)},\n",
       " {'class_ids': array([0]),\n",
       "  'classes': array([b'0'], dtype=object),\n",
       "  'logistic': array([0.46952233], dtype=float32),\n",
       "  'logits': array([-0.12206209], dtype=float32),\n",
       "  'probabilities': array([0.5304777, 0.4695223], dtype=float32)},\n",
       " {'class_ids': array([0]),\n",
       "  'classes': array([b'0'], dtype=object),\n",
       "  'logistic': array([0.15650767], dtype=float32),\n",
       "  'logits': array([-1.6844459], dtype=float32),\n",
       "  'probabilities': array([0.8434923 , 0.15650767], dtype=float32)},\n",
       " {'class_ids': array([0]),\n",
       "  'classes': array([b'0'], dtype=object),\n",
       "  'logistic': array([0.18214963], dtype=float32),\n",
       "  'logits': array([-1.5018508], dtype=float32),\n",
       "  'probabilities': array([0.8178504 , 0.18214965], dtype=float32)},\n",
       " {'class_ids': array([0]),\n",
       "  'classes': array([b'0'], dtype=object),\n",
       "  'logistic': array([0.14570999], dtype=float32),\n",
       "  'logits': array([-1.7686524], dtype=float32),\n",
       "  'probabilities': array([0.85428995, 0.14570999], dtype=float32)},\n",
       " {'class_ids': array([0]),\n",
       "  'classes': array([b'0'], dtype=object),\n",
       "  'logistic': array([0.11849448], dtype=float32),\n",
       "  'logits': array([-2.006765], dtype=float32),\n",
       "  'probabilities': array([0.88150555, 0.11849448], dtype=float32)},\n",
       " {'class_ids': array([1]),\n",
       "  'classes': array([b'1'], dtype=object),\n",
       "  'logistic': array([0.57553744], dtype=float32),\n",
       "  'logits': array([0.30448043], dtype=float32),\n",
       "  'probabilities': array([0.4244626 , 0.57553744], dtype=float32)},\n",
       " {'class_ids': array([0]),\n",
       "  'classes': array([b'0'], dtype=object),\n",
       "  'logistic': array([0.22065522], dtype=float32),\n",
       "  'logits': array([-1.2618521], dtype=float32),\n",
       "  'probabilities': array([0.77934474, 0.22065522], dtype=float32)},\n",
       " {'class_ids': array([0]),\n",
       "  'classes': array([b'0'], dtype=object),\n",
       "  'logistic': array([0.41828555], dtype=float32),\n",
       "  'logits': array([-0.32981545], dtype=float32),\n",
       "  'probabilities': array([0.5817145 , 0.41828555], dtype=float32)},\n",
       " {'class_ids': array([1]),\n",
       "  'classes': array([b'1'], dtype=object),\n",
       "  'logistic': array([0.5797751], dtype=float32),\n",
       "  'logits': array([0.3218503], dtype=float32),\n",
       "  'probabilities': array([0.42022485, 0.5797751 ], dtype=float32)},\n",
       " {'class_ids': array([0]),\n",
       "  'classes': array([b'0'], dtype=object),\n",
       "  'logistic': array([0.29732826], dtype=float32),\n",
       "  'logits': array([-0.86005306], dtype=float32),\n",
       "  'probabilities': array([0.70267177, 0.29732826], dtype=float32)},\n",
       " {'class_ids': array([1]),\n",
       "  'classes': array([b'1'], dtype=object),\n",
       "  'logistic': array([0.6422643], dtype=float32),\n",
       "  'logits': array([0.5852057], dtype=float32),\n",
       "  'probabilities': array([0.3577356, 0.6422643], dtype=float32)},\n",
       " {'class_ids': array([0]),\n",
       "  'classes': array([b'0'], dtype=object),\n",
       "  'logistic': array([0.11909463], dtype=float32),\n",
       "  'logits': array([-2.0010319], dtype=float32),\n",
       "  'probabilities': array([0.88090533, 0.11909462], dtype=float32)},\n",
       " {'class_ids': array([1]),\n",
       "  'classes': array([b'1'], dtype=object),\n",
       "  'logistic': array([0.610376], dtype=float32),\n",
       "  'logits': array([0.44889295], dtype=float32),\n",
       "  'probabilities': array([0.389624, 0.610376], dtype=float32)},\n",
       " {'class_ids': array([0]),\n",
       "  'classes': array([b'0'], dtype=object),\n",
       "  'logistic': array([0.10812017], dtype=float32),\n",
       "  'logits': array([-2.110088], dtype=float32),\n",
       "  'probabilities': array([0.89187986, 0.10812017], dtype=float32)},\n",
       " {'class_ids': array([1]),\n",
       "  'classes': array([b'1'], dtype=object),\n",
       "  'logistic': array([0.523553], dtype=float32),\n",
       "  'logits': array([0.09428179], dtype=float32),\n",
       "  'probabilities': array([0.47644702, 0.523553  ], dtype=float32)},\n",
       " {'class_ids': array([0]),\n",
       "  'classes': array([b'0'], dtype=object),\n",
       "  'logistic': array([0.32451192], dtype=float32),\n",
       "  'logits': array([-0.7331133], dtype=float32),\n",
       "  'probabilities': array([0.67548805, 0.3245119 ], dtype=float32)},\n",
       " {'class_ids': array([0]),\n",
       "  'classes': array([b'0'], dtype=object),\n",
       "  'logistic': array([0.15205787], dtype=float32),\n",
       "  'logits': array([-1.7185513], dtype=float32),\n",
       "  'probabilities': array([0.8479421 , 0.15205786], dtype=float32)},\n",
       " {'class_ids': array([1]),\n",
       "  'classes': array([b'1'], dtype=object),\n",
       "  'logistic': array([0.5328991], dtype=float32),\n",
       "  'logits': array([0.1317867], dtype=float32),\n",
       "  'probabilities': array([0.46710092, 0.5328991 ], dtype=float32)},\n",
       " {'class_ids': array([1]),\n",
       "  'classes': array([b'1'], dtype=object),\n",
       "  'logistic': array([0.5772701], dtype=float32),\n",
       "  'logits': array([0.3115766], dtype=float32),\n",
       "  'probabilities': array([0.42273  , 0.5772701], dtype=float32)},\n",
       " {'class_ids': array([1]),\n",
       "  'classes': array([b'1'], dtype=object),\n",
       "  'logistic': array([0.5460907], dtype=float32),\n",
       "  'logits': array([0.18488777], dtype=float32),\n",
       "  'probabilities': array([0.45390928, 0.5460907 ], dtype=float32)},\n",
       " {'class_ids': array([0]),\n",
       "  'classes': array([b'0'], dtype=object),\n",
       "  'logistic': array([0.15878034], dtype=float32),\n",
       "  'logits': array([-1.6673311], dtype=float32),\n",
       "  'probabilities': array([0.84121966, 0.15878034], dtype=float32)},\n",
       " {'class_ids': array([0]),\n",
       "  'classes': array([b'0'], dtype=object),\n",
       "  'logistic': array([0.3378656], dtype=float32),\n",
       "  'logits': array([-0.6728203], dtype=float32),\n",
       "  'probabilities': array([0.66213435, 0.3378656 ], dtype=float32)},\n",
       " {'class_ids': array([0]),\n",
       "  'classes': array([b'0'], dtype=object),\n",
       "  'logistic': array([0.1343838], dtype=float32),\n",
       "  'logits': array([-1.8627417], dtype=float32),\n",
       "  'probabilities': array([0.8656162, 0.1343838], dtype=float32)},\n",
       " {'class_ids': array([1]),\n",
       "  'classes': array([b'1'], dtype=object),\n",
       "  'logistic': array([0.70764047], dtype=float32),\n",
       "  'logits': array([0.883952], dtype=float32),\n",
       "  'probabilities': array([0.29235947, 0.70764047], dtype=float32)},\n",
       " {'class_ids': array([1]),\n",
       "  'classes': array([b'1'], dtype=object),\n",
       "  'logistic': array([0.8057152], dtype=float32),\n",
       "  'logits': array([1.4224051], dtype=float32),\n",
       "  'probabilities': array([0.19428481, 0.8057152 ], dtype=float32)},\n",
       " {'class_ids': array([1]),\n",
       "  'classes': array([b'1'], dtype=object),\n",
       "  'logistic': array([0.6178978], dtype=float32),\n",
       "  'logits': array([0.48063517], dtype=float32),\n",
       "  'probabilities': array([0.38210213, 0.6178978 ], dtype=float32)},\n",
       " {'class_ids': array([0]),\n",
       "  'classes': array([b'0'], dtype=object),\n",
       "  'logistic': array([0.20695451], dtype=float32),\n",
       "  'logits': array([-1.3433816], dtype=float32),\n",
       "  'probabilities': array([0.7930455, 0.2069545], dtype=float32)},\n",
       " {'class_ids': array([0]),\n",
       "  'classes': array([b'0'], dtype=object),\n",
       "  'logistic': array([0.42336947], dtype=float32),\n",
       "  'logits': array([-0.3089565], dtype=float32),\n",
       "  'probabilities': array([0.57663053, 0.42336947], dtype=float32)},\n",
       " {'class_ids': array([0]),\n",
       "  'classes': array([b'0'], dtype=object),\n",
       "  'logistic': array([0.36504158], dtype=float32),\n",
       "  'logits': array([-0.5535483], dtype=float32),\n",
       "  'probabilities': array([0.63495845, 0.36504155], dtype=float32)},\n",
       " {'class_ids': array([0]),\n",
       "  'classes': array([b'0'], dtype=object),\n",
       "  'logistic': array([0.4421761], dtype=float32),\n",
       "  'logits': array([-0.23233497], dtype=float32),\n",
       "  'probabilities': array([0.5578239 , 0.44217616], dtype=float32)},\n",
       " {'class_ids': array([0]),\n",
       "  'classes': array([b'0'], dtype=object),\n",
       "  'logistic': array([0.31518066], dtype=float32),\n",
       "  'logits': array([-0.7760091], dtype=float32),\n",
       "  'probabilities': array([0.68481934, 0.31518066], dtype=float32)},\n",
       " {'class_ids': array([0]),\n",
       "  'classes': array([b'0'], dtype=object),\n",
       "  'logistic': array([0.43914518], dtype=float32),\n",
       "  'logits': array([-0.24463212], dtype=float32),\n",
       "  'probabilities': array([0.56085485, 0.43914518], dtype=float32)},\n",
       " {'class_ids': array([0]),\n",
       "  'classes': array([b'0'], dtype=object),\n",
       "  'logistic': array([0.1454962], dtype=float32),\n",
       "  'logits': array([-1.770371], dtype=float32),\n",
       "  'probabilities': array([0.85450375, 0.1454962 ], dtype=float32)},\n",
       " {'class_ids': array([1]),\n",
       "  'classes': array([b'1'], dtype=object),\n",
       "  'logistic': array([0.5454442], dtype=float32),\n",
       "  'logits': array([0.18227983], dtype=float32),\n",
       "  'probabilities': array([0.4545558, 0.5454442], dtype=float32)},\n",
       " {'class_ids': array([1]),\n",
       "  'classes': array([b'1'], dtype=object),\n",
       "  'logistic': array([0.5407585], dtype=float32),\n",
       "  'logits': array([0.16339648], dtype=float32),\n",
       "  'probabilities': array([0.45924154, 0.5407585 ], dtype=float32)},\n",
       " {'class_ids': array([0]),\n",
       "  'classes': array([b'0'], dtype=object),\n",
       "  'logistic': array([0.23524502], dtype=float32),\n",
       "  'logits': array([-1.1789279], dtype=float32),\n",
       "  'probabilities': array([0.76475495, 0.23524502], dtype=float32)},\n",
       " {'class_ids': array([0]),\n",
       "  'classes': array([b'0'], dtype=object),\n",
       "  'logistic': array([0.16462255], dtype=float32),\n",
       "  'logits': array([-1.6242284], dtype=float32),\n",
       "  'probabilities': array([0.83537745, 0.16462256], dtype=float32)},\n",
       " {'class_ids': array([0]),\n",
       "  'classes': array([b'0'], dtype=object),\n",
       "  'logistic': array([0.16308028], dtype=float32),\n",
       "  'logits': array([-1.6354856], dtype=float32),\n",
       "  'probabilities': array([0.8369197 , 0.16308026], dtype=float32)},\n",
       " {'class_ids': array([0]),\n",
       "  'classes': array([b'0'], dtype=object),\n",
       "  'logistic': array([0.2647446], dtype=float32),\n",
       "  'logits': array([-1.0214522], dtype=float32),\n",
       "  'probabilities': array([0.73525536, 0.2647446 ], dtype=float32)},\n",
       " {'class_ids': array([0]),\n",
       "  'classes': array([b'0'], dtype=object),\n",
       "  'logistic': array([0.3715619], dtype=float32),\n",
       "  'logits': array([-0.52552193], dtype=float32),\n",
       "  'probabilities': array([0.62843806, 0.37156194], dtype=float32)},\n",
       " {'class_ids': array([0]),\n",
       "  'classes': array([b'0'], dtype=object),\n",
       "  'logistic': array([0.12615892], dtype=float32),\n",
       "  'logits': array([-1.9353561], dtype=float32),\n",
       "  'probabilities': array([0.8738411 , 0.12615894], dtype=float32)},\n",
       " {'class_ids': array([0]),\n",
       "  'classes': array([b'0'], dtype=object),\n",
       "  'logistic': array([0.30990827], dtype=float32),\n",
       "  'logits': array([-0.8005481], dtype=float32),\n",
       "  'probabilities': array([0.6900917, 0.3099083], dtype=float32)},\n",
       " {'class_ids': array([0]),\n",
       "  'classes': array([b'0'], dtype=object),\n",
       "  'logistic': array([0.20725022], dtype=float32),\n",
       "  'logits': array([-1.3415807], dtype=float32),\n",
       "  'probabilities': array([0.7927498 , 0.20725024], dtype=float32)},\n",
       " {'class_ids': array([0]),\n",
       "  'classes': array([b'0'], dtype=object),\n",
       "  'logistic': array([0.08330517], dtype=float32),\n",
       "  'logits': array([-2.398264], dtype=float32),\n",
       "  'probabilities': array([0.91669476, 0.08330517], dtype=float32)},\n",
       " {'class_ids': array([0]),\n",
       "  'classes': array([b'0'], dtype=object),\n",
       "  'logistic': array([0.10849215], dtype=float32),\n",
       "  'logits': array([-2.1062365], dtype=float32),\n",
       "  'probabilities': array([0.8915078 , 0.10849214], dtype=float32)},\n",
       " {'class_ids': array([1]),\n",
       "  'classes': array([b'1'], dtype=object),\n",
       "  'logistic': array([0.73161584], dtype=float32),\n",
       "  'logits': array([1.0028361], dtype=float32),\n",
       "  'probabilities': array([0.26838416, 0.73161584], dtype=float32)},\n",
       " {'class_ids': array([0]),\n",
       "  'classes': array([b'0'], dtype=object),\n",
       "  'logistic': array([0.1666857], dtype=float32),\n",
       "  'logits': array([-1.6093009], dtype=float32),\n",
       "  'probabilities': array([0.83331424, 0.16668569], dtype=float32)},\n",
       " {'class_ids': array([0]),\n",
       "  'classes': array([b'0'], dtype=object),\n",
       "  'logistic': array([0.12216683], dtype=float32),\n",
       "  'logits': array([-1.972069], dtype=float32),\n",
       "  'probabilities': array([0.8778332 , 0.12216683], dtype=float32)},\n",
       " {'class_ids': array([0]),\n",
       "  'classes': array([b'0'], dtype=object),\n",
       "  'logistic': array([0.12499285], dtype=float32),\n",
       "  'logits': array([-1.9459755], dtype=float32),\n",
       "  'probabilities': array([0.87500715, 0.12499285], dtype=float32)},\n",
       " {'class_ids': array([0]),\n",
       "  'classes': array([b'0'], dtype=object),\n",
       "  'logistic': array([0.47535732], dtype=float32),\n",
       "  'logits': array([-0.09865057], dtype=float32),\n",
       "  'probabilities': array([0.52464265, 0.47535732], dtype=float32)},\n",
       " {'class_ids': array([0]),\n",
       "  'classes': array([b'0'], dtype=object),\n",
       "  'logistic': array([0.45068428], dtype=float32),\n",
       "  'logits': array([-0.19790637], dtype=float32),\n",
       "  'probabilities': array([0.5493157 , 0.45068422], dtype=float32)},\n",
       " {'class_ids': array([0]),\n",
       "  'classes': array([b'0'], dtype=object),\n",
       "  'logistic': array([0.22521901], dtype=float32),\n",
       "  'logits': array([-1.2355071], dtype=float32),\n",
       "  'probabilities': array([0.774781  , 0.22521901], dtype=float32)},\n",
       " {'class_ids': array([0]),\n",
       "  'classes': array([b'0'], dtype=object),\n",
       "  'logistic': array([0.42157578], dtype=float32),\n",
       "  'logits': array([-0.3163079], dtype=float32),\n",
       "  'probabilities': array([0.5784242, 0.4215758], dtype=float32)},\n",
       " {'class_ids': array([0]),\n",
       "  'classes': array([b'0'], dtype=object),\n",
       "  'logistic': array([0.17100865], dtype=float32),\n",
       "  'logits': array([-1.5784956], dtype=float32),\n",
       "  'probabilities': array([0.82899135, 0.17100865], dtype=float32)},\n",
       " {'class_ids': array([0]),\n",
       "  'classes': array([b'0'], dtype=object),\n",
       "  'logistic': array([0.21602032], dtype=float32),\n",
       "  'logits': array([-1.2890106], dtype=float32),\n",
       "  'probabilities': array([0.7839797 , 0.21602033], dtype=float32)},\n",
       " {'class_ids': array([1]),\n",
       "  'classes': array([b'1'], dtype=object),\n",
       "  'logistic': array([0.50008553], dtype=float32),\n",
       "  'logits': array([0.00034213], dtype=float32),\n",
       "  'probabilities': array([0.49991447, 0.50008553], dtype=float32)},\n",
       " {'class_ids': array([0]),\n",
       "  'classes': array([b'0'], dtype=object),\n",
       "  'logistic': array([0.46544152], dtype=float32),\n",
       "  'logits': array([-0.13845456], dtype=float32),\n",
       "  'probabilities': array([0.5345585 , 0.46544155], dtype=float32)},\n",
       " {'class_ids': array([0]),\n",
       "  'classes': array([b'0'], dtype=object),\n",
       "  'logistic': array([0.12904297], dtype=float32),\n",
       "  'logits': array([-1.9094472], dtype=float32),\n",
       "  'probabilities': array([0.8709571 , 0.12904298], dtype=float32)},\n",
       " {'class_ids': array([0]),\n",
       "  'classes': array([b'0'], dtype=object),\n",
       "  'logistic': array([0.368362], dtype=float32),\n",
       "  'logits': array([-0.5392503], dtype=float32),\n",
       "  'probabilities': array([0.631638, 0.368362], dtype=float32)},\n",
       " {'class_ids': array([1]),\n",
       "  'classes': array([b'1'], dtype=object),\n",
       "  'logistic': array([0.6599679], dtype=float32),\n",
       "  'logits': array([0.6631514], dtype=float32),\n",
       "  'probabilities': array([0.34003204, 0.6599679 ], dtype=float32)},\n",
       " {'class_ids': array([1]),\n",
       "  'classes': array([b'1'], dtype=object),\n",
       "  'logistic': array([0.5224983], dtype=float32),\n",
       "  'logits': array([0.09005392], dtype=float32),\n",
       "  'probabilities': array([0.47750175, 0.5224983 ], dtype=float32)},\n",
       " {'class_ids': array([0]),\n",
       "  'classes': array([b'0'], dtype=object),\n",
       "  'logistic': array([0.3771667], dtype=float32),\n",
       "  'logits': array([-0.5015917], dtype=float32),\n",
       "  'probabilities': array([0.6228333, 0.3771667], dtype=float32)},\n",
       " {'class_ids': array([1]),\n",
       "  'classes': array([b'1'], dtype=object),\n",
       "  'logistic': array([0.5331667], dtype=float32),\n",
       "  'logits': array([0.13286197], dtype=float32),\n",
       "  'probabilities': array([0.46683326, 0.5331667 ], dtype=float32)},\n",
       " {'class_ids': array([0]),\n",
       "  'classes': array([b'0'], dtype=object),\n",
       "  'logistic': array([0.2046745], dtype=float32),\n",
       "  'logits': array([-1.3573306], dtype=float32),\n",
       "  'probabilities': array([0.79532546, 0.2046745 ], dtype=float32)},\n",
       " {'class_ids': array([0]),\n",
       "  'classes': array([b'0'], dtype=object),\n",
       "  'logistic': array([0.17796986], dtype=float32),\n",
       "  'logits': array([-1.5301628], dtype=float32),\n",
       "  'probabilities': array([0.8220301 , 0.17796986], dtype=float32)},\n",
       " {'class_ids': array([0]),\n",
       "  'classes': array([b'0'], dtype=object),\n",
       "  'logistic': array([0.12351696], dtype=float32),\n",
       "  'logits': array([-1.9595388], dtype=float32),\n",
       "  'probabilities': array([0.876483  , 0.12351696], dtype=float32)},\n",
       " {'class_ids': array([0]),\n",
       "  'classes': array([b'0'], dtype=object),\n",
       "  'logistic': array([0.24669671], dtype=float32),\n",
       "  'logits': array([-1.1163082], dtype=float32),\n",
       "  'probabilities': array([0.75330335, 0.24669674], dtype=float32)},\n",
       " {'class_ids': array([0]),\n",
       "  'classes': array([b'0'], dtype=object),\n",
       "  'logistic': array([0.45127824], dtype=float32),\n",
       "  'logits': array([-0.1955074], dtype=float32),\n",
       "  'probabilities': array([0.54872173, 0.4512782 ], dtype=float32)},\n",
       " {'class_ids': array([1]),\n",
       "  'classes': array([b'1'], dtype=object),\n",
       "  'logistic': array([0.6687845], dtype=float32),\n",
       "  'logits': array([0.7026926], dtype=float32),\n",
       "  'probabilities': array([0.3312155, 0.6687845], dtype=float32)},\n",
       " {'class_ids': array([0]),\n",
       "  'classes': array([b'0'], dtype=object),\n",
       "  'logistic': array([0.2033615], dtype=float32),\n",
       "  'logits': array([-1.3654159], dtype=float32),\n",
       "  'probabilities': array([0.7966385 , 0.20336147], dtype=float32)},\n",
       " {'class_ids': array([0]),\n",
       "  'classes': array([b'0'], dtype=object),\n",
       "  'logistic': array([0.14442603], dtype=float32),\n",
       "  'logits': array([-1.779005], dtype=float32),\n",
       "  'probabilities': array([0.85557395, 0.14442603], dtype=float32)},\n",
       " {'class_ids': array([0]),\n",
       "  'classes': array([b'0'], dtype=object),\n",
       "  'logistic': array([0.3951546], dtype=float32),\n",
       "  'logits': array([-0.42569584], dtype=float32),\n",
       "  'probabilities': array([0.6048454 , 0.39515457], dtype=float32)},\n",
       " {'class_ids': array([0]),\n",
       "  'classes': array([b'0'], dtype=object),\n",
       "  'logistic': array([0.22020717], dtype=float32),\n",
       "  'logits': array([-1.2644595], dtype=float32),\n",
       "  'probabilities': array([0.77979285, 0.22020718], dtype=float32)},\n",
       " {'class_ids': array([0]),\n",
       "  'classes': array([b'0'], dtype=object),\n",
       "  'logistic': array([0.13540171], dtype=float32),\n",
       "  'logits': array([-1.8540189], dtype=float32),\n",
       "  'probabilities': array([0.8645983 , 0.13540173], dtype=float32)},\n",
       " {'class_ids': array([0]),\n",
       "  'classes': array([b'0'], dtype=object),\n",
       "  'logistic': array([0.17338672], dtype=float32),\n",
       "  'logits': array([-1.5618124], dtype=float32),\n",
       "  'probabilities': array([0.8266133 , 0.17338674], dtype=float32)},\n",
       " {'class_ids': array([0]),\n",
       "  'classes': array([b'0'], dtype=object),\n",
       "  'logistic': array([0.10879782], dtype=float32),\n",
       "  'logits': array([-2.10308], dtype=float32),\n",
       "  'probabilities': array([0.89120215, 0.10879782], dtype=float32)},\n",
       " {'class_ids': array([0]),\n",
       "  'classes': array([b'0'], dtype=object),\n",
       "  'logistic': array([0.39810997], dtype=float32),\n",
       "  'logits': array([-0.4133464], dtype=float32),\n",
       "  'probabilities': array([0.60189   , 0.39810997], dtype=float32)},\n",
       " {'class_ids': array([1]),\n",
       "  'classes': array([b'1'], dtype=object),\n",
       "  'logistic': array([0.7669083], dtype=float32),\n",
       "  'logits': array([1.1909353], dtype=float32),\n",
       "  'probabilities': array([0.2330917, 0.7669083], dtype=float32)},\n",
       " {'class_ids': array([1]),\n",
       "  'classes': array([b'1'], dtype=object),\n",
       "  'logistic': array([0.7542127], dtype=float32),\n",
       "  'logits': array([1.1212078], dtype=float32),\n",
       "  'probabilities': array([0.24578732, 0.7542127 ], dtype=float32)},\n",
       " {'class_ids': array([1]),\n",
       "  'classes': array([b'1'], dtype=object),\n",
       "  'logistic': array([0.53787816], dtype=float32),\n",
       "  'logits': array([0.1518035], dtype=float32),\n",
       "  'probabilities': array([0.4621218 , 0.53787816], dtype=float32)},\n",
       " {'class_ids': array([0]),\n",
       "  'classes': array([b'0'], dtype=object),\n",
       "  'logistic': array([0.46272764], dtype=float32),\n",
       "  'logits': array([-0.14936662], dtype=float32),\n",
       "  'probabilities': array([0.5372724 , 0.46272764], dtype=float32)},\n",
       " {'class_ids': array([1]),\n",
       "  'classes': array([b'1'], dtype=object),\n",
       "  'logistic': array([0.540744], dtype=float32),\n",
       "  'logits': array([0.16333818], dtype=float32),\n",
       "  'probabilities': array([0.459256, 0.540744], dtype=float32)},\n",
       " {'class_ids': array([0]),\n",
       "  'classes': array([b'0'], dtype=object),\n",
       "  'logistic': array([0.10538102], dtype=float32),\n",
       "  'logits': array([-2.1388154], dtype=float32),\n",
       "  'probabilities': array([0.894619  , 0.10538101], dtype=float32)},\n",
       " {'class_ids': array([0]),\n",
       "  'classes': array([b'0'], dtype=object),\n",
       "  'logistic': array([0.499551], dtype=float32),\n",
       "  'logits': array([-0.00179601], dtype=float32),\n",
       "  'probabilities': array([0.500449, 0.499551], dtype=float32)},\n",
       " {'class_ids': array([1]),\n",
       "  'classes': array([b'1'], dtype=object),\n",
       "  'logistic': array([0.7520035], dtype=float32),\n",
       "  'logits': array([1.1093265], dtype=float32),\n",
       "  'probabilities': array([0.24799646, 0.7520035 ], dtype=float32)},\n",
       " {'class_ids': array([0]),\n",
       "  'classes': array([b'0'], dtype=object),\n",
       "  'logistic': array([0.38571456], dtype=float32),\n",
       "  'logits': array([-0.46536207], dtype=float32),\n",
       "  'probabilities': array([0.6142854 , 0.38571456], dtype=float32)},\n",
       " {'class_ids': array([0]),\n",
       "  'classes': array([b'0'], dtype=object),\n",
       "  'logistic': array([0.25630775], dtype=float32),\n",
       "  'logits': array([-1.0652485], dtype=float32),\n",
       "  'probabilities': array([0.7436923 , 0.25630775], dtype=float32)},\n",
       " {'class_ids': array([0]),\n",
       "  'classes': array([b'0'], dtype=object),\n",
       "  'logistic': array([0.3380747], dtype=float32),\n",
       "  'logits': array([-0.6718858], dtype=float32),\n",
       "  'probabilities': array([0.66192526, 0.33807468], dtype=float32)},\n",
       " {'class_ids': array([1]),\n",
       "  'classes': array([b'1'], dtype=object),\n",
       "  'logistic': array([0.5829834], dtype=float32),\n",
       "  'logits': array([0.33503246], dtype=float32),\n",
       "  'probabilities': array([0.41701669, 0.5829834 ], dtype=float32)},\n",
       " {'class_ids': array([0]),\n",
       "  'classes': array([b'0'], dtype=object),\n",
       "  'logistic': array([0.22470023], dtype=float32),\n",
       "  'logits': array([-1.2384826], dtype=float32),\n",
       "  'probabilities': array([0.7752998 , 0.22470021], dtype=float32)},\n",
       " {'class_ids': array([1]),\n",
       "  'classes': array([b'1'], dtype=object),\n",
       "  'logistic': array([0.6327903], dtype=float32),\n",
       "  'logits': array([0.544206], dtype=float32),\n",
       "  'probabilities': array([0.36720973, 0.6327903 ], dtype=float32)},\n",
       " {'class_ids': array([0]),\n",
       "  'classes': array([b'0'], dtype=object),\n",
       "  'logistic': array([0.37433714], dtype=float32),\n",
       "  'logits': array([-0.51365477], dtype=float32),\n",
       "  'probabilities': array([0.6256628 , 0.37433714], dtype=float32)},\n",
       " {'class_ids': array([0]),\n",
       "  'classes': array([b'0'], dtype=object),\n",
       "  'logistic': array([0.38601536], dtype=float32),\n",
       "  'logits': array([-0.4640928], dtype=float32),\n",
       "  'probabilities': array([0.61398464, 0.38601536], dtype=float32)},\n",
       " {'class_ids': array([0]),\n",
       "  'classes': array([b'0'], dtype=object),\n",
       "  'logistic': array([0.1506527], dtype=float32),\n",
       "  'logits': array([-1.7294909], dtype=float32),\n",
       "  'probabilities': array([0.8493473, 0.1506527], dtype=float32)},\n",
       " {'class_ids': array([0]),\n",
       "  'classes': array([b'0'], dtype=object),\n",
       "  'logistic': array([0.17768367], dtype=float32),\n",
       "  'logits': array([-1.5321203], dtype=float32),\n",
       "  'probabilities': array([0.8223163 , 0.17768367], dtype=float32)},\n",
       " {'class_ids': array([0]),\n",
       "  'classes': array([b'0'], dtype=object),\n",
       "  'logistic': array([0.16672796], dtype=float32),\n",
       "  'logits': array([-1.6089966], dtype=float32),\n",
       "  'probabilities': array([0.83327204, 0.16672796], dtype=float32)},\n",
       " {'class_ids': array([0]),\n",
       "  'classes': array([b'0'], dtype=object),\n",
       "  'logistic': array([0.41504586], dtype=float32),\n",
       "  'logits': array([-0.34314436], dtype=float32),\n",
       "  'probabilities': array([0.5849541 , 0.41504586], dtype=float32)},\n",
       " {'class_ids': array([0]),\n",
       "  'classes': array([b'0'], dtype=object),\n",
       "  'logistic': array([0.13875106], dtype=float32),\n",
       "  'logits': array([-1.8257022], dtype=float32),\n",
       "  'probabilities': array([0.86124897, 0.13875106], dtype=float32)},\n",
       " {'class_ids': array([1]),\n",
       "  'classes': array([b'1'], dtype=object),\n",
       "  'logistic': array([0.74431413], dtype=float32),\n",
       "  'logits': array([1.0685138], dtype=float32),\n",
       "  'probabilities': array([0.25568584, 0.74431413], dtype=float32)},\n",
       " {'class_ids': array([0]),\n",
       "  'classes': array([b'0'], dtype=object),\n",
       "  'logistic': array([0.19529697], dtype=float32),\n",
       "  'logits': array([-1.415952], dtype=float32),\n",
       "  'probabilities': array([0.804703  , 0.19529696], dtype=float32)},\n",
       " {'class_ids': array([1]),\n",
       "  'classes': array([b'1'], dtype=object),\n",
       "  'logistic': array([0.5073286], dtype=float32),\n",
       "  'logits': array([0.02931654], dtype=float32),\n",
       "  'probabilities': array([0.4926714, 0.5073286], dtype=float32)},\n",
       " {'class_ids': array([0]),\n",
       "  'classes': array([b'0'], dtype=object),\n",
       "  'logistic': array([0.14307542], dtype=float32),\n",
       "  'logits': array([-1.789978], dtype=float32),\n",
       "  'probabilities': array([0.8569246 , 0.14307542], dtype=float32)},\n",
       " {'class_ids': array([1]),\n",
       "  'classes': array([b'1'], dtype=object),\n",
       "  'logistic': array([0.661613], dtype=float32),\n",
       "  'logits': array([0.6704904], dtype=float32),\n",
       "  'probabilities': array([0.33838704, 0.661613  ], dtype=float32)},\n",
       " {'class_ids': array([0]),\n",
       "  'classes': array([b'0'], dtype=object),\n",
       "  'logistic': array([0.31414193], dtype=float32),\n",
       "  'logits': array([-0.78082585], dtype=float32),\n",
       "  'probabilities': array([0.6858581 , 0.31414193], dtype=float32)},\n",
       " {'class_ids': array([0]),\n",
       "  'classes': array([b'0'], dtype=object),\n",
       "  'logistic': array([0.18303911], dtype=float32),\n",
       "  'logits': array([-1.4958913], dtype=float32),\n",
       "  'probabilities': array([0.8169609 , 0.18303911], dtype=float32)},\n",
       " {'class_ids': array([0]),\n",
       "  'classes': array([b'0'], dtype=object),\n",
       "  'logistic': array([0.3263441], dtype=float32),\n",
       "  'logits': array([-0.7247671], dtype=float32),\n",
       "  'probabilities': array([0.6736559, 0.3263441], dtype=float32)},\n",
       " {'class_ids': array([0]),\n",
       "  'classes': array([b'0'], dtype=object),\n",
       "  'logistic': array([0.30983037], dtype=float32),\n",
       "  'logits': array([-0.80091256], dtype=float32),\n",
       "  'probabilities': array([0.6901697 , 0.30983037], dtype=float32)},\n",
       " {'class_ids': array([0]),\n",
       "  'classes': array([b'0'], dtype=object),\n",
       "  'logistic': array([0.15533437], dtype=float32),\n",
       "  'logits': array([-1.6933608], dtype=float32),\n",
       "  'probabilities': array([0.8446656 , 0.15533437], dtype=float32)},\n",
       " {'class_ids': array([1]),\n",
       "  'classes': array([b'1'], dtype=object),\n",
       "  'logistic': array([0.69781923], dtype=float32),\n",
       "  'logits': array([0.8369349], dtype=float32),\n",
       "  'probabilities': array([0.3021807 , 0.69781923], dtype=float32)},\n",
       " {'class_ids': array([0]),\n",
       "  'classes': array([b'0'], dtype=object),\n",
       "  'logistic': array([0.18181376], dtype=float32),\n",
       "  'logits': array([-1.5041071], dtype=float32),\n",
       "  'probabilities': array([0.8181862 , 0.18181376], dtype=float32)},\n",
       " {'class_ids': array([0]),\n",
       "  'classes': array([b'0'], dtype=object),\n",
       "  'logistic': array([0.16282345], dtype=float32),\n",
       "  'logits': array([-1.6373684], dtype=float32),\n",
       "  'probabilities': array([0.83717656, 0.16282345], dtype=float32)},\n",
       " {'class_ids': array([0]),\n",
       "  'classes': array([b'0'], dtype=object),\n",
       "  'logistic': array([0.23466484], dtype=float32),\n",
       "  'logits': array([-1.1821556], dtype=float32),\n",
       "  'probabilities': array([0.7653352 , 0.23466484], dtype=float32)},\n",
       " {'class_ids': array([0]),\n",
       "  'classes': array([b'0'], dtype=object),\n",
       "  'logistic': array([0.42126688], dtype=float32),\n",
       "  'logits': array([-0.31757492], dtype=float32),\n",
       "  'probabilities': array([0.5787331 , 0.42126682], dtype=float32)},\n",
       " {'class_ids': array([0]),\n",
       "  'classes': array([b'0'], dtype=object),\n",
       "  'logistic': array([0.26218203], dtype=float32),\n",
       "  'logits': array([-1.0346581], dtype=float32),\n",
       "  'probabilities': array([0.73781794, 0.26218203], dtype=float32)},\n",
       " {'class_ids': array([0]),\n",
       "  'classes': array([b'0'], dtype=object),\n",
       "  'logistic': array([0.10252866], dtype=float32),\n",
       "  'logits': array([-2.1694388], dtype=float32),\n",
       "  'probabilities': array([0.8974713 , 0.10252865], dtype=float32)},\n",
       " {'class_ids': array([1]),\n",
       "  'classes': array([b'1'], dtype=object),\n",
       "  'logistic': array([0.8375546], dtype=float32),\n",
       "  'logits': array([1.6401442], dtype=float32),\n",
       "  'probabilities': array([0.16244544, 0.8375546 ], dtype=float32)},\n",
       " {'class_ids': array([1]),\n",
       "  'classes': array([b'1'], dtype=object),\n",
       "  'logistic': array([0.6738589], dtype=float32),\n",
       "  'logits': array([0.7256906], dtype=float32),\n",
       "  'probabilities': array([0.3261411, 0.6738589], dtype=float32)},\n",
       " {'class_ids': array([1]),\n",
       "  'classes': array([b'1'], dtype=object),\n",
       "  'logistic': array([0.5130233], dtype=float32),\n",
       "  'logits': array([0.05210495], dtype=float32),\n",
       "  'probabilities': array([0.48697674, 0.5130233 ], dtype=float32)},\n",
       " {'class_ids': array([1]),\n",
       "  'classes': array([b'1'], dtype=object),\n",
       "  'logistic': array([0.6923377], dtype=float32),\n",
       "  'logits': array([0.81107104], dtype=float32),\n",
       "  'probabilities': array([0.3076623, 0.6923377], dtype=float32)},\n",
       " {'class_ids': array([0]),\n",
       "  'classes': array([b'0'], dtype=object),\n",
       "  'logistic': array([0.10174775], dtype=float32),\n",
       "  'logits': array([-2.1779542], dtype=float32),\n",
       "  'probabilities': array([0.89825225, 0.10174775], dtype=float32)},\n",
       " {'class_ids': array([0]),\n",
       "  'classes': array([b'0'], dtype=object),\n",
       "  'logistic': array([0.13528144], dtype=float32),\n",
       "  'logits': array([-1.8550467], dtype=float32),\n",
       "  'probabilities': array([0.86471856, 0.13528143], dtype=float32)},\n",
       " {'class_ids': array([0]),\n",
       "  'classes': array([b'0'], dtype=object),\n",
       "  'logistic': array([0.18864238], dtype=float32),\n",
       "  'logits': array([-1.4588559], dtype=float32),\n",
       "  'probabilities': array([0.8113576 , 0.18864238], dtype=float32)},\n",
       " {'class_ids': array([0]),\n",
       "  'classes': array([b'0'], dtype=object),\n",
       "  'logistic': array([0.3262029], dtype=float32),\n",
       "  'logits': array([-0.7254093], dtype=float32),\n",
       "  'probabilities': array([0.6737971 , 0.32620293], dtype=float32)},\n",
       " {'class_ids': array([0]),\n",
       "  'classes': array([b'0'], dtype=object),\n",
       "  'logistic': array([0.35903305], dtype=float32),\n",
       "  'logits': array([-0.5795635], dtype=float32),\n",
       "  'probabilities': array([0.640967  , 0.35903308], dtype=float32)},\n",
       " {'class_ids': array([1]),\n",
       "  'classes': array([b'1'], dtype=object),\n",
       "  'logistic': array([0.54718465], dtype=float32),\n",
       "  'logits': array([0.18930197], dtype=float32),\n",
       "  'probabilities': array([0.45281532, 0.54718465], dtype=float32)},\n",
       " {'class_ids': array([1]),\n",
       "  'classes': array([b'1'], dtype=object),\n",
       "  'logistic': array([0.52311766], dtype=float32),\n",
       "  'logits': array([0.09253657], dtype=float32),\n",
       "  'probabilities': array([0.47688234, 0.52311766], dtype=float32)},\n",
       " {'class_ids': array([0]),\n",
       "  'classes': array([b'0'], dtype=object),\n",
       "  'logistic': array([0.35121238], dtype=float32),\n",
       "  'logits': array([-0.61371434], dtype=float32),\n",
       "  'probabilities': array([0.6487876 , 0.35121235], dtype=float32)},\n",
       " {'class_ids': array([0]),\n",
       "  'classes': array([b'0'], dtype=object),\n",
       "  'logistic': array([0.33969456], dtype=float32),\n",
       "  'logits': array([-0.6646557], dtype=float32),\n",
       "  'probabilities': array([0.6603055 , 0.33969456], dtype=float32)},\n",
       " {'class_ids': array([0]),\n",
       "  'classes': array([b'0'], dtype=object),\n",
       "  'logistic': array([0.33851427], dtype=float32),\n",
       "  'logits': array([-0.6699222], dtype=float32),\n",
       "  'probabilities': array([0.66148573, 0.3385143 ], dtype=float32)},\n",
       " {'class_ids': array([0]),\n",
       "  'classes': array([b'0'], dtype=object),\n",
       "  'logistic': array([0.17787415], dtype=float32),\n",
       "  'logits': array([-1.5308173], dtype=float32),\n",
       "  'probabilities': array([0.82212585, 0.17787415], dtype=float32)},\n",
       " {'class_ids': array([1]),\n",
       "  'classes': array([b'1'], dtype=object),\n",
       "  'logistic': array([0.60788417], dtype=float32),\n",
       "  'logits': array([0.4384271], dtype=float32),\n",
       "  'probabilities': array([0.39211583, 0.60788417], dtype=float32)},\n",
       " {'class_ids': array([0]),\n",
       "  'classes': array([b'0'], dtype=object),\n",
       "  'logistic': array([0.11150459], dtype=float32),\n",
       "  'logits': array([-2.0754638], dtype=float32),\n",
       "  'probabilities': array([0.88849545, 0.11150458], dtype=float32)},\n",
       " {'class_ids': array([0]),\n",
       "  'classes': array([b'0'], dtype=object),\n",
       "  'logistic': array([0.23131661], dtype=float32),\n",
       "  'logits': array([-1.2008917], dtype=float32),\n",
       "  'probabilities': array([0.7686834 , 0.23131661], dtype=float32)},\n",
       " {'class_ids': array([1]),\n",
       "  'classes': array([b'1'], dtype=object),\n",
       "  'logistic': array([0.50192744], dtype=float32),\n",
       "  'logits': array([0.00770986], dtype=float32),\n",
       "  'probabilities': array([0.4980725 , 0.50192744], dtype=float32)},\n",
       " {'class_ids': array([0]),\n",
       "  'classes': array([b'0'], dtype=object),\n",
       "  'logistic': array([0.34430787], dtype=float32),\n",
       "  'logits': array([-0.6441551], dtype=float32),\n",
       "  'probabilities': array([0.65569216, 0.3443079 ], dtype=float32)},\n",
       " {'class_ids': array([0]),\n",
       "  'classes': array([b'0'], dtype=object),\n",
       "  'logistic': array([0.18579513], dtype=float32),\n",
       "  'logits': array([-1.4775673], dtype=float32),\n",
       "  'probabilities': array([0.8142049 , 0.18579514], dtype=float32)},\n",
       " {'class_ids': array([0]),\n",
       "  'classes': array([b'0'], dtype=object),\n",
       "  'logistic': array([0.2650038], dtype=float32),\n",
       "  'logits': array([-1.0201212], dtype=float32),\n",
       "  'probabilities': array([0.7349962, 0.2650038], dtype=float32)},\n",
       " {'class_ids': array([0]),\n",
       "  'classes': array([b'0'], dtype=object),\n",
       "  'logistic': array([0.24952354], dtype=float32),\n",
       "  'logits': array([-1.101155], dtype=float32),\n",
       "  'probabilities': array([0.7504764, 0.2495235], dtype=float32)},\n",
       " {'class_ids': array([0]),\n",
       "  'classes': array([b'0'], dtype=object),\n",
       "  'logistic': array([0.11909584], dtype=float32),\n",
       "  'logits': array([-2.0010202], dtype=float32),\n",
       "  'probabilities': array([0.88090414, 0.11909585], dtype=float32)},\n",
       " {'class_ids': array([0]),\n",
       "  'classes': array([b'0'], dtype=object),\n",
       "  'logistic': array([0.17566447], dtype=float32),\n",
       "  'logits': array([-1.5460019], dtype=float32),\n",
       "  'probabilities': array([0.8243355 , 0.17566447], dtype=float32)},\n",
       " {'class_ids': array([1]),\n",
       "  'classes': array([b'1'], dtype=object),\n",
       "  'logistic': array([0.5546714], dtype=float32),\n",
       "  'logits': array([0.21956348], dtype=float32),\n",
       "  'probabilities': array([0.4453286, 0.5546714], dtype=float32)},\n",
       " {'class_ids': array([1]),\n",
       "  'classes': array([b'1'], dtype=object),\n",
       "  'logistic': array([0.7022222], dtype=float32),\n",
       "  'logits': array([0.85790265], dtype=float32),\n",
       "  'probabilities': array([0.2977777, 0.7022222], dtype=float32)},\n",
       " {'class_ids': array([1]),\n",
       "  'classes': array([b'1'], dtype=object),\n",
       "  'logistic': array([0.5932261], dtype=float32),\n",
       "  'logits': array([0.37731802], dtype=float32),\n",
       "  'probabilities': array([0.40677392, 0.5932261 ], dtype=float32)},\n",
       " {'class_ids': array([1]),\n",
       "  'classes': array([b'1'], dtype=object),\n",
       "  'logistic': array([0.6782578], dtype=float32),\n",
       "  'logits': array([0.7457769], dtype=float32),\n",
       "  'probabilities': array([0.3217422, 0.6782578], dtype=float32)},\n",
       " {'class_ids': array([0]),\n",
       "  'classes': array([b'0'], dtype=object),\n",
       "  'logistic': array([0.43890974], dtype=float32),\n",
       "  'logits': array([-0.24558812], dtype=float32),\n",
       "  'probabilities': array([0.5610903, 0.4389097], dtype=float32)},\n",
       " {'class_ids': array([0]),\n",
       "  'classes': array([b'0'], dtype=object),\n",
       "  'logistic': array([0.2662448], dtype=float32),\n",
       "  'logits': array([-1.0137593], dtype=float32),\n",
       "  'probabilities': array([0.73375523, 0.26624483], dtype=float32)},\n",
       " {'class_ids': array([0]),\n",
       "  'classes': array([b'0'], dtype=object),\n",
       "  'logistic': array([0.47287807], dtype=float32),\n",
       "  'logits': array([-0.10859442], dtype=float32),\n",
       "  'probabilities': array([0.52712196, 0.47287804], dtype=float32)},\n",
       " {'class_ids': array([0]),\n",
       "  'classes': array([b'0'], dtype=object),\n",
       "  'logistic': array([0.17515609], dtype=float32),\n",
       "  'logits': array([-1.5495167], dtype=float32),\n",
       "  'probabilities': array([0.8248439 , 0.17515607], dtype=float32)},\n",
       " {'class_ids': array([0]),\n",
       "  'classes': array([b'0'], dtype=object),\n",
       "  'logistic': array([0.13200407], dtype=float32),\n",
       "  'logits': array([-1.8833543], dtype=float32),\n",
       "  'probabilities': array([0.867996  , 0.13200408], dtype=float32)},\n",
       " {'class_ids': array([0]),\n",
       "  'classes': array([b'0'], dtype=object),\n",
       "  'logistic': array([0.17115042], dtype=float32),\n",
       "  'logits': array([-1.5774958], dtype=float32),\n",
       "  'probabilities': array([0.82884955, 0.17115043], dtype=float32)},\n",
       " {'class_ids': array([0]),\n",
       "  'classes': array([b'0'], dtype=object),\n",
       "  'logistic': array([0.48527202], dtype=float32),\n",
       "  'logits': array([-0.05892897], dtype=float32),\n",
       "  'probabilities': array([0.51472795, 0.485272  ], dtype=float32)},\n",
       " {'class_ids': array([0]),\n",
       "  'classes': array([b'0'], dtype=object),\n",
       "  'logistic': array([0.05280225], dtype=float32),\n",
       "  'logits': array([-2.886954], dtype=float32),\n",
       "  'probabilities': array([0.9471978 , 0.05280225], dtype=float32)},\n",
       " {'class_ids': array([0]),\n",
       "  'classes': array([b'0'], dtype=object),\n",
       "  'logistic': array([0.2650751], dtype=float32),\n",
       "  'logits': array([-1.0197551], dtype=float32),\n",
       "  'probabilities': array([0.7349249 , 0.26507512], dtype=float32)},\n",
       " {'class_ids': array([0]),\n",
       "  'classes': array([b'0'], dtype=object),\n",
       "  'logistic': array([0.15766373], dtype=float32),\n",
       "  'logits': array([-1.6757149], dtype=float32),\n",
       "  'probabilities': array([0.8423363 , 0.15766373], dtype=float32)},\n",
       " {'class_ids': array([0]),\n",
       "  'classes': array([b'0'], dtype=object),\n",
       "  'logistic': array([0.25019017], dtype=float32),\n",
       "  'logits': array([-1.0975983], dtype=float32),\n",
       "  'probabilities': array([0.7498098 , 0.25019017], dtype=float32)},\n",
       " {'class_ids': array([0]),\n",
       "  'classes': array([b'0'], dtype=object),\n",
       "  'logistic': array([0.23462178], dtype=float32),\n",
       "  'logits': array([-1.1823953], dtype=float32),\n",
       "  'probabilities': array([0.76537824, 0.2346218 ], dtype=float32)},\n",
       " {'class_ids': array([0]),\n",
       "  'classes': array([b'0'], dtype=object),\n",
       "  'logistic': array([0.25311688], dtype=float32),\n",
       "  'logits': array([-1.0820574], dtype=float32),\n",
       "  'probabilities': array([0.7468831 , 0.25311688], dtype=float32)},\n",
       " {'class_ids': array([1]),\n",
       "  'classes': array([b'1'], dtype=object),\n",
       "  'logistic': array([0.7546879], dtype=float32),\n",
       "  'logits': array([1.123773], dtype=float32),\n",
       "  'probabilities': array([0.24531211, 0.7546879 ], dtype=float32)},\n",
       " {'class_ids': array([0]),\n",
       "  'classes': array([b'0'], dtype=object),\n",
       "  'logistic': array([0.16305767], dtype=float32),\n",
       "  'logits': array([-1.6356512], dtype=float32),\n",
       "  'probabilities': array([0.8369424 , 0.16305768], dtype=float32)},\n",
       " {'class_ids': array([0]),\n",
       "  'classes': array([b'0'], dtype=object),\n",
       "  'logistic': array([0.11540286], dtype=float32),\n",
       "  'logits': array([-2.036703], dtype=float32),\n",
       "  'probabilities': array([0.8845971 , 0.11540286], dtype=float32)},\n",
       " {'class_ids': array([1]),\n",
       "  'classes': array([b'1'], dtype=object),\n",
       "  'logistic': array([0.57773304], dtype=float32),\n",
       "  'logits': array([0.31347418], dtype=float32),\n",
       "  'probabilities': array([0.42226696, 0.57773304], dtype=float32)},\n",
       " {'class_ids': array([0]),\n",
       "  'classes': array([b'0'], dtype=object),\n",
       "  'logistic': array([0.45536804], dtype=float32),\n",
       "  'logits': array([-0.17900431], dtype=float32),\n",
       "  'probabilities': array([0.54463196, 0.45536804], dtype=float32)},\n",
       " {'class_ids': array([1]),\n",
       "  'classes': array([b'1'], dtype=object),\n",
       "  'logistic': array([0.83425605], dtype=float32),\n",
       "  'logits': array([1.6160964], dtype=float32),\n",
       "  'probabilities': array([0.16574393, 0.83425605], dtype=float32)},\n",
       " {'class_ids': array([1]),\n",
       "  'classes': array([b'1'], dtype=object),\n",
       "  'logistic': array([0.62037355], dtype=float32),\n",
       "  'logits': array([0.49113417], dtype=float32),\n",
       "  'probabilities': array([0.37962642, 0.62037355], dtype=float32)},\n",
       " {'class_ids': array([0]),\n",
       "  'classes': array([b'0'], dtype=object),\n",
       "  'logistic': array([0.11494139], dtype=float32),\n",
       "  'logits': array([-2.0412316], dtype=float32),\n",
       "  'probabilities': array([0.88505864, 0.11494137], dtype=float32)},\n",
       " {'class_ids': array([1]),\n",
       "  'classes': array([b'1'], dtype=object),\n",
       "  'logistic': array([0.6399865], dtype=float32),\n",
       "  'logits': array([0.5753057], dtype=float32),\n",
       "  'probabilities': array([0.36001348, 0.6399865 ], dtype=float32)},\n",
       " {'class_ids': array([1]),\n",
       "  'classes': array([b'1'], dtype=object),\n",
       "  'logistic': array([0.5288757], dtype=float32),\n",
       "  'logits': array([0.11563146], dtype=float32),\n",
       "  'probabilities': array([0.47112432, 0.5288757 ], dtype=float32)},\n",
       " {'class_ids': array([1]),\n",
       "  'classes': array([b'1'], dtype=object),\n",
       "  'logistic': array([0.7734688], dtype=float32),\n",
       "  'logits': array([1.2280029], dtype=float32),\n",
       "  'probabilities': array([0.22653115, 0.7734688 ], dtype=float32)},\n",
       " {'class_ids': array([0]),\n",
       "  'classes': array([b'0'], dtype=object),\n",
       "  'logistic': array([0.20685588], dtype=float32),\n",
       "  'logits': array([-1.3439827], dtype=float32),\n",
       "  'probabilities': array([0.7931441 , 0.20685586], dtype=float32)},\n",
       " {'class_ids': array([0]),\n",
       "  'classes': array([b'0'], dtype=object),\n",
       "  'logistic': array([0.1551019], dtype=float32),\n",
       "  'logits': array([-1.6951337], dtype=float32),\n",
       "  'probabilities': array([0.8448981, 0.1551019], dtype=float32)},\n",
       " {'class_ids': array([1]),\n",
       "  'classes': array([b'1'], dtype=object),\n",
       "  'logistic': array([0.52208024], dtype=float32),\n",
       "  'logits': array([0.08837855], dtype=float32),\n",
       "  'probabilities': array([0.4779197 , 0.52208024], dtype=float32)},\n",
       " {'class_ids': array([0]),\n",
       "  'classes': array([b'0'], dtype=object),\n",
       "  'logistic': array([0.14213622], dtype=float32),\n",
       "  'logits': array([-1.7976594], dtype=float32),\n",
       "  'probabilities': array([0.8578638 , 0.14213623], dtype=float32)},\n",
       " {'class_ids': array([1]),\n",
       "  'classes': array([b'1'], dtype=object),\n",
       "  'logistic': array([0.74844384], dtype=float32),\n",
       "  'logits': array([1.09033], dtype=float32),\n",
       "  'probabilities': array([0.25155613, 0.74844384], dtype=float32)},\n",
       " {'class_ids': array([1]),\n",
       "  'classes': array([b'1'], dtype=object),\n",
       "  'logistic': array([0.5058144], dtype=float32),\n",
       "  'logits': array([0.02325869], dtype=float32),\n",
       "  'probabilities': array([0.49418557, 0.5058144 ], dtype=float32)},\n",
       " {'class_ids': array([0]),\n",
       "  'classes': array([b'0'], dtype=object),\n",
       "  'logistic': array([0.16137813], dtype=float32),\n",
       "  'logits': array([-1.6480097], dtype=float32),\n",
       "  'probabilities': array([0.83862185, 0.16137813], dtype=float32)},\n",
       " {'class_ids': array([1]),\n",
       "  'classes': array([b'1'], dtype=object),\n",
       "  'logistic': array([0.54024494], dtype=float32),\n",
       "  'logits': array([0.16132867], dtype=float32),\n",
       "  'probabilities': array([0.45975512, 0.54024494], dtype=float32)},\n",
       " {'class_ids': array([0]),\n",
       "  'classes': array([b'0'], dtype=object),\n",
       "  'logistic': array([0.43323714], dtype=float32),\n",
       "  'logits': array([-0.2686556], dtype=float32),\n",
       "  'probabilities': array([0.56676286, 0.4332372 ], dtype=float32)},\n",
       " {'class_ids': array([0]),\n",
       "  'classes': array([b'0'], dtype=object),\n",
       "  'logistic': array([0.10204036], dtype=float32),\n",
       "  'logits': array([-2.1747568], dtype=float32),\n",
       "  'probabilities': array([0.89795965, 0.10204036], dtype=float32)},\n",
       " {'class_ids': array([1]),\n",
       "  'classes': array([b'1'], dtype=object),\n",
       "  'logistic': array([0.50120234], dtype=float32),\n",
       "  'logits': array([0.00480938], dtype=float32),\n",
       "  'probabilities': array([0.49879766, 0.50120234], dtype=float32)},\n",
       " {'class_ids': array([1]),\n",
       "  'classes': array([b'1'], dtype=object),\n",
       "  'logistic': array([0.55802125], dtype=float32),\n",
       "  'logits': array([0.2331351], dtype=float32),\n",
       "  'probabilities': array([0.4419788 , 0.55802125], dtype=float32)},\n",
       " {'class_ids': array([1]),\n",
       "  'classes': array([b'1'], dtype=object),\n",
       "  'logistic': array([0.7371426], dtype=float32),\n",
       "  'logits': array([1.0311698], dtype=float32),\n",
       "  'probabilities': array([0.26285738, 0.7371426 ], dtype=float32)},\n",
       " {'class_ids': array([1]),\n",
       "  'classes': array([b'1'], dtype=object),\n",
       "  'logistic': array([0.7921345], dtype=float32),\n",
       "  'logits': array([1.33784], dtype=float32),\n",
       "  'probabilities': array([0.20786549, 0.7921345 ], dtype=float32)},\n",
       " {'class_ids': array([0]),\n",
       "  'classes': array([b'0'], dtype=object),\n",
       "  'logistic': array([0.42128524], dtype=float32),\n",
       "  'logits': array([-0.3174997], dtype=float32),\n",
       "  'probabilities': array([0.5787148, 0.4212852], dtype=float32)},\n",
       " {'class_ids': array([0]),\n",
       "  'classes': array([b'0'], dtype=object),\n",
       "  'logistic': array([0.14874762], dtype=float32),\n",
       "  'logits': array([-1.7444576], dtype=float32),\n",
       "  'probabilities': array([0.8512524 , 0.14874762], dtype=float32)},\n",
       " {'class_ids': array([0]),\n",
       "  'classes': array([b'0'], dtype=object),\n",
       "  'logistic': array([0.07673013], dtype=float32),\n",
       "  'logits': array([-2.487627], dtype=float32),\n",
       "  'probabilities': array([0.9232698 , 0.07673013], dtype=float32)},\n",
       " {'class_ids': array([0]),\n",
       "  'classes': array([b'0'], dtype=object),\n",
       "  'logistic': array([0.09857786], dtype=float32),\n",
       "  'logits': array([-2.213127], dtype=float32),\n",
       "  'probabilities': array([0.9014221 , 0.09857786], dtype=float32)},\n",
       " {'class_ids': array([0]),\n",
       "  'classes': array([b'0'], dtype=object),\n",
       "  'logistic': array([0.24981828], dtype=float32),\n",
       "  'logits': array([-1.0995816], dtype=float32),\n",
       "  'probabilities': array([0.7501817 , 0.24981828], dtype=float32)},\n",
       " {'class_ids': array([0]),\n",
       "  'classes': array([b'0'], dtype=object),\n",
       "  'logistic': array([0.30329984], dtype=float32),\n",
       "  'logits': array([-0.83163327], dtype=float32),\n",
       "  'probabilities': array([0.69670016, 0.30329984], dtype=float32)},\n",
       " {'class_ids': array([0]),\n",
       "  'classes': array([b'0'], dtype=object),\n",
       "  'logistic': array([0.27106988], dtype=float32),\n",
       "  'logits': array([-0.9892012], dtype=float32),\n",
       "  'probabilities': array([0.7289301 , 0.27106988], dtype=float32)}]"
      ]
     },
     "execution_count": 408,
     "metadata": {},
     "output_type": "execute_result"
    }
   ],
   "source": [
    "my_pred_list\n"
   ]
  },
  {
   "cell_type": "code",
   "execution_count": 410,
   "metadata": {},
   "outputs": [
    {
     "data": {
      "text/plain": [
       "[_NumericColumn(key='Number_pregnant', shape=(1,), default_value=None, dtype=tf.float32, normalizer_fn=None),\n",
       " _NumericColumn(key='Glucose_concentration', shape=(1,), default_value=None, dtype=tf.float32, normalizer_fn=None),\n",
       " _NumericColumn(key='Blood_pressure', shape=(1,), default_value=None, dtype=tf.float32, normalizer_fn=None),\n",
       " _NumericColumn(key='Triceps', shape=(1,), default_value=None, dtype=tf.float32, normalizer_fn=None),\n",
       " _NumericColumn(key='Insulin', shape=(1,), default_value=None, dtype=tf.float32, normalizer_fn=None),\n",
       " _NumericColumn(key='BMI', shape=(1,), default_value=None, dtype=tf.float32, normalizer_fn=None),\n",
       " _NumericColumn(key='Pedigree', shape=(1,), default_value=None, dtype=tf.float32, normalizer_fn=None),\n",
       " _VocabularyListCategoricalColumn(key='Group', vocabulary_list=('A', 'B', 'C', 'D'), dtype=tf.string, default_value=-1, num_oov_buckets=0),\n",
       " _BucketizedColumn(source_column=_NumericColumn(key='Age', shape=(1,), default_value=None, dtype=tf.float32, normalizer_fn=None), boundaries=(20, 30, 40, 50, 60, 70, 80))]"
      ]
     },
     "execution_count": 410,
     "metadata": {},
     "output_type": "execute_result"
    }
   ],
   "source": [
    "list(feat_cols)"
   ]
  },
  {
   "cell_type": "code",
   "execution_count": null,
   "metadata": {},
   "outputs": [],
   "source": [
    "feat_cols = [preg,glu,bp,tri,ins,bmi,ped,assigned_group,age_bucket]"
   ]
  },
  {
   "cell_type": "code",
   "execution_count": 411,
   "metadata": {},
   "outputs": [],
   "source": [
    "embedded_group_col = tf.feature_column.embedding_column(assigned_group,dimension=4)"
   ]
  },
  {
   "cell_type": "code",
   "execution_count": 412,
   "metadata": {},
   "outputs": [],
   "source": [
    "feat_cols = [preg,glu,bp,tri,ins,bmi,ped,embedded_group_col,age_bucket]"
   ]
  },
  {
   "cell_type": "code",
   "execution_count": 413,
   "metadata": {},
   "outputs": [],
   "source": [
    "dnn_inp_func = tf.estimator.inputs.pandas_input_fn(X_train,y_train\n",
    "                                                   ,batch_size=10\n",
    "                                                   ,num_epochs=1000\n",
    "                                                   ,shuffle=True\n",
    "                                                  )"
   ]
  },
  {
   "cell_type": "code",
   "execution_count": 418,
   "metadata": {
    "scrolled": true
   },
   "outputs": [
    {
     "name": "stdout",
     "output_type": "stream",
     "text": [
      "INFO:tensorflow:Using default config.\n",
      "WARNING:tensorflow:Using temporary folder as model directory: /var/folders/tg/g7jktb5j5w53lzlrgd3g453x9xwy6b/T/tmpr6_1dhso\n",
      "INFO:tensorflow:Using config: {'_global_id_in_cluster': 0, '_session_config': None, '_device_fn': None, '_save_checkpoints_steps': None, '_cluster_spec': <tensorflow.python.training.server_lib.ClusterSpec object at 0x132ead080>, '_num_ps_replicas': 0, '_tf_random_seed': None, '_num_worker_replicas': 1, '_train_distribute': None, '_task_id': 0, '_save_summary_steps': 100, '_master': '', '_is_chief': True, '_keep_checkpoint_every_n_hours': 10000, '_log_step_count_steps': 100, '_save_checkpoints_secs': 600, '_evaluation_master': '', '_service': None, '_keep_checkpoint_max': 5, '_model_dir': '/var/folders/tg/g7jktb5j5w53lzlrgd3g453x9xwy6b/T/tmpr6_1dhso', '_task_type': 'worker'}\n"
     ]
    }
   ],
   "source": [
    "dnn_model = tf.estimator.DNNClassifier(hidden_units=[10,20,10,10]\n",
    "                                       ,feature_columns=feat_cols\n",
    "                                      ,n_classes=2)"
   ]
  },
  {
   "cell_type": "code",
   "execution_count": 419,
   "metadata": {},
   "outputs": [
    {
     "name": "stdout",
     "output_type": "stream",
     "text": [
      "INFO:tensorflow:Calling model_fn.\n",
      "INFO:tensorflow:Done calling model_fn.\n",
      "INFO:tensorflow:Create CheckpointSaverHook.\n",
      "INFO:tensorflow:Graph was finalized.\n",
      "INFO:tensorflow:Running local_init_op.\n",
      "INFO:tensorflow:Done running local_init_op.\n",
      "INFO:tensorflow:Saving checkpoints for 0 into /var/folders/tg/g7jktb5j5w53lzlrgd3g453x9xwy6b/T/tmpr6_1dhso/model.ckpt.\n",
      "INFO:tensorflow:loss = 7.0048285, step = 1\n",
      "INFO:tensorflow:global_step/sec: 233.642\n",
      "INFO:tensorflow:loss = 6.937997, step = 101 (0.432 sec)\n",
      "INFO:tensorflow:global_step/sec: 390.657\n",
      "INFO:tensorflow:loss = 6.2153745, step = 201 (0.255 sec)\n",
      "INFO:tensorflow:global_step/sec: 401.009\n",
      "INFO:tensorflow:loss = 4.0276523, step = 301 (0.248 sec)\n",
      "INFO:tensorflow:global_step/sec: 409.241\n",
      "INFO:tensorflow:loss = 3.4703865, step = 401 (0.244 sec)\n",
      "INFO:tensorflow:global_step/sec: 349.835\n",
      "INFO:tensorflow:loss = 3.7668805, step = 501 (0.291 sec)\n",
      "INFO:tensorflow:global_step/sec: 354.517\n",
      "INFO:tensorflow:loss = 5.117732, step = 601 (0.280 sec)\n",
      "INFO:tensorflow:global_step/sec: 303.534\n",
      "INFO:tensorflow:loss = 6.5233836, step = 701 (0.327 sec)\n",
      "INFO:tensorflow:global_step/sec: 342.463\n",
      "INFO:tensorflow:loss = 3.1734242, step = 801 (0.292 sec)\n",
      "INFO:tensorflow:global_step/sec: 398.711\n",
      "INFO:tensorflow:loss = 3.309111, step = 901 (0.250 sec)\n",
      "INFO:tensorflow:Saving checkpoints for 1000 into /var/folders/tg/g7jktb5j5w53lzlrgd3g453x9xwy6b/T/tmpr6_1dhso/model.ckpt.\n",
      "INFO:tensorflow:Loss for final step: 3.2751482.\n"
     ]
    },
    {
     "data": {
      "text/plain": [
       "<tensorflow.python.estimator.canned.dnn.DNNClassifier at 0x132eadc18>"
      ]
     },
     "execution_count": 419,
     "metadata": {},
     "output_type": "execute_result"
    }
   ],
   "source": [
    "dnn_model.train(input_fn=dnn_inp_func,steps=1000)"
   ]
  },
  {
   "cell_type": "code",
   "execution_count": 420,
   "metadata": {},
   "outputs": [],
   "source": [
    "eval_inp_func = tf.estimator.inputs.pandas_input_fn(X_test,y_test,batch_size=10,\n",
    "                                                   num_epochs=1,\n",
    "                                                   shuffle=False)"
   ]
  },
  {
   "cell_type": "code",
   "execution_count": 421,
   "metadata": {},
   "outputs": [
    {
     "name": "stdout",
     "output_type": "stream",
     "text": [
      "INFO:tensorflow:Calling model_fn.\n",
      "WARNING:tensorflow:Trapezoidal rule is known to produce incorrect PR-AUCs; please switch to \"careful_interpolation\" instead.\n",
      "WARNING:tensorflow:Trapezoidal rule is known to produce incorrect PR-AUCs; please switch to \"careful_interpolation\" instead.\n",
      "INFO:tensorflow:Done calling model_fn.\n",
      "INFO:tensorflow:Starting evaluation at 2018-08-21-04:48:24\n",
      "INFO:tensorflow:Graph was finalized.\n",
      "INFO:tensorflow:Restoring parameters from /var/folders/tg/g7jktb5j5w53lzlrgd3g453x9xwy6b/T/tmpr6_1dhso/model.ckpt-1000\n",
      "INFO:tensorflow:Running local_init_op.\n",
      "INFO:tensorflow:Done running local_init_op.\n",
      "INFO:tensorflow:Finished evaluation at 2018-08-21-04:48:24\n",
      "INFO:tensorflow:Saving dict for global step 1000: accuracy = 0.7362205, accuracy_baseline = 0.65748036, auc = 0.80322117, auc_precision_recall = 0.6584536, average_loss = 0.53269804, global_step = 1000, label/mean = 0.34251967, loss = 5.20405, precision = 0.59615386, prediction/mean = 0.39927343, recall = 0.7126437\n",
      "INFO:tensorflow:Saving 'checkpoint_path' summary for global step 1000: /var/folders/tg/g7jktb5j5w53lzlrgd3g453x9xwy6b/T/tmpr6_1dhso/model.ckpt-1000\n"
     ]
    },
    {
     "data": {
      "text/plain": [
       "{'accuracy': 0.7362205,\n",
       " 'accuracy_baseline': 0.65748036,\n",
       " 'auc': 0.80322117,\n",
       " 'auc_precision_recall': 0.6584536,\n",
       " 'average_loss': 0.53269804,\n",
       " 'global_step': 1000,\n",
       " 'label/mean': 0.34251967,\n",
       " 'loss': 5.20405,\n",
       " 'precision': 0.59615386,\n",
       " 'prediction/mean': 0.39927343,\n",
       " 'recall': 0.7126437}"
      ]
     },
     "execution_count": 421,
     "metadata": {},
     "output_type": "execute_result"
    }
   ],
   "source": [
    "dnn_model.evaluate(eval_inp_func)"
   ]
  },
  {
   "cell_type": "markdown",
   "metadata": {},
   "source": [
    "From here we are getting into CNN. To start with we solve MNIST problem with basic approach and later solve it using CNN"
   ]
  },
  {
   "cell_type": "code",
   "execution_count": 1,
   "metadata": {},
   "outputs": [
    {
     "name": "stderr",
     "output_type": "stream",
     "text": [
      "/anaconda/envs/tfdeeplearning/lib/python3.5/importlib/_bootstrap.py:222: RuntimeWarning: compiletime version 3.6 of module 'tensorflow.python.framework.fast_tensor_util' does not match runtime version 3.5\n",
      "  return f(*args, **kwds)\n"
     ]
    }
   ],
   "source": [
    "import tensorflow as tf"
   ]
  },
  {
   "cell_type": "code",
   "execution_count": 3,
   "metadata": {},
   "outputs": [],
   "source": [
    "from tensorflow.examples.tutorials.mnist import input_data"
   ]
  },
  {
   "cell_type": "code",
   "execution_count": 4,
   "metadata": {},
   "outputs": [
    {
     "name": "stdout",
     "output_type": "stream",
     "text": [
      "WARNING:tensorflow:From <ipython-input-4-3d8a9d232fa5>:1: read_data_sets (from tensorflow.contrib.learn.python.learn.datasets.mnist) is deprecated and will be removed in a future version.\n",
      "Instructions for updating:\n",
      "Please use alternatives such as official/mnist/dataset.py from tensorflow/models.\n",
      "WARNING:tensorflow:From /anaconda/envs/tfdeeplearning/lib/python3.5/site-packages/tensorflow/contrib/learn/python/learn/datasets/mnist.py:260: maybe_download (from tensorflow.contrib.learn.python.learn.datasets.base) is deprecated and will be removed in a future version.\n",
      "Instructions for updating:\n",
      "Please write your own downloading logic.\n",
      "WARNING:tensorflow:From /anaconda/envs/tfdeeplearning/lib/python3.5/site-packages/tensorflow/contrib/learn/python/learn/datasets/mnist.py:262: extract_images (from tensorflow.contrib.learn.python.learn.datasets.mnist) is deprecated and will be removed in a future version.\n",
      "Instructions for updating:\n",
      "Please use tf.data to implement this functionality.\n",
      "Extracting MNIST_data/train-images-idx3-ubyte.gz\n",
      "WARNING:tensorflow:From /anaconda/envs/tfdeeplearning/lib/python3.5/site-packages/tensorflow/contrib/learn/python/learn/datasets/mnist.py:267: extract_labels (from tensorflow.contrib.learn.python.learn.datasets.mnist) is deprecated and will be removed in a future version.\n",
      "Instructions for updating:\n",
      "Please use tf.data to implement this functionality.\n",
      "Extracting MNIST_data/train-labels-idx1-ubyte.gz\n",
      "WARNING:tensorflow:From /anaconda/envs/tfdeeplearning/lib/python3.5/site-packages/tensorflow/contrib/learn/python/learn/datasets/mnist.py:110: dense_to_one_hot (from tensorflow.contrib.learn.python.learn.datasets.mnist) is deprecated and will be removed in a future version.\n",
      "Instructions for updating:\n",
      "Please use tf.one_hot on tensors.\n",
      "Extracting MNIST_data/t10k-images-idx3-ubyte.gz\n",
      "Extracting MNIST_data/t10k-labels-idx1-ubyte.gz\n",
      "WARNING:tensorflow:From /anaconda/envs/tfdeeplearning/lib/python3.5/site-packages/tensorflow/contrib/learn/python/learn/datasets/mnist.py:290: DataSet.__init__ (from tensorflow.contrib.learn.python.learn.datasets.mnist) is deprecated and will be removed in a future version.\n",
      "Instructions for updating:\n",
      "Please use alternatives such as official/mnist/dataset.py from tensorflow/models.\n"
     ]
    }
   ],
   "source": [
    "mnist = input_data.read_data_sets(\"MNIST_data\",one_hot=True)"
   ]
  },
  {
   "cell_type": "code",
   "execution_count": 5,
   "metadata": {},
   "outputs": [
    {
     "data": {
      "text/plain": [
       "tensorflow.contrib.learn.python.learn.datasets.base.Datasets"
      ]
     },
     "execution_count": 5,
     "metadata": {},
     "output_type": "execute_result"
    }
   ],
   "source": [
    "type(mnist)"
   ]
  },
  {
   "cell_type": "code",
   "execution_count": 6,
   "metadata": {},
   "outputs": [
    {
     "data": {
      "text/plain": [
       "array([[0., 0., 0., ..., 0., 0., 0.],\n",
       "       [0., 0., 0., ..., 0., 0., 0.],\n",
       "       [0., 0., 0., ..., 0., 0., 0.],\n",
       "       ...,\n",
       "       [0., 0., 0., ..., 0., 0., 0.],\n",
       "       [0., 0., 0., ..., 0., 0., 0.],\n",
       "       [0., 0., 0., ..., 0., 0., 0.]], dtype=float32)"
      ]
     },
     "execution_count": 6,
     "metadata": {},
     "output_type": "execute_result"
    }
   ],
   "source": [
    "mnist.train.images"
   ]
  },
  {
   "cell_type": "code",
   "execution_count": 7,
   "metadata": {},
   "outputs": [
    {
     "data": {
      "text/plain": [
       "55000"
      ]
     },
     "execution_count": 7,
     "metadata": {},
     "output_type": "execute_result"
    }
   ],
   "source": [
    "mnist.train.num_examples"
   ]
  },
  {
   "cell_type": "code",
   "execution_count": 8,
   "metadata": {},
   "outputs": [
    {
     "data": {
      "text/plain": [
       "10000"
      ]
     },
     "execution_count": 8,
     "metadata": {},
     "output_type": "execute_result"
    }
   ],
   "source": [
    "mnist.test.num_examples"
   ]
  },
  {
   "cell_type": "code",
   "execution_count": 9,
   "metadata": {},
   "outputs": [],
   "source": [
    "single_image = mnist.train.images[1].reshape(28,28)"
   ]
  },
  {
   "cell_type": "code",
   "execution_count": 10,
   "metadata": {},
   "outputs": [],
   "source": [
    "import matplotlib.pyplot as plt\n",
    "%matplotlib inline"
   ]
  },
  {
   "cell_type": "code",
   "execution_count": 15,
   "metadata": {},
   "outputs": [
    {
     "data": {
      "text/plain": [
       "<matplotlib.image.AxesImage at 0x12bdae828>"
      ]
     },
     "execution_count": 15,
     "metadata": {},
     "output_type": "execute_result"
    },
    {
     "data": {
      "image/png": "[encoded data removed]",
      "text/plain": [
       "<Figure size 432x288 with 1 Axes>"
      ]
     },
     "metadata": {},
     "output_type": "display_data"
    }
   ],
   "source": [
    "plt.imshow(single_image,cmap='gist_gray')\n"
   ]
  },
  {
   "cell_type": "code",
   "execution_count": 16,
   "metadata": {},
   "outputs": [
    {
     "data": {
      "text/plain": [
       "0.0"
      ]
     },
     "execution_count": 16,
     "metadata": {},
     "output_type": "execute_result"
    }
   ],
   "source": [
    "single_image.min()"
   ]
  },
  {
   "cell_type": "code",
   "execution_count": 17,
   "metadata": {},
   "outputs": [
    {
     "data": {
      "text/plain": [
       "1.0"
      ]
     },
     "execution_count": 17,
     "metadata": {},
     "output_type": "execute_result"
    }
   ],
   "source": [
    "single_image.max()"
   ]
  },
  {
   "cell_type": "markdown",
   "metadata": {},
   "source": [
    "Since we now have our data setup, Lets create model"
   ]
  },
  {
   "cell_type": "code",
   "execution_count": 18,
   "metadata": {},
   "outputs": [],
   "source": [
    "# PLACEHOLDERS\n",
    "# Input"
   ]
  },
  {
   "cell_type": "code",
   "execution_count": 19,
   "metadata": {},
   "outputs": [],
   "source": [
    "# VARIABLES\n",
    "# Weights and Baises"
   ]
  },
  {
   "cell_type": "code",
   "execution_count": 20,
   "metadata": {},
   "outputs": [],
   "source": [
    "# GRAPH"
   ]
  },
  {
   "cell_type": "code",
   "execution_count": 21,
   "metadata": {},
   "outputs": [],
   "source": [
    "# LOSS FUNCTION"
   ]
  },
  {
   "cell_type": "code",
   "execution_count": 22,
   "metadata": {},
   "outputs": [],
   "source": [
    "# OPTIMISER"
   ]
  },
  {
   "cell_type": "code",
   "execution_count": 23,
   "metadata": {},
   "outputs": [],
   "source": [
    "# CREATE SESSION AND EXECUTE ALL"
   ]
  },
  {
   "cell_type": "code",
   "execution_count": null,
   "metadata": {},
   "outputs": [],
   "source": []
  }
 ],
 "metadata": {
  "kernelspec": {
   "display_name": "Python 3",
   "language": "python",
   "name": "python3"
  },
  "language_info": {
   "codemirror_mode": {
    "name": "ipython",
    "version": 3
   },
   "file_extension": ".py",
   "mimetype": "text/x-python",
   "name": "python",
   "nbconvert_exporter": "python",
   "pygments_lexer": "ipython3",
   "version": "3.5.5"
  }
 },
 "nbformat": 4,
 "nbformat_minor": 2
}
